{
  "nbformat": 4,
  "nbformat_minor": 0,
  "metadata": {
    "colab": {
      "provenance": [],
      "authorship_tag": "ABX9TyMFw9pXozRMw5Me6J9xCsyd",
      "include_colab_link": true
    },
    "kernelspec": {
      "name": "python3",
      "display_name": "Python 3"
    },
    "language_info": {
      "name": "python"
    }
  },
  "cells": [
    {
      "cell_type": "markdown",
      "metadata": {
        "id": "view-in-github",
        "colab_type": "text"
      },
      "source": [
        "<a href=\"https://colab.research.google.com/github/UmitOzteker/TensorFlow-Projects/blob/main/00_tensorflow_fundamentals.ipynb\" target=\"_parent\"><img src=\"https://colab.research.google.com/assets/colab-badge.svg\" alt=\"Open In Colab\"/></a>"
      ]
    },
    {
      "cell_type": "code",
      "execution_count": 66,
      "metadata": {
        "colab": {
          "base_uri": "https://localhost:8080/"
        },
        "id": "bNoIbZGi03ed",
        "outputId": "3ad95b72-0322-45fb-c49e-f8d5b7142282"
      },
      "outputs": [
        {
          "output_type": "stream",
          "name": "stdout",
          "text": [
            "2.15.0\n"
          ]
        }
      ],
      "source": [
        "#Import TensorFlow\n",
        "import tensorflow as tf\n",
        "print(tf.__version__)"
      ]
    },
    {
      "cell_type": "code",
      "source": [
        "#tf.constant() ile tensorlar oluşturma\n",
        "scalar = tf.constant(7)\n",
        "scalar"
      ],
      "metadata": {
        "id": "XeTGvMJ22I1j",
        "colab": {
          "base_uri": "https://localhost:8080/"
        },
        "outputId": "653bccf9-db67-47b7-97ff-a8f966550a8e"
      },
      "execution_count": 67,
      "outputs": [
        {
          "output_type": "execute_result",
          "data": {
            "text/plain": [
              "<tf.Tensor: shape=(), dtype=int32, numpy=7>"
            ]
          },
          "metadata": {},
          "execution_count": 67
        }
      ]
    },
    {
      "cell_type": "markdown",
      "source": [
        "#Tf.constant Tensör benzeri bir nesneden sabit bir tensör oluşturur."
      ],
      "metadata": {
        "id": "UGuf6i_x2eVQ"
      }
    },
    {
      "cell_type": "code",
      "source": [
        "# Bir Tensorun Boyut sayısını kontrol etme\n",
        "scalar.ndim # ndim= number of dimensions"
      ],
      "metadata": {
        "colab": {
          "base_uri": "https://localhost:8080/"
        },
        "id": "rCaKe5-t22_f",
        "outputId": "2a805488-cefd-4e9d-e546-a38e27e21845"
      },
      "execution_count": 68,
      "outputs": [
        {
          "output_type": "execute_result",
          "data": {
            "text/plain": [
              "0"
            ]
          },
          "metadata": {},
          "execution_count": 68
        }
      ]
    },
    {
      "cell_type": "code",
      "source": [
        "# Vector oluşturma\n",
        "vector = tf.constant([10,10])\n",
        "vector"
      ],
      "metadata": {
        "colab": {
          "base_uri": "https://localhost:8080/"
        },
        "id": "ddaAE2cx3VeM",
        "outputId": "c98ac9ab-1921-4ad5-8b79-373a0ae20164"
      },
      "execution_count": 69,
      "outputs": [
        {
          "output_type": "execute_result",
          "data": {
            "text/plain": [
              "<tf.Tensor: shape=(2,), dtype=int32, numpy=array([10, 10], dtype=int32)>"
            ]
          },
          "metadata": {},
          "execution_count": 69
        }
      ]
    },
    {
      "cell_type": "code",
      "source": [
        "# Vectorün boyutunu ölçme\n",
        "vector.ndim"
      ],
      "metadata": {
        "colab": {
          "base_uri": "https://localhost:8080/"
        },
        "id": "VZdSi3473cwh",
        "outputId": "41174b09-b6b6-4753-cd79-83cfe784f174"
      },
      "execution_count": 70,
      "outputs": [
        {
          "output_type": "execute_result",
          "data": {
            "text/plain": [
              "1"
            ]
          },
          "metadata": {},
          "execution_count": 70
        }
      ]
    },
    {
      "cell_type": "code",
      "source": [
        "# Matrix Oluşturma\n",
        "matrix = tf.constant([[10, 7],\n",
        "                      [7, 10]])\n",
        "matrix"
      ],
      "metadata": {
        "colab": {
          "base_uri": "https://localhost:8080/"
        },
        "id": "WPYz9aIM3mgz",
        "outputId": "4b190af3-63f5-4eb9-cac7-aa19c994fc65"
      },
      "execution_count": 71,
      "outputs": [
        {
          "output_type": "execute_result",
          "data": {
            "text/plain": [
              "<tf.Tensor: shape=(2, 2), dtype=int32, numpy=\n",
              "array([[10,  7],\n",
              "       [ 7, 10]], dtype=int32)>"
            ]
          },
          "metadata": {},
          "execution_count": 71
        }
      ]
    },
    {
      "cell_type": "code",
      "source": [
        "matrix.ndim"
      ],
      "metadata": {
        "colab": {
          "base_uri": "https://localhost:8080/"
        },
        "id": "SxnYZrni3ymF",
        "outputId": "8e823e85-9184-4a46-87fb-671302d4b9b5"
      },
      "execution_count": 72,
      "outputs": [
        {
          "output_type": "execute_result",
          "data": {
            "text/plain": [
              "2"
            ]
          },
          "metadata": {},
          "execution_count": 72
        }
      ]
    },
    {
      "cell_type": "code",
      "source": [
        "# Başka matrix oluşturma\n",
        "another_matrix = tf.constant([[10.,7.],\n",
        "                              [3.,2.],\n",
        "                              [8.,9,]],dtype =tf.float16) # dtype parametresi değiştirme default = int32\n",
        "another_matrix"
      ],
      "metadata": {
        "colab": {
          "base_uri": "https://localhost:8080/"
        },
        "id": "u3emz2G94Oj3",
        "outputId": "2d5809c5-a044-47bc-c689-2dd99ba047d0"
      },
      "execution_count": 73,
      "outputs": [
        {
          "output_type": "execute_result",
          "data": {
            "text/plain": [
              "<tf.Tensor: shape=(3, 2), dtype=float16, numpy=\n",
              "array([[10.,  7.],\n",
              "       [ 3.,  2.],\n",
              "       [ 8.,  9.]], dtype=float16)>"
            ]
          },
          "metadata": {},
          "execution_count": 73
        }
      ]
    },
    {
      "cell_type": "code",
      "source": [
        "another_matrix.ndim"
      ],
      "metadata": {
        "colab": {
          "base_uri": "https://localhost:8080/"
        },
        "id": "TSGQ10-N48OR",
        "outputId": "edca3a6d-fe5b-4a4d-a9f4-be8a6d99b27e"
      },
      "execution_count": 74,
      "outputs": [
        {
          "output_type": "execute_result",
          "data": {
            "text/plain": [
              "2"
            ]
          },
          "metadata": {},
          "execution_count": 74
        }
      ]
    },
    {
      "cell_type": "code",
      "source": [
        "# Tensor oluşturma\n",
        "tensor = tf.constant([[[1, 2, 3],\n",
        "                       [4, 5, 6]],\n",
        "                      [[7, 8, 9],\n",
        "                       [10, 11, 12]],\n",
        "                      [[13, 14, 15],\n",
        "                       [16, 17, 18]]])\n",
        "tensor"
      ],
      "metadata": {
        "colab": {
          "base_uri": "https://localhost:8080/"
        },
        "id": "QirUAN7_5DJA",
        "outputId": "864cc801-f4a7-4fa7-ba10-4015f6300864"
      },
      "execution_count": 75,
      "outputs": [
        {
          "output_type": "execute_result",
          "data": {
            "text/plain": [
              "<tf.Tensor: shape=(3, 2, 3), dtype=int32, numpy=\n",
              "array([[[ 1,  2,  3],\n",
              "        [ 4,  5,  6]],\n",
              "\n",
              "       [[ 7,  8,  9],\n",
              "        [10, 11, 12]],\n",
              "\n",
              "       [[13, 14, 15],\n",
              "        [16, 17, 18]]], dtype=int32)>"
            ]
          },
          "metadata": {},
          "execution_count": 75
        }
      ]
    },
    {
      "cell_type": "code",
      "source": [
        "tensor.ndim"
      ],
      "metadata": {
        "colab": {
          "base_uri": "https://localhost:8080/"
        },
        "id": "tTBiUd095lcE",
        "outputId": "101d18b2-dfa1-4c34-ada6-3d73bca4abdd"
      },
      "execution_count": 76,
      "outputs": [
        {
          "output_type": "execute_result",
          "data": {
            "text/plain": [
              "3"
            ]
          },
          "metadata": {},
          "execution_count": 76
        }
      ]
    },
    {
      "cell_type": "markdown",
      "source": [
        "### tf.Variable ile Tensorler oluşturma\n",
        "TensorFlow değişkeni, programınızın yönettiği paylaşılan, kalıcı durumu temsil etmenin önerilen yoludur."
      ],
      "metadata": {
        "id": "FgsDNOpT5nLG"
      }
    },
    {
      "cell_type": "code",
      "source": [
        "changeable_tensor = tf.Variable([10,7])\n",
        "unchangeable_tensor = tf.constant([10,7])\n",
        "changeable_tensor,unchangeable_tensor"
      ],
      "metadata": {
        "colab": {
          "base_uri": "https://localhost:8080/"
        },
        "id": "2UqmZjbw6QEj",
        "outputId": "857e8f11-6f90-468d-d1ef-3e050305d769"
      },
      "execution_count": 77,
      "outputs": [
        {
          "output_type": "execute_result",
          "data": {
            "text/plain": [
              "(<tf.Variable 'Variable:0' shape=(2,) dtype=int32, numpy=array([10,  7], dtype=int32)>,\n",
              " <tf.Tensor: shape=(2,), dtype=int32, numpy=array([10,  7], dtype=int32)>)"
            ]
          },
          "metadata": {},
          "execution_count": 77
        }
      ]
    },
    {
      "cell_type": "code",
      "source": [
        "# Tensorun elementini değiştirme\n",
        "changeable_tensor[0].assign(7)"
      ],
      "metadata": {
        "colab": {
          "base_uri": "https://localhost:8080/"
        },
        "id": "ml3RvHMT7Eg-",
        "outputId": "6c2ffdfb-f4f7-459f-e171-34bfc5e415c8"
      },
      "execution_count": 78,
      "outputs": [
        {
          "output_type": "execute_result",
          "data": {
            "text/plain": [
              "<tf.Variable 'UnreadVariable' shape=(2,) dtype=int32, numpy=array([7, 7], dtype=int32)>"
            ]
          },
          "metadata": {},
          "execution_count": 78
        }
      ]
    },
    {
      "cell_type": "code",
      "source": [
        "#Constant eleman değiştireilemez\n",
        "unchangeable_tensor[0].assign(7)"
      ],
      "metadata": {
        "colab": {
          "base_uri": "https://localhost:8080/",
          "height": 315
        },
        "id": "hJPPuyHA7gER",
        "outputId": "db2d5c10-50a8-4c89-a20f-4ed64a291fdc"
      },
      "execution_count": 79,
      "outputs": [
        {
          "output_type": "error",
          "ename": "AttributeError",
          "evalue": "'tensorflow.python.framework.ops.EagerTensor' object has no attribute 'assign'",
          "traceback": [
            "\u001b[0;31m---------------------------------------------------------------------------\u001b[0m",
            "\u001b[0;31mAttributeError\u001b[0m                            Traceback (most recent call last)",
            "\u001b[0;32m<ipython-input-79-66ef5231ec0c>\u001b[0m in \u001b[0;36m<cell line: 2>\u001b[0;34m()\u001b[0m\n\u001b[1;32m      1\u001b[0m \u001b[0;31m#Constant eleman değiştireilemez\u001b[0m\u001b[0;34m\u001b[0m\u001b[0;34m\u001b[0m\u001b[0m\n\u001b[0;32m----> 2\u001b[0;31m \u001b[0munchangeable_tensor\u001b[0m\u001b[0;34m[\u001b[0m\u001b[0;36m0\u001b[0m\u001b[0;34m]\u001b[0m\u001b[0;34m.\u001b[0m\u001b[0massign\u001b[0m\u001b[0;34m(\u001b[0m\u001b[0;36m7\u001b[0m\u001b[0;34m)\u001b[0m\u001b[0;34m\u001b[0m\u001b[0;34m\u001b[0m\u001b[0m\n\u001b[0m",
            "\u001b[0;32m/usr/local/lib/python3.10/dist-packages/tensorflow/python/framework/tensor.py\u001b[0m in \u001b[0;36m__getattr__\u001b[0;34m(self, name)\u001b[0m\n\u001b[1;32m    259\u001b[0m         \u001b[0mtf\u001b[0m\u001b[0;34m.\u001b[0m\u001b[0mexperimental\u001b[0m\u001b[0;34m.\u001b[0m\u001b[0mnumpy\u001b[0m\u001b[0;34m.\u001b[0m\u001b[0mexperimental_enable_numpy_behavior\u001b[0m\u001b[0;34m(\u001b[0m\u001b[0;34m)\u001b[0m\u001b[0;34m\u001b[0m\u001b[0;34m\u001b[0m\u001b[0m\n\u001b[1;32m    260\u001b[0m       \"\"\")\n\u001b[0;32m--> 261\u001b[0;31m     \u001b[0mself\u001b[0m\u001b[0;34m.\u001b[0m\u001b[0m__getattribute__\u001b[0m\u001b[0;34m(\u001b[0m\u001b[0mname\u001b[0m\u001b[0;34m)\u001b[0m\u001b[0;34m\u001b[0m\u001b[0;34m\u001b[0m\u001b[0m\n\u001b[0m\u001b[1;32m    262\u001b[0m \u001b[0;34m\u001b[0m\u001b[0m\n\u001b[1;32m    263\u001b[0m   \u001b[0;34m@\u001b[0m\u001b[0mproperty\u001b[0m\u001b[0;34m\u001b[0m\u001b[0;34m\u001b[0m\u001b[0m\n",
            "\u001b[0;31mAttributeError\u001b[0m: 'tensorflow.python.framework.ops.EagerTensor' object has no attribute 'assign'"
          ]
        }
      ]
    },
    {
      "cell_type": "markdown",
      "source": [
        "# Random Tensorler Oluşturma\n",
        "\n",
        "Rastgele tensörler, rastgele sayılar içeren bazı ikili büyüklükteki tensörlerdir.\n",
        "\n",
        "Bu, sinir ağlarının verilerde öğrenmeye çalıştıkları ağırlıkları (örüntüleri) başlatmak için kullandıkları şeydir.\n",
        "\n",
        "Örneğin, bir sinir ağı öğrenme süreci genellikle rastgele n boyutlu bir sayı dizisini almayı ve bunları bir tür modeli temsil edene kadar (orijinal verileri temsil etmenin sıkıştırılmış bir yolu) hassaslaştırmayı içerir.\n",
        "\n"
      ],
      "metadata": {
        "id": "CWnYd8_x7365"
      }
    },
    {
      "cell_type": "code",
      "source": [
        "random_1 = tf.random.Generator.from_seed(42) # tekrarlanabilirlik için tohumu ayarlama\n",
        "random_1 = random_1.normal(shape=(3,2))\n",
        "random_2 = tf.random.Generator.from_seed(42)\n",
        "random_2 = random_2.normal(shape=(3,2))\n",
        "#Eşitlik Ölçümü\n",
        "random_1, random_2 , random_1==random_2"
      ],
      "metadata": {
        "colab": {
          "base_uri": "https://localhost:8080/"
        },
        "id": "-KPbpmqj8KxG",
        "outputId": "8679d35d-3015-40d4-9fc0-8f98679a0e11"
      },
      "execution_count": 80,
      "outputs": [
        {
          "output_type": "execute_result",
          "data": {
            "text/plain": [
              "(<tf.Tensor: shape=(3, 2), dtype=float32, numpy=\n",
              " array([[-0.7565803 , -0.06854702],\n",
              "        [ 0.07595026, -1.2573844 ],\n",
              "        [-0.23193763, -1.8107855 ]], dtype=float32)>,\n",
              " <tf.Tensor: shape=(3, 2), dtype=float32, numpy=\n",
              " array([[-0.7565803 , -0.06854702],\n",
              "        [ 0.07595026, -1.2573844 ],\n",
              "        [-0.23193763, -1.8107855 ]], dtype=float32)>,\n",
              " <tf.Tensor: shape=(3, 2), dtype=bool, numpy=\n",
              " array([[ True,  True],\n",
              "        [ True,  True],\n",
              "        [ True,  True]])>)"
            ]
          },
          "metadata": {},
          "execution_count": 80
        }
      ]
    },
    {
      "cell_type": "markdown",
      "source": [
        "#Shape:\n",
        "Oluşturulacak tensörün şeklini belirten bir dizi veya tuple. Örneğin, (3, 4) şeklinde bir tensör, 3 satır ve 4 sütun içeren bir matris oluşturur."
      ],
      "metadata": {
        "id": "6NRqRoPhEdX-"
      }
    },
    {
      "cell_type": "markdown",
      "source": [
        "#Tensorflow rastgele tohum nedir?\n",
        "Rastgele bir tohuma dayanan operasyonlar aslında onu iki tohumdan türetir: küresel ve operasyon düzeyindeki tohumlar. Bu küresel tohumu belirler. Operasyon seviyesindeki tohumlarla etkileşimleri şu şekildedir: Ne global tohum ne de operasyon tohumu ayarlanmamışsa: Bu işlem için rastgele seçilmiş bir tohum kullanılır."
      ],
      "metadata": {
        "id": "JKoXLu2R-oJb"
      }
    },
    {
      "cell_type": "markdown",
      "source": [
        "#Rastgele normal başlatıcı nedir?\n",
        "random_normal_initializer, tf'yi çağıran bir Başlatıcı örneğidir."
      ],
      "metadata": {
        "id": "FqgBwZyo9r8m"
      }
    },
    {
      "cell_type": "markdown",
      "source": [
        "# Bir tensörün sırasını karıştırma\n",
        "Diyelim ki 15.000 kedi ve köpek resmiyle çalışıyorsunuz ve ilk 10.000 resim kediye, sonraki 5.000 resim ise köpeğe ait. Bu sıra, sinir ağının öğrenme şeklini etkileyebilir (verilerin sırasını öğrenerek aşırı uyum sağlayabilir), bunun yerine verilerinizi taşımak iyi bir fikir olabilir.\n"
      ],
      "metadata": {
        "id": "6GFRIpap_u0j"
      }
    },
    {
      "cell_type": "code",
      "source": [
        "not_shuffled = tf.constant([[10, 7],\n",
        "                            [3, 4],\n",
        "                            [2, 5]])\n",
        "tf.random.shuffle(not_shuffled,seed =42)\n"
      ],
      "metadata": {
        "colab": {
          "base_uri": "https://localhost:8080/"
        },
        "id": "jeqO-l6qACxL",
        "outputId": "ca3ae4a0-6475-4b2d-94af-65601a007150"
      },
      "execution_count": 81,
      "outputs": [
        {
          "output_type": "execute_result",
          "data": {
            "text/plain": [
              "<tf.Tensor: shape=(3, 2), dtype=int32, numpy=\n",
              "array([[ 2,  5],\n",
              "       [10,  7],\n",
              "       [ 3,  4]], dtype=int32)>"
            ]
          },
          "metadata": {},
          "execution_count": 81
        }
      ]
    },
    {
      "cell_type": "code",
      "source": [
        "# Set the global random seed\n",
        "tf.random.set_seed(42)\n",
        "\n",
        "# Set the operation random seed\n",
        "tf.random.shuffle(not_shuffled, seed=42)"
      ],
      "metadata": {
        "colab": {
          "base_uri": "https://localhost:8080/"
        },
        "id": "vsEx4WC9B4kO",
        "outputId": "8663118b-1307-4ab8-9a99-7ffbbd019d88"
      },
      "execution_count": 82,
      "outputs": [
        {
          "output_type": "execute_result",
          "data": {
            "text/plain": [
              "<tf.Tensor: shape=(3, 2), dtype=int32, numpy=\n",
              "array([[10,  7],\n",
              "       [ 3,  4],\n",
              "       [ 2,  5]], dtype=int32)>"
            ]
          },
          "metadata": {},
          "execution_count": 82
        }
      ]
    },
    {
      "cell_type": "markdown",
      "source": [
        "#Neden Rakamlar Aynı Çıkmadı?\n",
        "Bunun nedeni tf.random.set_seed() belgelerinin 4 numaralı kuralıdır.\n",
        "\n",
        "\"4. Hem global hem de operasyon tohumu ayarlanmışsa: Her iki tohum da rastgele sırayı belirlemek için birlikte kullanılır.\"\n",
        "\n",
        "tf.random.set_seed(42) global çekirdeği ayarlar ve tf.random.shuffle(seed=42) içindeki tohum parametresi işlem tohumunu ayarlar.\n",
        "\n",
        "Çünkü, \"Rastgele bir tohuma dayanan operasyonlar aslında onu iki tohumdan türetir: Küresel ve operasyon düzeyindeki tohumlardan. Bu, küresel tohumu belirler.\""
      ],
      "metadata": {
        "id": "zWuuzmYTDUX5"
      }
    },
    {
      "cell_type": "markdown",
      "source": [
        "# Tensor oluşturmanın başka yolları"
      ],
      "metadata": {
        "id": "LZb_RdGRDdxz"
      }
    },
    {
      "cell_type": "code",
      "source": [
        "# Tüm tensorler 1\n",
        "tf.ones([8,88])"
      ],
      "metadata": {
        "id": "HSwRgNR2Dy0w"
      },
      "execution_count": null,
      "outputs": []
    },
    {
      "cell_type": "code",
      "source": [
        "# Tüm tensorler sıfır\n",
        "tf.zeros(shape = (3,4))\n"
      ],
      "metadata": {
        "colab": {
          "base_uri": "https://localhost:8080/"
        },
        "id": "hT3xh-DvD2Wv",
        "outputId": "d1321254-6634-41f1-a92b-22b4dc4a75c7"
      },
      "execution_count": 85,
      "outputs": [
        {
          "output_type": "execute_result",
          "data": {
            "text/plain": [
              "<tf.Tensor: shape=(3, 4), dtype=float32, numpy=\n",
              "array([[0., 0., 0., 0.],\n",
              "       [0., 0., 0., 0.],\n",
              "       [0., 0., 0., 0.]], dtype=float32)>"
            ]
          },
          "metadata": {},
          "execution_count": 85
        }
      ]
    },
    {
      "cell_type": "markdown",
      "source": [
        "Tensörler ile NumPy dizileri arasındaki temel fark, tensörlerin GPU'larda çalıştırılabilmesidir."
      ],
      "metadata": {
        "id": "iCSAXBrBEylH"
      }
    },
    {
      "cell_type": "code",
      "source": [
        "import numpy as np\n",
        "numpy_A = np.arange(1, 25, dtype=np.int32) #1 ila 25 arası dizi oluşturur\n",
        "numpy_A\n"
      ],
      "metadata": {
        "colab": {
          "base_uri": "https://localhost:8080/"
        },
        "id": "DDT-rNbCE3O5",
        "outputId": "e2bb4dd1-9335-4569-c3b2-04d9a20d1fc7"
      },
      "execution_count": 86,
      "outputs": [
        {
          "output_type": "execute_result",
          "data": {
            "text/plain": [
              "array([ 1,  2,  3,  4,  5,  6,  7,  8,  9, 10, 11, 12, 13, 14, 15, 16, 17,\n",
              "       18, 19, 20, 21, 22, 23, 24], dtype=int32)"
            ]
          },
          "metadata": {},
          "execution_count": 86
        }
      ]
    },
    {
      "cell_type": "code",
      "source": [
        "A = tf.constant(numpy_A, shape=(2, 3, 4))\n",
        "B = tf.constant(numpy_A)\n",
        "A, B\n"
      ],
      "metadata": {
        "colab": {
          "base_uri": "https://localhost:8080/"
        },
        "id": "HSoKePrdFPrU",
        "outputId": "91280865-1936-4749-b147-c0c06afb4fc8"
      },
      "execution_count": 87,
      "outputs": [
        {
          "output_type": "execute_result",
          "data": {
            "text/plain": [
              "(<tf.Tensor: shape=(2, 3, 4), dtype=int32, numpy=\n",
              " array([[[ 1,  2,  3,  4],\n",
              "         [ 5,  6,  7,  8],\n",
              "         [ 9, 10, 11, 12]],\n",
              " \n",
              "        [[13, 14, 15, 16],\n",
              "         [17, 18, 19, 20],\n",
              "         [21, 22, 23, 24]]], dtype=int32)>,\n",
              " <tf.Tensor: shape=(24,), dtype=int32, numpy=\n",
              " array([ 1,  2,  3,  4,  5,  6,  7,  8,  9, 10, 11, 12, 13, 14, 15, 16, 17,\n",
              "        18, 19, 20, 21, 22, 23, 24], dtype=int32)>)"
            ]
          },
          "metadata": {},
          "execution_count": 87
        }
      ]
    },
    {
      "cell_type": "markdown",
      "source": [
        "# Tensorlerden Bilgi Alma\n",
        "* Şekil: Bir tensörün her boyutunun uzunluğu (eleman sayısı).\n",
        "* Sıra: Tensör boyutlarının sayısı. Bir skaler rütbe 0'a, bir vektör derece 1'e, bir matris derece 2'ye, bir tensör derece n'ye sahiptir.\n",
        "* Eksen veya Boyut: Bir tensörün belirli bir boyutu.\n",
        "* Boyut: Tensördeki toplam öğe sayısı.\n",
        "\n",
        "\n",
        "\n"
      ],
      "metadata": {
        "id": "M5CKHACCFpJ-"
      }
    },
    {
      "cell_type": "code",
      "source": [
        "# 4. derece tensör oluşturma (4 boyut)\n",
        "rank_4_tensor = tf.zeros(shape=[2,3,4,5])\n",
        "rank_4_tensor"
      ],
      "metadata": {
        "colab": {
          "base_uri": "https://localhost:8080/"
        },
        "id": "7-oPJnOHGb63",
        "outputId": "cc608e55-b16a-41f5-e4b7-ee3d6fa1a29c"
      },
      "execution_count": 88,
      "outputs": [
        {
          "output_type": "execute_result",
          "data": {
            "text/plain": [
              "<tf.Tensor: shape=(2, 3, 4, 5), dtype=float32, numpy=\n",
              "array([[[[0., 0., 0., 0., 0.],\n",
              "         [0., 0., 0., 0., 0.],\n",
              "         [0., 0., 0., 0., 0.],\n",
              "         [0., 0., 0., 0., 0.]],\n",
              "\n",
              "        [[0., 0., 0., 0., 0.],\n",
              "         [0., 0., 0., 0., 0.],\n",
              "         [0., 0., 0., 0., 0.],\n",
              "         [0., 0., 0., 0., 0.]],\n",
              "\n",
              "        [[0., 0., 0., 0., 0.],\n",
              "         [0., 0., 0., 0., 0.],\n",
              "         [0., 0., 0., 0., 0.],\n",
              "         [0., 0., 0., 0., 0.]]],\n",
              "\n",
              "\n",
              "       [[[0., 0., 0., 0., 0.],\n",
              "         [0., 0., 0., 0., 0.],\n",
              "         [0., 0., 0., 0., 0.],\n",
              "         [0., 0., 0., 0., 0.]],\n",
              "\n",
              "        [[0., 0., 0., 0., 0.],\n",
              "         [0., 0., 0., 0., 0.],\n",
              "         [0., 0., 0., 0., 0.],\n",
              "         [0., 0., 0., 0., 0.]],\n",
              "\n",
              "        [[0., 0., 0., 0., 0.],\n",
              "         [0., 0., 0., 0., 0.],\n",
              "         [0., 0., 0., 0., 0.],\n",
              "         [0., 0., 0., 0., 0.]]]], dtype=float32)>"
            ]
          },
          "metadata": {},
          "execution_count": 88
        }
      ]
    },
    {
      "cell_type": "code",
      "source": [
        "rank_4_tensor[0]"
      ],
      "metadata": {
        "colab": {
          "base_uri": "https://localhost:8080/"
        },
        "id": "v4m5BtMgHKOU",
        "outputId": "e361dffb-15ea-4618-b5c1-62c29a5ab02e"
      },
      "execution_count": 89,
      "outputs": [
        {
          "output_type": "execute_result",
          "data": {
            "text/plain": [
              "<tf.Tensor: shape=(3, 4, 5), dtype=float32, numpy=\n",
              "array([[[0., 0., 0., 0., 0.],\n",
              "        [0., 0., 0., 0., 0.],\n",
              "        [0., 0., 0., 0., 0.],\n",
              "        [0., 0., 0., 0., 0.]],\n",
              "\n",
              "       [[0., 0., 0., 0., 0.],\n",
              "        [0., 0., 0., 0., 0.],\n",
              "        [0., 0., 0., 0., 0.],\n",
              "        [0., 0., 0., 0., 0.]],\n",
              "\n",
              "       [[0., 0., 0., 0., 0.],\n",
              "        [0., 0., 0., 0., 0.],\n",
              "        [0., 0., 0., 0., 0.],\n",
              "        [0., 0., 0., 0., 0.]]], dtype=float32)>"
            ]
          },
          "metadata": {},
          "execution_count": 89
        }
      ]
    },
    {
      "cell_type": "code",
      "source": [
        "rank_4_tensor.shape, rank_4_tensor.ndim, tf.size(rank_4_tensor)\n"
      ],
      "metadata": {
        "colab": {
          "base_uri": "https://localhost:8080/"
        },
        "id": "rp_4_POLHoMg",
        "outputId": "98a2d5ff-b23e-4b6e-8067-efb88c261881"
      },
      "execution_count": 90,
      "outputs": [
        {
          "output_type": "execute_result",
          "data": {
            "text/plain": [
              "(TensorShape([2, 3, 4, 5]), 4, <tf.Tensor: shape=(), dtype=int32, numpy=120>)"
            ]
          },
          "metadata": {},
          "execution_count": 90
        }
      ]
    },
    {
      "cell_type": "code",
      "source": [
        "# Tensörün çeşitli özelliklerini alın\n",
        "print(\"Her öğenin veri türü\", rank_4_tensor.dtype)\n",
        "print(\"Boyut sayısı (sıralama):\",rank_4_tensor.ndim)\n",
        "print(\"Tensörün şekli:\",rank_4_tensor.shape)\n",
        "print(\"Tensörün 0 ekseni boyunca elemanları:\",rank_4_tensor.shape[0])\n",
        "print(\"Tensörün son ekseni boyunca elemanlar:\",rank_4_tensor.shape[-1])\n",
        "print(\"Toplam öğe sayısı (2*3*4*5):\", tf.size(rank_4_tensor).numpy()) # .numpy() NumPy dizisine dönüştürür"
      ],
      "metadata": {
        "colab": {
          "base_uri": "https://localhost:8080/"
        },
        "id": "8eq7thVvH5vC",
        "outputId": "8203ff7c-4ff7-4dbe-e131-c9e2fdb831ce"
      },
      "execution_count": 91,
      "outputs": [
        {
          "output_type": "stream",
          "name": "stdout",
          "text": [
            "Her öğenin veri türü <dtype: 'float32'>\n",
            "Boyut sayısı (sıralama): 4\n",
            "Tensörün şekli: (2, 3, 4, 5)\n",
            "Tensörün 0 ekseni boyunca elemanları: 2\n",
            "Tensörün son ekseni boyunca elemanlar: 5\n",
            "Toplam öğe sayısı (2*3*4*5): 120\n"
          ]
        }
      ]
    },
    {
      "cell_type": "markdown",
      "source": [
        "#Tensörleri de Python listeleri gibi indeksleyebilme"
      ],
      "metadata": {
        "id": "_TBTCfe-I3Va"
      }
    },
    {
      "cell_type": "code",
      "source": [
        "# Her boyutun ilk 2 öğesini alın\n",
        "rank_4_tensor[:2, :2, :2, :2]"
      ],
      "metadata": {
        "colab": {
          "base_uri": "https://localhost:8080/"
        },
        "id": "5HIlQxqlJUeR",
        "outputId": "d34432eb-eb18-4319-cfb0-c4c5a7091355"
      },
      "execution_count": 92,
      "outputs": [
        {
          "output_type": "execute_result",
          "data": {
            "text/plain": [
              "<tf.Tensor: shape=(2, 2, 2, 2), dtype=float32, numpy=\n",
              "array([[[[0., 0.],\n",
              "         [0., 0.]],\n",
              "\n",
              "        [[0., 0.],\n",
              "         [0., 0.]]],\n",
              "\n",
              "\n",
              "       [[[0., 0.],\n",
              "         [0., 0.]],\n",
              "\n",
              "        [[0., 0.],\n",
              "         [0., 0.]]]], dtype=float32)>"
            ]
          },
          "metadata": {},
          "execution_count": 92
        }
      ]
    },
    {
      "cell_type": "code",
      "source": [
        "# Sonuncusu hariç her dizinden boyutu alma\n",
        "rank_4_tensor[:1,:1,:1,:]"
      ],
      "metadata": {
        "colab": {
          "base_uri": "https://localhost:8080/"
        },
        "id": "zEXuM4EwJwRM",
        "outputId": "e99dfe99-26fb-43ac-8860-b0ef8aa18788"
      },
      "execution_count": 93,
      "outputs": [
        {
          "output_type": "execute_result",
          "data": {
            "text/plain": [
              "<tf.Tensor: shape=(1, 1, 1, 5), dtype=float32, numpy=array([[[[0., 0., 0., 0., 0.]]]], dtype=float32)>"
            ]
          },
          "metadata": {},
          "execution_count": 93
        }
      ]
    },
    {
      "cell_type": "code",
      "source": [
        "# 2. derece tensör oluşturun (2 boyut)\n",
        "rank_2_tensor = tf.constant([[10, 7],\n",
        "                             [3, 4]])\n",
        "# Her satırın son öğesini alın\n",
        "rank_2_tensor[:, -1]"
      ],
      "metadata": {
        "colab": {
          "base_uri": "https://localhost:8080/"
        },
        "id": "xunYwuF6KAOK",
        "outputId": "ea32dfd3-8d2b-4042-c29f-dce81f042024"
      },
      "execution_count": 94,
      "outputs": [
        {
          "output_type": "execute_result",
          "data": {
            "text/plain": [
              "<tf.Tensor: shape=(2,), dtype=int32, numpy=array([7, 4], dtype=int32)>"
            ]
          },
          "metadata": {},
          "execution_count": 94
        }
      ]
    },
    {
      "cell_type": "markdown",
      "source": [
        "Ayrıca tf.newaxis'i kullanarak aynı bilgiyi mevcut tutarken tensörünüze boyutlar da ekleyebilirsiniz.\n"
      ],
      "metadata": {
        "id": "HbrEh0x2KoDJ"
      }
    },
    {
      "cell_type": "code",
      "source": [
        "# Ekstra bir boyut ekleyin\n",
        "rank_3_tensor = rank_2_tensor[..., tf.newaxis] # Python'da \"...\" \"önceki tüm boyutlar\" anlamına gelir\n",
        "rank_2_tensor, rank_3_tensor"
      ],
      "metadata": {
        "colab": {
          "base_uri": "https://localhost:8080/"
        },
        "id": "T2jO0RS0KpbU",
        "outputId": "82eb3c2c-ff04-44d5-b16a-d20b83d0371b"
      },
      "execution_count": 95,
      "outputs": [
        {
          "output_type": "execute_result",
          "data": {
            "text/plain": [
              "(<tf.Tensor: shape=(2, 2), dtype=int32, numpy=\n",
              " array([[10,  7],\n",
              "        [ 3,  4]], dtype=int32)>,\n",
              " <tf.Tensor: shape=(2, 2, 1), dtype=int32, numpy=\n",
              " array([[[10],\n",
              "         [ 7]],\n",
              " \n",
              "        [[ 3],\n",
              "         [ 4]]], dtype=int32)>)"
            ]
          },
          "metadata": {},
          "execution_count": 95
        }
      ]
    },
    {
      "cell_type": "code",
      "source": [
        "# tf.newaxis alternatifi\n",
        "tf.expand_dims(rank_2_tensor, axis=-1)"
      ],
      "metadata": {
        "colab": {
          "base_uri": "https://localhost:8080/"
        },
        "id": "VVJM-G-AK8C3",
        "outputId": "29b2b55e-8168-4fed-809d-4e7b8eb30220"
      },
      "execution_count": 96,
      "outputs": [
        {
          "output_type": "execute_result",
          "data": {
            "text/plain": [
              "<tf.Tensor: shape=(2, 2, 1), dtype=int32, numpy=\n",
              "array([[[10],\n",
              "        [ 7]],\n",
              "\n",
              "       [[ 3],\n",
              "        [ 4]]], dtype=int32)>"
            ]
          },
          "metadata": {},
          "execution_count": 96
        }
      ]
    },
    {
      "cell_type": "markdown",
      "source": [
        "#Tensorleri Manipüle Etmek\n",
        "Tensörlerdeki kalıpları bulmak (verilerin sayısal gösterimi), bunların manipüle edilmesini gerektirir.\n",
        "\n",
        "Yine TensorFlow'da modeller oluştururken bu model keşfinin büyük bir kısmı sizin için yapılır."
      ],
      "metadata": {
        "id": "I-W9SfOMMM3j"
      }
    },
    {
      "cell_type": "markdown",
      "source": [
        "#Basic operations\n",
        "+, -, * gibi Python operatörlerini kullanarak temel matematik işlemlerinin çoğunu doğrudan tensörler üzerinde gerçekleştirebilirsiniz."
      ],
      "metadata": {
        "id": "V9EoHHO4Mf65"
      }
    },
    {
      "cell_type": "code",
      "source": [
        "tensor = tf.constant([[10, 7],\n",
        "                      [3, 4]])\n",
        "tensor + 10\n",
        "# Tensor Değişmiyor"
      ],
      "metadata": {
        "colab": {
          "base_uri": "https://localhost:8080/"
        },
        "id": "CroQ3z84Mm9J",
        "outputId": "087ce30d-53ab-4cbc-bc91-2328a1c4f93f"
      },
      "execution_count": 97,
      "outputs": [
        {
          "output_type": "execute_result",
          "data": {
            "text/plain": [
              "<tf.Tensor: shape=(2, 2), dtype=int32, numpy=\n",
              "array([[20, 17],\n",
              "       [13, 14]], dtype=int32)>"
            ]
          },
          "metadata": {},
          "execution_count": 97
        }
      ]
    },
    {
      "cell_type": "code",
      "source": [
        "tensor*10"
      ],
      "metadata": {
        "colab": {
          "base_uri": "https://localhost:8080/"
        },
        "id": "V4dwvKq4Mutx",
        "outputId": "9b5c4dbc-84b3-42af-9773-22922863bcbb"
      },
      "execution_count": 98,
      "outputs": [
        {
          "output_type": "execute_result",
          "data": {
            "text/plain": [
              "<tf.Tensor: shape=(2, 2), dtype=int32, numpy=\n",
              "array([[100,  70],\n",
              "       [ 30,  40]], dtype=int32)>"
            ]
          },
          "metadata": {},
          "execution_count": 98
        }
      ]
    },
    {
      "cell_type": "code",
      "source": [
        "tensor-10"
      ],
      "metadata": {
        "colab": {
          "base_uri": "https://localhost:8080/"
        },
        "id": "P4sev_GpNAln",
        "outputId": "2818ebc8-cd86-40c7-9a28-78240ea5a1c4"
      },
      "execution_count": 99,
      "outputs": [
        {
          "output_type": "execute_result",
          "data": {
            "text/plain": [
              "<tf.Tensor: shape=(2, 2), dtype=int32, numpy=\n",
              "array([[ 0, -3],\n",
              "       [-7, -6]], dtype=int32)>"
            ]
          },
          "metadata": {},
          "execution_count": 99
        }
      ]
    },
    {
      "cell_type": "code",
      "source": [
        "tf.multiply(tensor,10)"
      ],
      "metadata": {
        "colab": {
          "base_uri": "https://localhost:8080/"
        },
        "id": "jFyEMVwiNBzA",
        "outputId": "6ad61f16-3d1c-4f80-87b1-249b230f9f5a"
      },
      "execution_count": 100,
      "outputs": [
        {
          "output_type": "execute_result",
          "data": {
            "text/plain": [
              "<tf.Tensor: shape=(2, 2), dtype=int32, numpy=\n",
              "array([[100,  70],\n",
              "       [ 30,  40]], dtype=int32)>"
            ]
          },
          "metadata": {},
          "execution_count": 100
        }
      ]
    },
    {
      "cell_type": "markdown",
      "source": [
        "# Matrix Çarpımı\n",
        "İç boyutlar eşleşmelidir:\n",
        "\n",
        "(3, 5) @ (3, 5) Çalışmaz\n",
        "\n",
        "(5, 3) @ (3, 5) Çalışır\n",
        "\n",
        "(3, 5) @ (5, 3) Çalışır\n",
        "\n",
        "Ortaya çıkan matris dış boyutların şekline sahip olmalı:\n",
        "\n",
        "(5, 3) @ (3, 5) -> (5, 5)\n",
        "\n",
        "(3, 5) @ (5, 3) -> (3, 3)"
      ],
      "metadata": {
        "id": "R7gq556fk6sI"
      }
    },
    {
      "cell_type": "code",
      "source": [
        "#Matrix Multiplication\n",
        "print(tensor)\n",
        "tf.matmul(tensor,tensor) #a matrisini b matrisiyle çarparak a * b sonucunu verir."
      ],
      "metadata": {
        "colab": {
          "base_uri": "https://localhost:8080/"
        },
        "id": "OAvCFyE1Zxg0",
        "outputId": "12e96b5e-6bbb-485a-8b05-c43bc35f1c4a"
      },
      "execution_count": 101,
      "outputs": [
        {
          "output_type": "stream",
          "name": "stdout",
          "text": [
            "tf.Tensor(\n",
            "[[10  7]\n",
            " [ 3  4]], shape=(2, 2), dtype=int32)\n"
          ]
        },
        {
          "output_type": "execute_result",
          "data": {
            "text/plain": [
              "<tf.Tensor: shape=(2, 2), dtype=int32, numpy=\n",
              "array([[121,  98],\n",
              "       [ 42,  37]], dtype=int32)>"
            ]
          },
          "metadata": {},
          "execution_count": 101
        }
      ]
    },
    {
      "cell_type": "code",
      "source": [
        "# \"@\" operatörü ile Matrix çarpımı\n",
        "tensor @ tensor"
      ],
      "metadata": {
        "colab": {
          "base_uri": "https://localhost:8080/"
        },
        "id": "_bkzrIkBbNQ9",
        "outputId": "4930bee9-53e9-4b05-baed-790fda510058"
      },
      "execution_count": 102,
      "outputs": [
        {
          "output_type": "execute_result",
          "data": {
            "text/plain": [
              "<tf.Tensor: shape=(2, 2), dtype=int32, numpy=\n",
              "array([[121,  98],\n",
              "       [ 42,  37]], dtype=int32)>"
            ]
          },
          "metadata": {},
          "execution_count": 102
        }
      ]
    },
    {
      "cell_type": "code",
      "source": [
        "# (3, 2) Tensor oluşturma\n",
        "X = tf.constant([[1, 2],\n",
        "                 [3, 4],\n",
        "                 [5, 6]])\n",
        "# Başka (3, 2) Tensor Oluşturma\n",
        "\n",
        "Y = tf.constant([[7, 8],\n",
        "                 [9, 10],\n",
        "                 [11, 12]])\n",
        "X, Y"
      ],
      "metadata": {
        "colab": {
          "base_uri": "https://localhost:8080/"
        },
        "id": "n6koY6ULjdkU",
        "outputId": "7a258569-3908-4804-fdc2-ff0d65294fe2"
      },
      "execution_count": 103,
      "outputs": [
        {
          "output_type": "execute_result",
          "data": {
            "text/plain": [
              "(<tf.Tensor: shape=(3, 2), dtype=int32, numpy=\n",
              " array([[1, 2],\n",
              "        [3, 4],\n",
              "        [5, 6]], dtype=int32)>,\n",
              " <tf.Tensor: shape=(3, 2), dtype=int32, numpy=\n",
              " array([[ 7,  8],\n",
              "        [ 9, 10],\n",
              "        [11, 12]], dtype=int32)>)"
            ]
          },
          "metadata": {},
          "execution_count": 103
        }
      ]
    },
    {
      "cell_type": "code",
      "source": [
        "# Aynı shape sahip matrixleri çarpmayı deneme\n",
        "tf.matmul(X, Y)"
      ],
      "metadata": {
        "colab": {
          "base_uri": "https://localhost:8080/",
          "height": 373
        },
        "id": "17XReCmHkcad",
        "outputId": "ecc88d06-b330-4219-fe9b-cfe8567fed10"
      },
      "execution_count": 104,
      "outputs": [
        {
          "output_type": "error",
          "ename": "InvalidArgumentError",
          "evalue": "{{function_node __wrapped__MatMul_device_/job:localhost/replica:0/task:0/device:CPU:0}} Matrix size-incompatible: In[0]: [3,2], In[1]: [3,2] [Op:MatMul] name: ",
          "traceback": [
            "\u001b[0;31m---------------------------------------------------------------------------\u001b[0m",
            "\u001b[0;31mInvalidArgumentError\u001b[0m                      Traceback (most recent call last)",
            "\u001b[0;32m<ipython-input-104-ad4a1036aac8>\u001b[0m in \u001b[0;36m<cell line: 2>\u001b[0;34m()\u001b[0m\n\u001b[1;32m      1\u001b[0m \u001b[0;31m# Aynı shape sahip matrixleri çarpmayı deneme\u001b[0m\u001b[0;34m\u001b[0m\u001b[0;34m\u001b[0m\u001b[0m\n\u001b[0;32m----> 2\u001b[0;31m \u001b[0mtf\u001b[0m\u001b[0;34m.\u001b[0m\u001b[0mmatmul\u001b[0m\u001b[0;34m(\u001b[0m\u001b[0mX\u001b[0m\u001b[0;34m,\u001b[0m \u001b[0mY\u001b[0m\u001b[0;34m)\u001b[0m\u001b[0;34m\u001b[0m\u001b[0;34m\u001b[0m\u001b[0m\n\u001b[0m",
            "\u001b[0;32m/usr/local/lib/python3.10/dist-packages/tensorflow/python/ops/weak_tensor_ops.py\u001b[0m in \u001b[0;36mwrapper\u001b[0;34m(*args, **kwargs)\u001b[0m\n\u001b[1;32m    140\u001b[0m   \u001b[0;32mdef\u001b[0m \u001b[0mwrapper\u001b[0m\u001b[0;34m(\u001b[0m\u001b[0;34m*\u001b[0m\u001b[0margs\u001b[0m\u001b[0;34m,\u001b[0m \u001b[0;34m**\u001b[0m\u001b[0mkwargs\u001b[0m\u001b[0;34m)\u001b[0m\u001b[0;34m:\u001b[0m\u001b[0;34m\u001b[0m\u001b[0;34m\u001b[0m\u001b[0m\n\u001b[1;32m    141\u001b[0m     \u001b[0;32mif\u001b[0m \u001b[0;32mnot\u001b[0m \u001b[0mops\u001b[0m\u001b[0;34m.\u001b[0m\u001b[0mis_auto_dtype_conversion_enabled\u001b[0m\u001b[0;34m(\u001b[0m\u001b[0;34m)\u001b[0m\u001b[0;34m:\u001b[0m\u001b[0;34m\u001b[0m\u001b[0;34m\u001b[0m\u001b[0m\n\u001b[0;32m--> 142\u001b[0;31m       \u001b[0;32mreturn\u001b[0m \u001b[0mop\u001b[0m\u001b[0;34m(\u001b[0m\u001b[0;34m*\u001b[0m\u001b[0margs\u001b[0m\u001b[0;34m,\u001b[0m \u001b[0;34m**\u001b[0m\u001b[0mkwargs\u001b[0m\u001b[0;34m)\u001b[0m\u001b[0;34m\u001b[0m\u001b[0;34m\u001b[0m\u001b[0m\n\u001b[0m\u001b[1;32m    143\u001b[0m     \u001b[0mbound_arguments\u001b[0m \u001b[0;34m=\u001b[0m \u001b[0msignature\u001b[0m\u001b[0;34m.\u001b[0m\u001b[0mbind\u001b[0m\u001b[0;34m(\u001b[0m\u001b[0;34m*\u001b[0m\u001b[0margs\u001b[0m\u001b[0;34m,\u001b[0m \u001b[0;34m**\u001b[0m\u001b[0mkwargs\u001b[0m\u001b[0;34m)\u001b[0m\u001b[0;34m\u001b[0m\u001b[0;34m\u001b[0m\u001b[0m\n\u001b[1;32m    144\u001b[0m     \u001b[0mbound_arguments\u001b[0m\u001b[0;34m.\u001b[0m\u001b[0mapply_defaults\u001b[0m\u001b[0;34m(\u001b[0m\u001b[0;34m)\u001b[0m\u001b[0;34m\u001b[0m\u001b[0;34m\u001b[0m\u001b[0m\n",
            "\u001b[0;32m/usr/local/lib/python3.10/dist-packages/tensorflow/python/util/traceback_utils.py\u001b[0m in \u001b[0;36merror_handler\u001b[0;34m(*args, **kwargs)\u001b[0m\n\u001b[1;32m    151\u001b[0m     \u001b[0;32mexcept\u001b[0m \u001b[0mException\u001b[0m \u001b[0;32mas\u001b[0m \u001b[0me\u001b[0m\u001b[0;34m:\u001b[0m\u001b[0;34m\u001b[0m\u001b[0;34m\u001b[0m\u001b[0m\n\u001b[1;32m    152\u001b[0m       \u001b[0mfiltered_tb\u001b[0m \u001b[0;34m=\u001b[0m \u001b[0m_process_traceback_frames\u001b[0m\u001b[0;34m(\u001b[0m\u001b[0me\u001b[0m\u001b[0;34m.\u001b[0m\u001b[0m__traceback__\u001b[0m\u001b[0;34m)\u001b[0m\u001b[0;34m\u001b[0m\u001b[0;34m\u001b[0m\u001b[0m\n\u001b[0;32m--> 153\u001b[0;31m       \u001b[0;32mraise\u001b[0m \u001b[0me\u001b[0m\u001b[0;34m.\u001b[0m\u001b[0mwith_traceback\u001b[0m\u001b[0;34m(\u001b[0m\u001b[0mfiltered_tb\u001b[0m\u001b[0;34m)\u001b[0m \u001b[0;32mfrom\u001b[0m \u001b[0;32mNone\u001b[0m\u001b[0;34m\u001b[0m\u001b[0;34m\u001b[0m\u001b[0m\n\u001b[0m\u001b[1;32m    154\u001b[0m     \u001b[0;32mfinally\u001b[0m\u001b[0;34m:\u001b[0m\u001b[0;34m\u001b[0m\u001b[0;34m\u001b[0m\u001b[0m\n\u001b[1;32m    155\u001b[0m       \u001b[0;32mdel\u001b[0m \u001b[0mfiltered_tb\u001b[0m\u001b[0;34m\u001b[0m\u001b[0;34m\u001b[0m\u001b[0m\n",
            "\u001b[0;32m/usr/local/lib/python3.10/dist-packages/tensorflow/python/framework/ops.py\u001b[0m in \u001b[0;36mraise_from_not_ok_status\u001b[0;34m(e, name)\u001b[0m\n\u001b[1;32m   5881\u001b[0m \u001b[0;32mdef\u001b[0m \u001b[0mraise_from_not_ok_status\u001b[0m\u001b[0;34m(\u001b[0m\u001b[0me\u001b[0m\u001b[0;34m,\u001b[0m \u001b[0mname\u001b[0m\u001b[0;34m)\u001b[0m \u001b[0;34m->\u001b[0m \u001b[0mNoReturn\u001b[0m\u001b[0;34m:\u001b[0m\u001b[0;34m\u001b[0m\u001b[0;34m\u001b[0m\u001b[0m\n\u001b[1;32m   5882\u001b[0m   \u001b[0me\u001b[0m\u001b[0;34m.\u001b[0m\u001b[0mmessage\u001b[0m \u001b[0;34m+=\u001b[0m \u001b[0;34m(\u001b[0m\u001b[0;34m\" name: \"\u001b[0m \u001b[0;34m+\u001b[0m \u001b[0mstr\u001b[0m\u001b[0;34m(\u001b[0m\u001b[0mname\u001b[0m \u001b[0;32mif\u001b[0m \u001b[0mname\u001b[0m \u001b[0;32mis\u001b[0m \u001b[0;32mnot\u001b[0m \u001b[0;32mNone\u001b[0m \u001b[0;32melse\u001b[0m \u001b[0;34m\"\"\u001b[0m\u001b[0;34m)\u001b[0m\u001b[0;34m)\u001b[0m\u001b[0;34m\u001b[0m\u001b[0;34m\u001b[0m\u001b[0m\n\u001b[0;32m-> 5883\u001b[0;31m   \u001b[0;32mraise\u001b[0m \u001b[0mcore\u001b[0m\u001b[0;34m.\u001b[0m\u001b[0m_status_to_exception\u001b[0m\u001b[0;34m(\u001b[0m\u001b[0me\u001b[0m\u001b[0;34m)\u001b[0m \u001b[0;32mfrom\u001b[0m \u001b[0;32mNone\u001b[0m  \u001b[0;31m# pylint: disable=protected-access\u001b[0m\u001b[0;34m\u001b[0m\u001b[0;34m\u001b[0m\u001b[0m\n\u001b[0m\u001b[1;32m   5884\u001b[0m \u001b[0;34m\u001b[0m\u001b[0m\n\u001b[1;32m   5885\u001b[0m \u001b[0;34m\u001b[0m\u001b[0m\n",
            "\u001b[0;31mInvalidArgumentError\u001b[0m: {{function_node __wrapped__MatMul_device_/job:localhost/replica:0/task:0/device:CPU:0}} Matrix size-incompatible: In[0]: [3,2], In[1]: [3,2] [Op:MatMul] name: "
          ]
        }
      ]
    },
    {
      "cell_type": "code",
      "source": [
        "# Y'nin şeklini değiştirme\n",
        "tf.reshape(Y, shape=(2,3))"
      ],
      "metadata": {
        "id": "DhJx5aXhktH_"
      },
      "execution_count": null,
      "outputs": []
    },
    {
      "cell_type": "code",
      "source": [
        "# X ile Değiştirilmiş Y'nin çarpımı\n",
        "X @ tf.reshape(Y, shape= (2,3))"
      ],
      "metadata": {
        "id": "vZfnhU4JmjuG"
      },
      "execution_count": null,
      "outputs": []
    },
    {
      "cell_type": "code",
      "source": [
        "tf.matmul(X, tf.reshape(Y, shape= (2,3)))"
      ],
      "metadata": {
        "colab": {
          "base_uri": "https://localhost:8080/"
        },
        "id": "SokDqA2EmvMV",
        "outputId": "98989aac-005b-4521-e23a-11ad9d83e069"
      },
      "execution_count": 105,
      "outputs": [
        {
          "output_type": "execute_result",
          "data": {
            "text/plain": [
              "<tf.Tensor: shape=(3, 3), dtype=int32, numpy=\n",
              "array([[ 27,  30,  33],\n",
              "       [ 61,  68,  75],\n",
              "       [ 95, 106, 117]], dtype=int32)>"
            ]
          },
          "metadata": {},
          "execution_count": 105
        }
      ]
    },
    {
      "cell_type": "code",
      "source": [
        "# Transpose ile reshape yapımı\n",
        "tf.transpose(X)"
      ],
      "metadata": {
        "colab": {
          "base_uri": "https://localhost:8080/"
        },
        "id": "3XkWE-Lwm4r3",
        "outputId": "5e49f321-4632-4de6-a81d-b701fce32006"
      },
      "execution_count": 106,
      "outputs": [
        {
          "output_type": "execute_result",
          "data": {
            "text/plain": [
              "<tf.Tensor: shape=(2, 3), dtype=int32, numpy=\n",
              "array([[1, 3, 5],\n",
              "       [2, 4, 6]], dtype=int32)>"
            ]
          },
          "metadata": {},
          "execution_count": 106
        }
      ]
    },
    {
      "cell_type": "markdown",
      "source": [
        "# Transpose:\n",
        "Transpose kolon ve sütunun yerlerini değiştirir"
      ],
      "metadata": {
        "id": "Ch2ZHcO_noT0"
      }
    },
    {
      "cell_type": "code",
      "source": [
        "tf.matmul(tf.transpose(X),Y)"
      ],
      "metadata": {
        "id": "In2pgfbOnwGH",
        "outputId": "c03f9ebf-cbcd-413e-a9ba-48d3713e6445",
        "colab": {
          "base_uri": "https://localhost:8080/"
        }
      },
      "execution_count": 107,
      "outputs": [
        {
          "output_type": "execute_result",
          "data": {
            "text/plain": [
              "<tf.Tensor: shape=(2, 2), dtype=int32, numpy=\n",
              "array([[ 89,  98],\n",
              "       [116, 128]], dtype=int32)>"
            ]
          },
          "metadata": {},
          "execution_count": 107
        }
      ]
    },
    {
      "cell_type": "markdown",
      "source": [
        "# Dot Product\n",
        "Değer olarak iki vektör alan ve sonuç olarak skaler bir değer döndüren işleme denir.\n",
        "\n",
        "Matrix çarpımı *tf.matmul* ve *tf.tensordot* kullanılarak yapılabilir"
      ],
      "metadata": {
        "id": "s7tS4DfRn5dQ"
      }
    },
    {
      "cell_type": "markdown",
      "source": [
        "# Tensordot:\n",
        "\n",
        "Tensordot (tensör daralması olarak da bilinir), eksenlerle belirtilen indeksler üzerinden a ve b'deki elemanların çarpımını toplar.\n",
        "\n",
        "Bu işlem numpy.tensordot(a, b, axes) işlemine karşılık gelir.\n",
        "\n",
        "Örnek 1: a ve b matrisler olduğunda (2. dereceden), eksen=1 durumu matris çarpımına eşdeğerdir.\n",
        "\n",
        "Örnek 2: a ve b matrisler olduğunda (2. sıra), eksenler = [[1], [0]] durumu matris çarpımına eşdeğerdir.\n",
        "\n",
        "Örnek 3: a ve b matrisler olduğunda (2. dereceden), eksenler=0 durumu 4. dereceden bir tensör olan dış çarpımı verir.\n"
      ],
      "metadata": {
        "id": "xCHEXIXwqR61"
      }
    },
    {
      "cell_type": "code",
      "source": [
        "# X ve Y için dot product kullanımı (X veya Y'nin transpose edilmesi gerekmektedir.)\n",
        "tf.tensordot(X, tf.transpose(Y), axes=1)"
      ],
      "metadata": {
        "id": "NJkl4_I_o8QR",
        "outputId": "277d1f10-5f02-4629-b603-86b18b6e0dd6",
        "colab": {
          "base_uri": "https://localhost:8080/"
        }
      },
      "execution_count": 108,
      "outputs": [
        {
          "output_type": "execute_result",
          "data": {
            "text/plain": [
              "<tf.Tensor: shape=(3, 3), dtype=int32, numpy=\n",
              "array([[ 23,  29,  35],\n",
              "       [ 53,  67,  81],\n",
              "       [ 83, 105, 127]], dtype=int32)>"
            ]
          },
          "metadata": {},
          "execution_count": 108
        }
      ]
    },
    {
      "cell_type": "code",
      "source": [
        "# Tranpose kullanarak X ve Y matrixinin çarpılması\n",
        "tf.matmul(X , tf.transpose(Y))"
      ],
      "metadata": {
        "id": "5cO1SaA1pzdg",
        "outputId": "b70d88f2-0f6a-4580-e642-ff0f48ecaab9",
        "colab": {
          "base_uri": "https://localhost:8080/"
        }
      },
      "execution_count": 109,
      "outputs": [
        {
          "output_type": "execute_result",
          "data": {
            "text/plain": [
              "<tf.Tensor: shape=(3, 3), dtype=int32, numpy=\n",
              "array([[ 23,  29,  35],\n",
              "       [ 53,  67,  81],\n",
              "       [ 83, 105, 127]], dtype=int32)>"
            ]
          },
          "metadata": {},
          "execution_count": 109
        }
      ]
    },
    {
      "cell_type": "code",
      "source": [
        "# Reshape kullanarak X ve Y Matrixlerinin çarpılması\n",
        "tf.matmul(X, tf.reshape(Y, shape=(2,3)))"
      ],
      "metadata": {
        "id": "koVJDZ3pq0p_",
        "outputId": "b6fa8690-523f-4b39-d168-4ce2312dbe2a",
        "colab": {
          "base_uri": "https://localhost:8080/"
        }
      },
      "execution_count": 110,
      "outputs": [
        {
          "output_type": "execute_result",
          "data": {
            "text/plain": [
              "<tf.Tensor: shape=(3, 3), dtype=int32, numpy=\n",
              "array([[ 27,  30,  33],\n",
              "       [ 61,  68,  75],\n",
              "       [ 95, 106, 117]], dtype=int32)>"
            ]
          },
          "metadata": {},
          "execution_count": 110
        }
      ]
    },
    {
      "cell_type": "code",
      "source": [
        "# Y, reshape edilmiş Y ve Transpose edilmiş Y'nin kontrol edilmesi\n",
        "print(\"Normal Y:\")\n",
        "print(Y, \"\\n\")\n",
        "\n",
        "print(\"(2,3)'e reshape edilmiş Y:\")\n",
        "print(tf.reshape(Y, shape=(2,3)),\"\\n\")\n",
        "\n",
        "print(\"Transposed edilmiş Y:\")\n",
        "print(tf.transpose(Y))"
      ],
      "metadata": {
        "id": "lmJn_QO7rDm_",
        "outputId": "d0bb73ad-353b-4de7-e136-f31c55b92408",
        "colab": {
          "base_uri": "https://localhost:8080/"
        }
      },
      "execution_count": 111,
      "outputs": [
        {
          "output_type": "stream",
          "name": "stdout",
          "text": [
            "Normal Y:\n",
            "tf.Tensor(\n",
            "[[ 7  8]\n",
            " [ 9 10]\n",
            " [11 12]], shape=(3, 2), dtype=int32) \n",
            "\n",
            "(2,3)'e reshape edilmiş Y:\n",
            "tf.Tensor(\n",
            "[[ 7  8  9]\n",
            " [10 11 12]], shape=(2, 3), dtype=int32) \n",
            "\n",
            "Transposed edilmiş Y:\n",
            "tf.Tensor(\n",
            "[[ 7  9 11]\n",
            " [ 8 10 12]], shape=(2, 3), dtype=int32)\n"
          ]
        }
      ]
    },
    {
      "cell_type": "markdown",
      "source": [
        "# Tensorün Data tipini değiştirme"
      ],
      "metadata": {
        "id": "unCoLOZm3hLU"
      }
    },
    {
      "cell_type": "code",
      "source": [
        "# default datatip (float32) ile yeni bir tensor oluşturma\n",
        "B = tf.constant([1.7,7.4])\n",
        "B.dtype"
      ],
      "metadata": {
        "id": "VTyFN-dk4dS1",
        "outputId": "14dd58a3-a7fb-45d5-f434-b7f6ce8988c0",
        "colab": {
          "base_uri": "https://localhost:8080/"
        }
      },
      "execution_count": 112,
      "outputs": [
        {
          "output_type": "execute_result",
          "data": {
            "text/plain": [
              "tf.float32"
            ]
          },
          "metadata": {},
          "execution_count": 112
        }
      ]
    },
    {
      "cell_type": "code",
      "source": [
        "C = tf.constant([7,10])\n",
        "C.dtype"
      ],
      "metadata": {
        "id": "hk999h084tU6",
        "outputId": "8e5e225e-6fe4-44b1-9343-981415b5b077",
        "colab": {
          "base_uri": "https://localhost:8080/"
        }
      },
      "execution_count": 113,
      "outputs": [
        {
          "output_type": "execute_result",
          "data": {
            "text/plain": [
              "tf.int32"
            ]
          },
          "metadata": {},
          "execution_count": 113
        }
      ]
    },
    {
      "cell_type": "markdown",
      "source": [
        "# Mixed Precision\n",
        "Karma hassasiyet, bir modelin daha hızlı çalışmasını ve daha az bellek kullanmasını sağlamak için eğitim sırasında bir modelde hem 16 bit hem de 32 bit kayan nokta türlerinin kullanılmasıdır. Sayısal kararlılık için modelin belirli kısımları 32 bitlik tiplerde tutularak, model daha düşük adım süresine sahip olacak ve doğruluk gibi değerlendirme ölçütleri açısından da eşit olarak eğitilecektir. Bu kılavuz, modellerinizi hızlandırmak için Keras karma hassas API'sinin nasıl kullanılacağını açıklar. Bu API'yi kullanmak, performansı modern GPU'larda 3 kattan ve TPU'larda %60'tan fazla artırabilir."
      ],
      "metadata": {
        "id": "IEF8cAVd4yA8"
      }
    },
    {
      "cell_type": "code",
      "source": [
        "# float32'yi float16'ya dönüştürme (reduced precision\n",
        "D = tf.cast(B, dtype=tf.float16)\n",
        "D\n"
      ],
      "metadata": {
        "id": "QZj_qiOD58me",
        "outputId": "daca501a-f670-4faa-b9c8-fc025cde89c9",
        "colab": {
          "base_uri": "https://localhost:8080/"
        }
      },
      "execution_count": 114,
      "outputs": [
        {
          "output_type": "execute_result",
          "data": {
            "text/plain": [
              "<tf.Tensor: shape=(2,), dtype=float16, numpy=array([1.7, 7.4], dtype=float16)>"
            ]
          },
          "metadata": {},
          "execution_count": 114
        }
      ]
    },
    {
      "cell_type": "code",
      "source": [
        "# int32'yi float32'ye dönüştürme\n",
        "E = tf.cast(C, dtype=tf.float32)\n",
        "E"
      ],
      "metadata": {
        "id": "JjD8Y49O6QYi",
        "outputId": "70ba328a-4a92-485a-82ea-5511566f379a",
        "colab": {
          "base_uri": "https://localhost:8080/"
        }
      },
      "execution_count": 115,
      "outputs": [
        {
          "output_type": "execute_result",
          "data": {
            "text/plain": [
              "<tf.Tensor: shape=(2,), dtype=float32, numpy=array([ 7., 10.], dtype=float32)>"
            ]
          },
          "metadata": {},
          "execution_count": 115
        }
      ]
    },
    {
      "cell_type": "markdown",
      "source": [
        "# Tensorleri Toplama\n",
        "\n",
        "Tüm öğelerin minimum değeri, maksimum değeri, ortalaması ve toplamı gibi şeyleri bulmak için tensörleri hızla toplayabilirsiniz (tüm tensör üzerinde hesaplama yapabilirsiniz).\n",
        "\n",
        "Bunu yapmak için toplama yöntemleri genellikle aşağıdaki gibi reduce()_[action] sözdizimine sahiptir:\n",
        "\n",
        "tf.reduce_min() - tensördeki minimum değeri bulun.\n",
        "\n",
        "tf.reduce_max() - tensördeki maksimum değeri bulun (en yüksek tahmin olasılığını bulmak istediğinizde faydalıdır).\n",
        "\n",
        "tf.reduce_mean() - bir tensördeki tüm öğelerin ortalamasını bulun.\n",
        "\n",
        "tf.reduce_sum() - bir tensördeki tüm elemanların toplamını bulun.\n",
        "\n",
        "Not: Tipik olarak bunların her biri matematik modülünün altındadır, ör. tf.math.reduce_min() ancak tf.reduce_min() takma adını kullanabilirsiniz.\n"
      ],
      "metadata": {
        "id": "lz7_0jJR7EUE"
      }
    },
    {
      "cell_type": "code",
      "source": [
        "# Kesin değeri bulma\n",
        "D = tf.constant([-7,-10])\n",
        "D"
      ],
      "metadata": {
        "id": "_wxUCuU77tNy",
        "outputId": "804aaf88-3620-4228-8f05-dcc6e0730d5c",
        "colab": {
          "base_uri": "https://localhost:8080/"
        }
      },
      "execution_count": 116,
      "outputs": [
        {
          "output_type": "execute_result",
          "data": {
            "text/plain": [
              "<tf.Tensor: shape=(2,), dtype=int32, numpy=array([ -7, -10], dtype=int32)>"
            ]
          },
          "metadata": {},
          "execution_count": 116
        }
      ]
    },
    {
      "cell_type": "code",
      "source": [
        "# Kesin değeri bulma\n",
        "tf.abs(D)"
      ],
      "metadata": {
        "id": "yMlq30cs_N5y",
        "outputId": "89fcab2d-9e72-47b6-96e5-d22bf0f8f2b6",
        "colab": {
          "base_uri": "https://localhost:8080/"
        }
      },
      "execution_count": 117,
      "outputs": [
        {
          "output_type": "execute_result",
          "data": {
            "text/plain": [
              "<tf.Tensor: shape=(2,), dtype=int32, numpy=array([ 7, 10], dtype=int32)>"
            ]
          },
          "metadata": {},
          "execution_count": 117
        }
      ]
    },
    {
      "cell_type": "code",
      "source": [
        "# Random tensor oluşturma 50 haneli 0 ile\n",
        "E = tf.constant(np.random.randint(0, 100, size = 50)) #Rastgele tamsayıları düşükten (dahil) yükseğe (hariç) döndürür\n",
        "E\n"
      ],
      "metadata": {
        "id": "uolPmo3c_SO7",
        "outputId": "37c4c38a-1819-4caa-c19e-a4d766e9d0f3",
        "colab": {
          "base_uri": "https://localhost:8080/"
        }
      },
      "execution_count": 119,
      "outputs": [
        {
          "output_type": "execute_result",
          "data": {
            "text/plain": [
              "<tf.Tensor: shape=(50,), dtype=int64, numpy=\n",
              "array([96, 69, 92, 67, 12, 87, 67, 96, 91, 65, 37, 93, 96, 20, 65, 93, 87,\n",
              "       29, 16, 79, 95, 44, 42, 52, 14, 22,  9, 76, 18, 90,  1, 31, 90, 89,\n",
              "       74, 52, 75, 87,  0, 27, 74,  3, 30, 87, 96, 73, 21, 49, 43,  6])>"
            ]
          },
          "metadata": {},
          "execution_count": 119
        }
      ]
    },
    {
      "cell_type": "code",
      "source": [
        "tf.size(E), E.shape, E.ndim"
      ],
      "metadata": {
        "id": "vGV8hbNFRbiB",
        "outputId": "8e85fc98-b689-4be9-fa3c-db6d29462324",
        "colab": {
          "base_uri": "https://localhost:8080/"
        }
      },
      "execution_count": 120,
      "outputs": [
        {
          "output_type": "execute_result",
          "data": {
            "text/plain": [
              "(<tf.Tensor: shape=(), dtype=int32, numpy=50>, TensorShape([50]), 1)"
            ]
          },
          "metadata": {},
          "execution_count": 120
        }
      ]
    },
    {
      "cell_type": "code",
      "source": [
        "#Minimum Bulma\n",
        "tf.reduce_min(E)\n"
      ],
      "metadata": {
        "id": "FA7SFhHyRgLY",
        "outputId": "94658627-94b4-483e-fd21-a8e6d3bd971c",
        "colab": {
          "base_uri": "https://localhost:8080/"
        }
      },
      "execution_count": 121,
      "outputs": [
        {
          "output_type": "execute_result",
          "data": {
            "text/plain": [
              "<tf.Tensor: shape=(), dtype=int64, numpy=0>"
            ]
          },
          "metadata": {},
          "execution_count": 121
        }
      ]
    },
    {
      "cell_type": "code",
      "source": [
        "# Maximum Bulma\n",
        "tf.reduce_max(E)"
      ],
      "metadata": {
        "id": "bSYVSclXRkAB",
        "outputId": "6d36baa7-2a1b-4735-9466-2147833f5f33",
        "colab": {
          "base_uri": "https://localhost:8080/"
        }
      },
      "execution_count": 124,
      "outputs": [
        {
          "output_type": "execute_result",
          "data": {
            "text/plain": [
              "<tf.Tensor: shape=(), dtype=int64, numpy=96>"
            ]
          },
          "metadata": {},
          "execution_count": 124
        }
      ]
    },
    {
      "cell_type": "code",
      "source": [
        "# Ortalama Bulma\n",
        "tf.reduce_mean(E)"
      ],
      "metadata": {
        "id": "CSQa1kNhRmNu",
        "outputId": "33fb2a76-61f1-4c6d-f11d-a97f21f84261",
        "colab": {
          "base_uri": "https://localhost:8080/"
        }
      },
      "execution_count": 125,
      "outputs": [
        {
          "output_type": "execute_result",
          "data": {
            "text/plain": [
              "<tf.Tensor: shape=(), dtype=int64, numpy=56>"
            ]
          },
          "metadata": {},
          "execution_count": 125
        }
      ]
    },
    {
      "cell_type": "code",
      "source": [
        "# Toplam Bulma\n",
        "tf.reduce_sum(E)"
      ],
      "metadata": {
        "id": "vf03UciRR2wB",
        "outputId": "931279b0-b1e5-4018-e4cc-ccd43f5c9de3",
        "colab": {
          "base_uri": "https://localhost:8080/"
        }
      },
      "execution_count": 126,
      "outputs": [
        {
          "output_type": "execute_result",
          "data": {
            "text/plain": [
              "<tf.Tensor: shape=(), dtype=int64, numpy=2827>"
            ]
          },
          "metadata": {},
          "execution_count": 126
        }
      ]
    },
    {
      "cell_type": "code",
      "source": [
        "# Tensor Varyansı Bulma\n",
        "import tensorflow_probability as tfp\n",
        "tfp.stats.variance(E)"
      ],
      "metadata": {
        "id": "ZOgqabKsR6yQ",
        "outputId": "3b32ca4d-ba67-4d77-9342-b640782e2e1e",
        "colab": {
          "base_uri": "https://localhost:8080/"
        }
      },
      "execution_count": 133,
      "outputs": [
        {
          "output_type": "execute_result",
          "data": {
            "text/plain": [
              "<tf.Tensor: shape=(), dtype=int64, numpy=1022>"
            ]
          },
          "metadata": {},
          "execution_count": 133
        }
      ]
    },
    {
      "cell_type": "code",
      "source": [
        "# Standart deviationu bulma\n",
        "tf.math.reduce_std(tf.cast(E, dtype=tf.float32))"
      ],
      "metadata": {
        "id": "0ELjtMx0Sc3-",
        "outputId": "8dd92ef9-0574-47ac-dfa1-ef955c681fc0",
        "colab": {
          "base_uri": "https://localhost:8080/"
        }
      },
      "execution_count": 134,
      "outputs": [
        {
          "output_type": "execute_result",
          "data": {
            "text/plain": [
              "<tf.Tensor: shape=(), dtype=float32, numpy=31.978874>"
            ]
          },
          "metadata": {},
          "execution_count": 134
        }
      ]
    },
    {
      "cell_type": "code",
      "source": [],
      "metadata": {
        "id": "HLFv2XywTtGS"
      },
      "execution_count": null,
      "outputs": []
    }
  ]
}
{
  "nbformat": 4,
  "nbformat_minor": 0,
  "metadata": {
    "colab": {
      "provenance": [],
      "authorship_tag": "ABX9TyPSidlm2H1yexoEYDoF136U",
      "include_colab_link": true
    },
    "kernelspec": {
      "name": "python3",
      "display_name": "Python 3"
    },
    "language_info": {
      "name": "python"
    }
  },
  "cells": [
    {
      "cell_type": "markdown",
      "metadata": {
        "id": "view-in-github",
        "colab_type": "text"
      },
      "source": [
        "<a href=\"https://colab.research.google.com/github/UmitOzteker/TensorFlow-Projects/blob/main/01_neural_network_regression_in_tensorflow.ipynb\" target=\"_parent\"><img src=\"https://colab.research.google.com/assets/colab-badge.svg\" alt=\"Open In Colab\"/></a>"
      ]
    },
    {
      "cell_type": "markdown",
      "source": [
        "# Tensorflow ile Neural Networks Regression\n",
        "\n",
        "\n",
        "\n"
      ],
      "metadata": {
        "id": "3QXL_sGfNvCA"
      }
    },
    {
      "cell_type": "code",
      "source": [
        "import tensorflow as tf\n",
        "print(tf.__version__)"
      ],
      "metadata": {
        "colab": {
          "base_uri": "https://localhost:8080/"
        },
        "id": "y2cD6PLeOd9c",
        "outputId": "3b130c1d-9b2a-4e14-91d4-d25910bb8390"
      },
      "execution_count": 1,
      "outputs": [
        {
          "output_type": "stream",
          "name": "stdout",
          "text": [
            "2.15.0\n"
          ]
        }
      ]
    },
    {
      "cell_type": "markdown",
      "source": [
        "# Data Oluşturma ve Fit Etme"
      ],
      "metadata": {
        "id": "4D-SCd28OkzG"
      }
    },
    {
      "cell_type": "code",
      "source": [
        "import numpy as np\n",
        "import matplotlib.pyplot as plt\n",
        "\n",
        "# X: features/data (inputs)\n",
        "X = np.array([-7.0, -4.0, -1.0, 2.0, 5.0, 8.0, 11.0, 14.0])\n",
        "\n",
        "#y: labels (outputs)\n",
        "y = np.array([3.0, 6.0, 9.0, 12.0, 15.0, 18.0, 21.0, 24.0])\n",
        "\n",
        "#Görselleştirme\n",
        "plt.scatter(X, y)"
      ],
      "metadata": {
        "colab": {
          "base_uri": "https://localhost:8080/",
          "height": 452
        },
        "id": "CunRBjs5OwDU",
        "outputId": "5d3aa601-292a-4ac7-a623-954105f97735"
      },
      "execution_count": 2,
      "outputs": [
        {
          "output_type": "execute_result",
          "data": {
            "text/plain": [
              "<matplotlib.collections.PathCollection at 0x7b9dd204e770>"
            ]
          },
          "metadata": {},
          "execution_count": 2
        },
        {
          "output_type": "display_data",
          "data": {
            "text/plain": [
              "<Figure size 640x480 with 1 Axes>"
            ],
            "image/png": "[encoded data removed]"
          },
          "metadata": {}
        }
      ]
    },
    {
      "cell_type": "code",
      "source": [
        "y == X + 10"
      ],
      "metadata": {
        "colab": {
          "base_uri": "https://localhost:8080/"
        },
        "id": "Ce2forZ1PJSQ",
        "outputId": "76de5f50-dbe0-419b-bd26-385cda1f5942"
      },
      "execution_count": 3,
      "outputs": [
        {
          "output_type": "execute_result",
          "data": {
            "text/plain": [
              "array([ True,  True,  True,  True,  True,  True,  True,  True])"
            ]
          },
          "metadata": {},
          "execution_count": 3
        }
      ]
    },
    {
      "cell_type": "markdown",
      "source": [
        "## Regresyon input ve output şekilleri"
      ],
      "metadata": {
        "id": "EANUPXKyPvx5"
      }
    },
    {
      "cell_type": "code",
      "source": [
        "# Bir regresyon modelinin örnek girdi ve çıktı şekilleri\n",
        "house_info = tf.constant([\"bedroom\", \"bathroom\", \"garage\"])\n",
        "house_price = tf.constant([939700])\n",
        "house_info, house_price"
      ],
      "metadata": {
        "colab": {
          "base_uri": "https://localhost:8080/"
        },
        "id": "ltJpKrhbQIEJ",
        "outputId": "39beecee-894c-49c8-f9fb-5cab3e31f4f8"
      },
      "execution_count": 4,
      "outputs": [
        {
          "output_type": "execute_result",
          "data": {
            "text/plain": [
              "(<tf.Tensor: shape=(3,), dtype=string, numpy=array([b'bedroom', b'bathroom', b'garage'], dtype=object)>,\n",
              " <tf.Tensor: shape=(1,), dtype=int32, numpy=array([939700], dtype=int32)>)"
            ]
          },
          "metadata": {},
          "execution_count": 4
        }
      ]
    },
    {
      "cell_type": "code",
      "source": [
        "input_shape = X.shape\n",
        "output_shape =y.shape\n",
        "input_shape, output_shape"
      ],
      "metadata": {
        "colab": {
          "base_uri": "https://localhost:8080/"
        },
        "id": "S16cgVnyQljj",
        "outputId": "1d2693a9-a668-4a81-e62f-c9b41b9f7bb0"
      },
      "execution_count": 5,
      "outputs": [
        {
          "output_type": "execute_result",
          "data": {
            "text/plain": [
              "((8,), (8,))"
            ]
          },
          "metadata": {},
          "execution_count": 5
        }
      ]
    },
    {
      "cell_type": "code",
      "source": [
        "X[0].ndim"
      ],
      "metadata": {
        "colab": {
          "base_uri": "https://localhost:8080/"
        },
        "id": "PQvKwEPdQzvT",
        "outputId": "7494967d-ad6d-4c93-db6a-157560465ae0"
      },
      "execution_count": 6,
      "outputs": [
        {
          "output_type": "execute_result",
          "data": {
            "text/plain": [
              "0"
            ]
          },
          "metadata": {},
          "execution_count": 6
        }
      ]
    },
    {
      "cell_type": "code",
      "source": [
        "# Numpy Arrayleri Tensore dönüştürme\n",
        "X = tf.constant(X)\n",
        "y = tf.constant(y)\n",
        "X, y"
      ],
      "metadata": {
        "colab": {
          "base_uri": "https://localhost:8080/"
        },
        "id": "9ZXDja8fRFDz",
        "outputId": "c18f6cb5-73cf-4cef-9b34-2cd8cc7ecf67"
      },
      "execution_count": 7,
      "outputs": [
        {
          "output_type": "execute_result",
          "data": {
            "text/plain": [
              "(<tf.Tensor: shape=(8,), dtype=float64, numpy=array([-7., -4., -1.,  2.,  5.,  8., 11., 14.])>,\n",
              " <tf.Tensor: shape=(8,), dtype=float64, numpy=array([ 3.,  6.,  9., 12., 15., 18., 21., 24.])>)"
            ]
          },
          "metadata": {},
          "execution_count": 7
        }
      ]
    },
    {
      "cell_type": "code",
      "source": [
        "input_shape = X[0].shape\n",
        "output_shape = y[0].shape\n",
        "input_shape, output_shape"
      ],
      "metadata": {
        "colab": {
          "base_uri": "https://localhost:8080/"
        },
        "id": "mBg7vCBoR7fh",
        "outputId": "f0b5cfdd-ee71-475e-e814-187bade8b6fb"
      },
      "execution_count": 8,
      "outputs": [
        {
          "output_type": "execute_result",
          "data": {
            "text/plain": [
              "(TensorShape([]), TensorShape([]))"
            ]
          },
          "metadata": {},
          "execution_count": 8
        }
      ]
    },
    {
      "cell_type": "code",
      "source": [
        "plt.scatter(X, y)"
      ],
      "metadata": {
        "colab": {
          "base_uri": "https://localhost:8080/",
          "height": 452
        },
        "id": "1nZ2CCgRSMku",
        "outputId": "1da3437d-ff91-4420-d651-986410200368"
      },
      "execution_count": 9,
      "outputs": [
        {
          "output_type": "execute_result",
          "data": {
            "text/plain": [
              "<matplotlib.collections.PathCollection at 0x7b9ddab3d420>"
            ]
          },
          "metadata": {},
          "execution_count": 9
        },
        {
          "output_type": "display_data",
          "data": {
            "text/plain": [
              "<Figure size 640x480 with 1 Axes>"
            ],
            "image/png": "[encoded data removed]"
          },
          "metadata": {}
        }
      ]
    },
    {
      "cell_type": "markdown",
      "source": [
        "#TensorFlow ile modelleme adımları\n",
        "TensorFlow'da bir model oluşturmak ve eğitmek için genellikle 3 temel adım vardır.\n",
        "\n",
        "* Bir model oluşturma - Bir sinir ağının katmanlarını kendiniz bir araya getirin (İşlevsel veya Sıralı API'yi kullanarak) veya önceden oluşturulmuş bir modeli içe aktarın (transfer öğrenimi olarak bilinir).\n",
        "* Bir modelin derlenmesi - bir model performansının nasıl ölçülmesi gerektiğini (kayıp/metrikler) ve aynı zamanda nasıl iyileştirilmesi gerektiğini (optimizer) tanımlamak.\n",
        "* Bir modeli fit etmek - modelin verilerdeki kalıpları bulmasına izin vermek (X, y'ye nasıl ulaşır)."
      ],
      "metadata": {
        "id": "r4bOZwXwSST0"
      }
    },
    {
      "cell_type": "code",
      "source": [
        "tf.random.set_seed(42)\n",
        "\n",
        "# 1. Sequential API'yi kullanarak bir model oluşturun\n",
        "model = tf.keras.Sequential([\n",
        "    tf.keras.layers.Dense(1)\n",
        "])\n",
        "\n",
        "# 2. Compile işlemi\n",
        "model.compile(loss= tf.keras.losses.mae, # mae is short for mean absolute error\n",
        "              optimizer=tf.keras.optimizers.SGD(), # SGD is short for stochastic gradient descent\n",
        "              metrics=[\"mae\"]\n",
        ")\n",
        "\n",
        "# 3. Modeli fit etme\n",
        "model.fit(tf.expand_dims(X, axis=-1), y, epochs=5)"
      ],
      "metadata": {
        "colab": {
          "base_uri": "https://localhost:8080/"
        },
        "id": "5k_8Y7aNSsnT",
        "outputId": "9434cdf0-5e14-4573-c508-0a438fc28de4"
      },
      "execution_count": 10,
      "outputs": [
        {
          "output_type": "stream",
          "name": "stdout",
          "text": [
            "Epoch 1/5\n",
            "1/1 [==============================] - 1s 561ms/step - loss: 12.1701 - mae: 12.1701\n",
            "Epoch 2/5\n",
            "1/1 [==============================] - 0s 10ms/step - loss: 12.0376 - mae: 12.0376\n",
            "Epoch 3/5\n",
            "1/1 [==============================] - 0s 10ms/step - loss: 11.9051 - mae: 11.9051\n",
            "Epoch 4/5\n",
            "1/1 [==============================] - 0s 9ms/step - loss: 11.7726 - mae: 11.7726\n",
            "Epoch 5/5\n",
            "1/1 [==============================] - 0s 10ms/step - loss: 11.6401 - mae: 11.6401\n"
          ]
        },
        {
          "output_type": "execute_result",
          "data": {
            "text/plain": [
              "<keras.src.callbacks.History at 0x7b9dcccada50>"
            ]
          },
          "metadata": {},
          "execution_count": 10
        }
      ]
    },
    {
      "cell_type": "markdown",
      "source": [
        "**Loss**: Derin öğrenmede kayıp fonksiyonu (loss function), bir sinir ağı modelinin eğitim sürecinde kritik bir rol oynar. Bu fonksiyon, modelin tahminleri (çıktılar) ile gerçek veri değerleri (etiketler) arasındaki farkı ölçer. Eğitimin amacı bu kaybı en aza indirmektir, bu da modelin daha önce görmediği veriler üzerinde daha doğru tahminler yapmasını sağlar.\n",
        "\n",
        "* MAE: Ortalama Mutlak Hata (Mean Absolute Error) anlamına gelir. Derin öğrenmede bir kayıp fonksiyonu (loss function) olarak kullanılır. Kayıp fonksiyonları, bir modelin ne kadar iyi performans gösterdiğini ölçmek için kullanılır ve eğitim sırasında modelin parametrelerini optimize etmeye yardımcı olur. MAE bir modelin tahminleri ile gerçek değerler arasındaki ortalama mutlak farkı hesaplar. Mutlak fark, iki sayı arasındaki farkın mutlak değeridir. Örneğin, 3 ve 7 arasındaki mutlak fark 4'tür\n",
        "\n",
        "**Optimizer**: bir sinir ağ modelinin eğitim sürecinde kaybı (loss) en aza indirmek için kullanılan bir algoritmadır. Eğitim sırasında, optimizer modelin parametrelerini iteratif olarak günceller ve her güncellemede kaybın azalmasını sağlar.\n",
        "Farklı türde optimizer'lar mevcuttur:\n",
        "\n",
        "1. Stokastik Gradyan İnişi (SGD): En basit optimizer'lardan biridir. Her güncellemede, kaybın eğiminin ters yönünde bir adım atar. SGD, modelin parametrelerini (ağırlık ve önyargılar) iteratif bir şekilde güncelleyerek çalışır. Her güncellemede, aşağıdaki adımları uygular:\n",
        "\n",
        "* Örnek seç: Bir veri kümesinden rastgele bir örnek veya küçük bir örnek grubu (batch) seçer.\n",
        "* Model tahmini: Seçilen örnekler üzerinde modelin bir tahmin yapmasını sağlar.\n",
        "* Kayıp hesaplama: Tahmin edilen değer ile gerçek değer arasındaki kaybı hesaplar.\n",
        "* Gradyan hesaplama: Kaybın modele göre gradyanını hesaplar. Gradyan, kaybın modelin parametrelerine göre nasıl değiştiğini gösteren bir vektördür.\n",
        "* Parametre güncelleme: Modelin parametrelerini, gradyanın tersi yönünde öğrenme oranı ile çarpılmış bir miktar kadar günceller. Öğrenme oranı, güncellemelerin ne kadar büyük olacağını kontrol eden bir hiperparametredir.\n",
        "\n",
        "2. Adam: SGD'nin daha karmaşık bir versiyonudur. Daha hızlı ve daha istikrarlı bir eğitim süreci sağlayabilir.\n",
        "\n",
        "3. RMSProp: SGD'nin bir başka versiyonudur. Adam'a benzer, ancak daha az bellek kullanır.\n",
        "\n",
        "**Metrics**: Metrikler, bir modelin performansını değerlendirmek için kullanılan ölçümlerdir."
      ],
      "metadata": {
        "id": "ESf57I9zUfKA"
      }
    },
    {
      "cell_type": "code",
      "source": [
        "X, y"
      ],
      "metadata": {
        "colab": {
          "base_uri": "https://localhost:8080/"
        },
        "id": "IF_PH3idZaIH",
        "outputId": "a67fc85f-10cb-4a9b-cb65-bab89a3bf4b8"
      },
      "execution_count": 11,
      "outputs": [
        {
          "output_type": "execute_result",
          "data": {
            "text/plain": [
              "(<tf.Tensor: shape=(8,), dtype=float64, numpy=array([-7., -4., -1.,  2.,  5.,  8., 11., 14.])>,\n",
              " <tf.Tensor: shape=(8,), dtype=float64, numpy=array([ 3.,  6.,  9., 12., 15., 18., 21., 24.])>)"
            ]
          },
          "metadata": {},
          "execution_count": 11
        }
      ]
    },
    {
      "cell_type": "code",
      "source": [
        "# Modeli Predict İşlemi\n",
        "y_pred = model.predict([17.0])\n",
        "y_pred"
      ],
      "metadata": {
        "colab": {
          "base_uri": "https://localhost:8080/"
        },
        "id": "Qf3WikcdZbSS",
        "outputId": "98f4704b-fc9c-4188-a0ea-dd91925da9cf"
      },
      "execution_count": 12,
      "outputs": [
        {
          "output_type": "stream",
          "name": "stdout",
          "text": [
            "1/1 [==============================] - 0s 91ms/step\n"
          ]
        },
        {
          "output_type": "execute_result",
          "data": {
            "text/plain": [
              "array([[9.484437]], dtype=float32)"
            ]
          },
          "metadata": {},
          "execution_count": 12
        }
      ]
    },
    {
      "cell_type": "code",
      "source": [
        "y_pred + 11"
      ],
      "metadata": {
        "colab": {
          "base_uri": "https://localhost:8080/"
        },
        "id": "3qESkEGCZi2f",
        "outputId": "5c461f27-2c5c-4f74-bed0-803e8b2a4653"
      },
      "execution_count": 13,
      "outputs": [
        {
          "output_type": "execute_result",
          "data": {
            "text/plain": [
              "array([[20.484436]], dtype=float32)"
            ]
          },
          "metadata": {},
          "execution_count": 13
        }
      ]
    },
    {
      "cell_type": "markdown",
      "source": [
        "# Modeli Geliştirme\n"
      ],
      "metadata": {
        "id": "pAHY8AH7aBig"
      }
    },
    {
      "cell_type": "code",
      "source": [
        "model = tf.keras.Sequential([\n",
        "    tf.keras.layers.Dense(1)\n",
        "    ])\n",
        "\n",
        "model.compile(loss=tf.keras.losses.mae,\n",
        "              optimizer=tf.keras.optimizers.SGD(),\n",
        "              metrics=[\"mae\"])\n",
        "\n",
        "model.fit(tf.expand_dims(X, axis=-1), y, epochs=100)"
      ],
      "metadata": {
        "id": "8Eiy7QsyO7dL",
        "outputId": "4ef46cea-c665-49ef-ad4f-553ee45578fc",
        "colab": {
          "base_uri": "https://localhost:8080/"
        }
      },
      "execution_count": 14,
      "outputs": [
        {
          "output_type": "stream",
          "name": "stdout",
          "text": [
            "Epoch 1/100\n",
            "1/1 [==============================] - 0s 324ms/step - loss: 14.5061 - mae: 14.5061\n",
            "Epoch 2/100\n",
            "1/1 [==============================] - 0s 11ms/step - loss: 14.3736 - mae: 14.3736\n",
            "Epoch 3/100\n",
            "1/1 [==============================] - 0s 11ms/step - loss: 14.2411 - mae: 14.2411\n",
            "Epoch 4/100\n",
            "1/1 [==============================] - 0s 10ms/step - loss: 14.1086 - mae: 14.1086\n",
            "Epoch 5/100\n",
            "1/1 [==============================] - 0s 11ms/step - loss: 13.9761 - mae: 13.9761\n",
            "Epoch 6/100\n",
            "1/1 [==============================] - 0s 12ms/step - loss: 13.8436 - mae: 13.8436\n",
            "Epoch 7/100\n",
            "1/1 [==============================] - 0s 10ms/step - loss: 13.7111 - mae: 13.7111\n",
            "Epoch 8/100\n",
            "1/1 [==============================] - 0s 9ms/step - loss: 13.5786 - mae: 13.5786\n",
            "Epoch 9/100\n",
            "1/1 [==============================] - 0s 14ms/step - loss: 13.4461 - mae: 13.4461\n",
            "Epoch 10/100\n",
            "1/1 [==============================] - 0s 10ms/step - loss: 13.3136 - mae: 13.3136\n",
            "Epoch 11/100\n",
            "1/1 [==============================] - 0s 11ms/step - loss: 13.1811 - mae: 13.1811\n",
            "Epoch 12/100\n",
            "1/1 [==============================] - 0s 10ms/step - loss: 13.0486 - mae: 13.0486\n",
            "Epoch 13/100\n",
            "1/1 [==============================] - 0s 8ms/step - loss: 12.9161 - mae: 12.9161\n",
            "Epoch 14/100\n",
            "1/1 [==============================] - 0s 11ms/step - loss: 12.7836 - mae: 12.7836\n",
            "Epoch 15/100\n",
            "1/1 [==============================] - 0s 10ms/step - loss: 12.6511 - mae: 12.6511\n",
            "Epoch 16/100\n",
            "1/1 [==============================] - 0s 10ms/step - loss: 12.5186 - mae: 12.5186\n",
            "Epoch 17/100\n",
            "1/1 [==============================] - 0s 10ms/step - loss: 12.3861 - mae: 12.3861\n",
            "Epoch 18/100\n",
            "1/1 [==============================] - 0s 9ms/step - loss: 12.2536 - mae: 12.2536\n",
            "Epoch 19/100\n",
            "1/1 [==============================] - 0s 9ms/step - loss: 12.1211 - mae: 12.1211\n",
            "Epoch 20/100\n",
            "1/1 [==============================] - 0s 9ms/step - loss: 11.9886 - mae: 11.9886\n",
            "Epoch 21/100\n",
            "1/1 [==============================] - 0s 9ms/step - loss: 11.8561 - mae: 11.8561\n",
            "Epoch 22/100\n",
            "1/1 [==============================] - 0s 10ms/step - loss: 11.7236 - mae: 11.7236\n",
            "Epoch 23/100\n",
            "1/1 [==============================] - 0s 8ms/step - loss: 11.5911 - mae: 11.5911\n",
            "Epoch 24/100\n",
            "1/1 [==============================] - 0s 9ms/step - loss: 11.4586 - mae: 11.4586\n",
            "Epoch 25/100\n",
            "1/1 [==============================] - 0s 10ms/step - loss: 11.3261 - mae: 11.3261\n",
            "Epoch 26/100\n",
            "1/1 [==============================] - 0s 9ms/step - loss: 11.1936 - mae: 11.1936\n",
            "Epoch 27/100\n",
            "1/1 [==============================] - 0s 11ms/step - loss: 11.0611 - mae: 11.0611\n",
            "Epoch 28/100\n",
            "1/1 [==============================] - 0s 10ms/step - loss: 10.9286 - mae: 10.9286\n",
            "Epoch 29/100\n",
            "1/1 [==============================] - 0s 9ms/step - loss: 10.7961 - mae: 10.7961\n",
            "Epoch 30/100\n",
            "1/1 [==============================] - 0s 9ms/step - loss: 10.6636 - mae: 10.6636\n",
            "Epoch 31/100\n",
            "1/1 [==============================] - 0s 9ms/step - loss: 10.5311 - mae: 10.5311\n",
            "Epoch 32/100\n",
            "1/1 [==============================] - 0s 10ms/step - loss: 10.3986 - mae: 10.3986\n",
            "Epoch 33/100\n",
            "1/1 [==============================] - 0s 8ms/step - loss: 10.2661 - mae: 10.2661\n",
            "Epoch 34/100\n",
            "1/1 [==============================] - 0s 10ms/step - loss: 10.1336 - mae: 10.1336\n",
            "Epoch 35/100\n",
            "1/1 [==============================] - 0s 12ms/step - loss: 10.0011 - mae: 10.0011\n",
            "Epoch 36/100\n",
            "1/1 [==============================] - 0s 11ms/step - loss: 9.8686 - mae: 9.8686\n",
            "Epoch 37/100\n",
            "1/1 [==============================] - 0s 11ms/step - loss: 9.7361 - mae: 9.7361\n",
            "Epoch 38/100\n",
            "1/1 [==============================] - 0s 8ms/step - loss: 9.6036 - mae: 9.6036\n",
            "Epoch 39/100\n",
            "1/1 [==============================] - 0s 10ms/step - loss: 9.4711 - mae: 9.4711\n",
            "Epoch 40/100\n",
            "1/1 [==============================] - 0s 9ms/step - loss: 9.3386 - mae: 9.3386\n",
            "Epoch 41/100\n",
            "1/1 [==============================] - 0s 10ms/step - loss: 9.2061 - mae: 9.2061\n",
            "Epoch 42/100\n",
            "1/1 [==============================] - 0s 11ms/step - loss: 9.0736 - mae: 9.0736\n",
            "Epoch 43/100\n",
            "1/1 [==============================] - 0s 10ms/step - loss: 8.9411 - mae: 8.9411\n",
            "Epoch 44/100\n",
            "1/1 [==============================] - 0s 10ms/step - loss: 8.8086 - mae: 8.8086\n",
            "Epoch 45/100\n",
            "1/1 [==============================] - 0s 9ms/step - loss: 8.6761 - mae: 8.6761\n",
            "Epoch 46/100\n",
            "1/1 [==============================] - 0s 10ms/step - loss: 8.5436 - mae: 8.5436\n",
            "Epoch 47/100\n",
            "1/1 [==============================] - 0s 9ms/step - loss: 8.4111 - mae: 8.4111\n",
            "Epoch 48/100\n",
            "1/1 [==============================] - 0s 15ms/step - loss: 8.2786 - mae: 8.2786\n",
            "Epoch 49/100\n",
            "1/1 [==============================] - 0s 13ms/step - loss: 8.1461 - mae: 8.1461\n",
            "Epoch 50/100\n",
            "1/1 [==============================] - 0s 9ms/step - loss: 8.0136 - mae: 8.0136\n",
            "Epoch 51/100\n",
            "1/1 [==============================] - 0s 9ms/step - loss: 7.8811 - mae: 7.8811\n",
            "Epoch 52/100\n",
            "1/1 [==============================] - 0s 9ms/step - loss: 7.7486 - mae: 7.7486\n",
            "Epoch 53/100\n",
            "1/1 [==============================] - 0s 11ms/step - loss: 7.6161 - mae: 7.6161\n",
            "Epoch 54/100\n",
            "1/1 [==============================] - 0s 9ms/step - loss: 7.4836 - mae: 7.4836\n",
            "Epoch 55/100\n",
            "1/1 [==============================] - 0s 11ms/step - loss: 7.3511 - mae: 7.3511\n",
            "Epoch 56/100\n",
            "1/1 [==============================] - 0s 14ms/step - loss: 7.2186 - mae: 7.2186\n",
            "Epoch 57/100\n",
            "1/1 [==============================] - 0s 9ms/step - loss: 7.0861 - mae: 7.0861\n",
            "Epoch 58/100\n",
            "1/1 [==============================] - 0s 12ms/step - loss: 7.0725 - mae: 7.0725\n",
            "Epoch 59/100\n",
            "1/1 [==============================] - 0s 15ms/step - loss: 7.0669 - mae: 7.0669\n",
            "Epoch 60/100\n",
            "1/1 [==============================] - 0s 11ms/step - loss: 7.0612 - mae: 7.0612\n",
            "Epoch 61/100\n",
            "1/1 [==============================] - 0s 9ms/step - loss: 7.0556 - mae: 7.0556\n",
            "Epoch 62/100\n",
            "1/1 [==============================] - 0s 9ms/step - loss: 7.0500 - mae: 7.0500\n",
            "Epoch 63/100\n",
            "1/1 [==============================] - 0s 11ms/step - loss: 7.0444 - mae: 7.0444\n",
            "Epoch 64/100\n",
            "1/1 [==============================] - 0s 11ms/step - loss: 7.0388 - mae: 7.0388\n",
            "Epoch 65/100\n",
            "1/1 [==============================] - 0s 8ms/step - loss: 7.0331 - mae: 7.0331\n",
            "Epoch 66/100\n",
            "1/1 [==============================] - 0s 10ms/step - loss: 7.0275 - mae: 7.0275\n",
            "Epoch 67/100\n",
            "1/1 [==============================] - 0s 9ms/step - loss: 7.0219 - mae: 7.0219\n",
            "Epoch 68/100\n",
            "1/1 [==============================] - 0s 9ms/step - loss: 7.0163 - mae: 7.0163\n",
            "Epoch 69/100\n",
            "1/1 [==============================] - 0s 8ms/step - loss: 7.0106 - mae: 7.0106\n",
            "Epoch 70/100\n",
            "1/1 [==============================] - 0s 9ms/step - loss: 7.0050 - mae: 7.0050\n",
            "Epoch 71/100\n",
            "1/1 [==============================] - 0s 11ms/step - loss: 6.9994 - mae: 6.9994\n",
            "Epoch 72/100\n",
            "1/1 [==============================] - 0s 9ms/step - loss: 6.9938 - mae: 6.9938\n",
            "Epoch 73/100\n",
            "1/1 [==============================] - 0s 9ms/step - loss: 6.9881 - mae: 6.9881\n",
            "Epoch 74/100\n",
            "1/1 [==============================] - 0s 10ms/step - loss: 6.9825 - mae: 6.9825\n",
            "Epoch 75/100\n",
            "1/1 [==============================] - 0s 10ms/step - loss: 6.9769 - mae: 6.9769\n",
            "Epoch 76/100\n",
            "1/1 [==============================] - 0s 11ms/step - loss: 6.9713 - mae: 6.9713\n",
            "Epoch 77/100\n",
            "1/1 [==============================] - 0s 11ms/step - loss: 6.9656 - mae: 6.9656\n",
            "Epoch 78/100\n",
            "1/1 [==============================] - 0s 10ms/step - loss: 6.9600 - mae: 6.9600\n",
            "Epoch 79/100\n",
            "1/1 [==============================] - 0s 10ms/step - loss: 6.9544 - mae: 6.9544\n",
            "Epoch 80/100\n",
            "1/1 [==============================] - 0s 12ms/step - loss: 6.9488 - mae: 6.9488\n",
            "Epoch 81/100\n",
            "1/1 [==============================] - 0s 10ms/step - loss: 6.9431 - mae: 6.9431\n",
            "Epoch 82/100\n",
            "1/1 [==============================] - 0s 10ms/step - loss: 6.9375 - mae: 6.9375\n",
            "Epoch 83/100\n",
            "1/1 [==============================] - 0s 11ms/step - loss: 6.9319 - mae: 6.9319\n",
            "Epoch 84/100\n",
            "1/1 [==============================] - 0s 10ms/step - loss: 6.9263 - mae: 6.9263\n",
            "Epoch 85/100\n",
            "1/1 [==============================] - 0s 9ms/step - loss: 6.9206 - mae: 6.9206\n",
            "Epoch 86/100\n",
            "1/1 [==============================] - 0s 10ms/step - loss: 6.9150 - mae: 6.9150\n",
            "Epoch 87/100\n",
            "1/1 [==============================] - 0s 9ms/step - loss: 6.9094 - mae: 6.9094\n",
            "Epoch 88/100\n",
            "1/1 [==============================] - 0s 8ms/step - loss: 6.9038 - mae: 6.9038\n",
            "Epoch 89/100\n",
            "1/1 [==============================] - 0s 10ms/step - loss: 6.8981 - mae: 6.8981\n",
            "Epoch 90/100\n",
            "1/1 [==============================] - 0s 9ms/step - loss: 6.8925 - mae: 6.8925\n",
            "Epoch 91/100\n",
            "1/1 [==============================] - 0s 8ms/step - loss: 6.8869 - mae: 6.8869\n",
            "Epoch 92/100\n",
            "1/1 [==============================] - 0s 9ms/step - loss: 6.8813 - mae: 6.8813\n",
            "Epoch 93/100\n",
            "1/1 [==============================] - 0s 9ms/step - loss: 6.8756 - mae: 6.8756\n",
            "Epoch 94/100\n",
            "1/1 [==============================] - 0s 12ms/step - loss: 6.8700 - mae: 6.8700\n",
            "Epoch 95/100\n",
            "1/1 [==============================] - 0s 11ms/step - loss: 6.8644 - mae: 6.8644\n",
            "Epoch 96/100\n",
            "1/1 [==============================] - 0s 9ms/step - loss: 6.8588 - mae: 6.8588\n",
            "Epoch 97/100\n",
            "1/1 [==============================] - 0s 9ms/step - loss: 6.8531 - mae: 6.8531\n",
            "Epoch 98/100\n",
            "1/1 [==============================] - 0s 9ms/step - loss: 6.8475 - mae: 6.8475\n",
            "Epoch 99/100\n",
            "1/1 [==============================] - 0s 9ms/step - loss: 6.8419 - mae: 6.8419\n",
            "Epoch 100/100\n",
            "1/1 [==============================] - 0s 9ms/step - loss: 6.8363 - mae: 6.8363\n"
          ]
        },
        {
          "output_type": "execute_result",
          "data": {
            "text/plain": [
              "<keras.src.callbacks.History at 0x7b9dcc1b10c0>"
            ]
          },
          "metadata": {},
          "execution_count": 14
        }
      ]
    },
    {
      "cell_type": "code",
      "source": [
        "X, y"
      ],
      "metadata": {
        "id": "N-A91Mj0PrVO",
        "outputId": "0837160c-18b8-46b7-9f00-7b5738ca7942",
        "colab": {
          "base_uri": "https://localhost:8080/"
        }
      },
      "execution_count": 15,
      "outputs": [
        {
          "output_type": "execute_result",
          "data": {
            "text/plain": [
              "(<tf.Tensor: shape=(8,), dtype=float64, numpy=array([-7., -4., -1.,  2.,  5.,  8., 11., 14.])>,\n",
              " <tf.Tensor: shape=(8,), dtype=float64, numpy=array([ 3.,  6.,  9., 12., 15., 18., 21., 24.])>)"
            ]
          },
          "metadata": {},
          "execution_count": 15
        }
      ]
    },
    {
      "cell_type": "code",
      "source": [
        "# Doğru Cevap = 27\n",
        "model.predict([17.0])"
      ],
      "metadata": {
        "id": "YY6fd1cYQR8-",
        "outputId": "767edff5-dc2e-41bb-80b9-7e5c9f933c72",
        "colab": {
          "base_uri": "https://localhost:8080/"
        }
      },
      "execution_count": 16,
      "outputs": [
        {
          "output_type": "stream",
          "name": "stdout",
          "text": [
            "1/1 [==============================] - 0s 62ms/step\n"
          ]
        },
        {
          "output_type": "execute_result",
          "data": {
            "text/plain": [
              "array([[29.920828]], dtype=float32)"
            ]
          },
          "metadata": {},
          "execution_count": 16
        }
      ]
    },
    {
      "cell_type": "code",
      "source": [
        "model = tf.keras.Sequential([\n",
        "    tf.keras.layers.Dense(100, activation=\"relu\"),\n",
        "    tf.keras.layers.Dense(100, activation=\"relu\"),\n",
        "    tf.keras.layers.Dense(100, activation=\"relu\"),\n",
        "    tf.keras.layers.Dense(1),\n",
        "    ])\n",
        "\n",
        "model.compile(loss=tf.keras.losses.mae,\n",
        "              optimizer=tf.keras.optimizers.SGD(),\n",
        "              metrics=[\"mae\"])\n",
        "\n",
        "model.fit(tf.expand_dims(X, axis=-1), y, epochs=100)"
      ],
      "metadata": {
        "id": "_9WOLHAhQXC5",
        "outputId": "03a42b3e-c2bb-4498-c8df-dbd06e475323",
        "colab": {
          "base_uri": "https://localhost:8080/"
        }
      },
      "execution_count": 17,
      "outputs": [
        {
          "output_type": "stream",
          "name": "stdout",
          "text": [
            "Epoch 1/100\n",
            "1/1 [==============================] - 1s 572ms/step - loss: 13.9116 - mae: 13.9116\n",
            "Epoch 2/100\n",
            "1/1 [==============================] - 0s 13ms/step - loss: 13.4714 - mae: 13.4714\n",
            "Epoch 3/100\n",
            "1/1 [==============================] - 0s 10ms/step - loss: 13.1182 - mae: 13.1182\n",
            "Epoch 4/100\n",
            "1/1 [==============================] - 0s 9ms/step - loss: 12.7846 - mae: 12.7846\n",
            "Epoch 5/100\n",
            "1/1 [==============================] - 0s 11ms/step - loss: 12.4504 - mae: 12.4504\n",
            "Epoch 6/100\n",
            "1/1 [==============================] - 0s 11ms/step - loss: 12.1056 - mae: 12.1056\n",
            "Epoch 7/100\n",
            "1/1 [==============================] - 0s 9ms/step - loss: 11.7255 - mae: 11.7255\n",
            "Epoch 8/100\n",
            "1/1 [==============================] - 0s 9ms/step - loss: 11.2910 - mae: 11.2910\n",
            "Epoch 9/100\n",
            "1/1 [==============================] - 0s 11ms/step - loss: 10.7891 - mae: 10.7891\n",
            "Epoch 10/100\n",
            "1/1 [==============================] - 0s 11ms/step - loss: 10.1904 - mae: 10.1904\n",
            "Epoch 11/100\n",
            "1/1 [==============================] - 0s 10ms/step - loss: 9.4550 - mae: 9.4550\n",
            "Epoch 12/100\n",
            "1/1 [==============================] - 0s 10ms/step - loss: 8.5195 - mae: 8.5195\n",
            "Epoch 13/100\n",
            "1/1 [==============================] - 0s 9ms/step - loss: 7.3023 - mae: 7.3023\n",
            "Epoch 14/100\n",
            "1/1 [==============================] - 0s 10ms/step - loss: 5.7179 - mae: 5.7179\n",
            "Epoch 15/100\n",
            "1/1 [==============================] - 0s 13ms/step - loss: 3.9926 - mae: 3.9926\n",
            "Epoch 16/100\n",
            "1/1 [==============================] - 0s 14ms/step - loss: 3.9346 - mae: 3.9346\n",
            "Epoch 17/100\n",
            "1/1 [==============================] - 0s 10ms/step - loss: 3.9422 - mae: 3.9422\n",
            "Epoch 18/100\n",
            "1/1 [==============================] - 0s 9ms/step - loss: 3.9467 - mae: 3.9467\n",
            "Epoch 19/100\n",
            "1/1 [==============================] - 0s 9ms/step - loss: 3.8935 - mae: 3.8935\n",
            "Epoch 20/100\n",
            "1/1 [==============================] - 0s 9ms/step - loss: 3.9590 - mae: 3.9590\n",
            "Epoch 21/100\n",
            "1/1 [==============================] - 0s 9ms/step - loss: 3.8417 - mae: 3.8417\n",
            "Epoch 22/100\n",
            "1/1 [==============================] - 0s 9ms/step - loss: 3.9746 - mae: 3.9746\n",
            "Epoch 23/100\n",
            "1/1 [==============================] - 0s 11ms/step - loss: 3.7895 - mae: 3.7895\n",
            "Epoch 24/100\n",
            "1/1 [==============================] - 0s 11ms/step - loss: 3.9908 - mae: 3.9908\n",
            "Epoch 25/100\n",
            "1/1 [==============================] - 0s 9ms/step - loss: 3.7902 - mae: 3.7902\n",
            "Epoch 26/100\n",
            "1/1 [==============================] - 0s 13ms/step - loss: 3.9401 - mae: 3.9401\n",
            "Epoch 27/100\n",
            "1/1 [==============================] - 0s 10ms/step - loss: 3.8066 - mae: 3.8066\n",
            "Epoch 28/100\n",
            "1/1 [==============================] - 0s 11ms/step - loss: 3.8935 - mae: 3.8935\n",
            "Epoch 29/100\n",
            "1/1 [==============================] - 0s 11ms/step - loss: 3.8529 - mae: 3.8529\n",
            "Epoch 30/100\n",
            "1/1 [==============================] - 0s 12ms/step - loss: 3.8178 - mae: 3.8178\n",
            "Epoch 31/100\n",
            "1/1 [==============================] - 0s 10ms/step - loss: 3.8688 - mae: 3.8688\n",
            "Epoch 32/100\n",
            "1/1 [==============================] - 0s 11ms/step - loss: 3.7604 - mae: 3.7604\n",
            "Epoch 33/100\n",
            "1/1 [==============================] - 0s 9ms/step - loss: 3.8875 - mae: 3.8875\n",
            "Epoch 34/100\n",
            "1/1 [==============================] - 0s 9ms/step - loss: 3.7011 - mae: 3.7011\n",
            "Epoch 35/100\n",
            "1/1 [==============================] - 0s 10ms/step - loss: 3.9081 - mae: 3.9081\n",
            "Epoch 36/100\n",
            "1/1 [==============================] - 0s 12ms/step - loss: 3.7091 - mae: 3.7091\n",
            "Epoch 37/100\n",
            "1/1 [==============================] - 0s 9ms/step - loss: 3.8510 - mae: 3.8510\n",
            "Epoch 38/100\n",
            "1/1 [==============================] - 0s 11ms/step - loss: 3.7607 - mae: 3.7607\n",
            "Epoch 39/100\n",
            "1/1 [==============================] - 0s 10ms/step - loss: 3.7722 - mae: 3.7722\n",
            "Epoch 40/100\n",
            "1/1 [==============================] - 0s 10ms/step - loss: 3.7817 - mae: 3.7817\n",
            "Epoch 41/100\n",
            "1/1 [==============================] - 0s 11ms/step - loss: 3.7094 - mae: 3.7094\n",
            "Epoch 42/100\n",
            "1/1 [==============================] - 0s 10ms/step - loss: 3.8042 - mae: 3.8042\n",
            "Epoch 43/100\n",
            "1/1 [==============================] - 0s 17ms/step - loss: 3.6451 - mae: 3.6451\n",
            "Epoch 44/100\n",
            "1/1 [==============================] - 0s 10ms/step - loss: 3.8281 - mae: 3.8281\n",
            "Epoch 45/100\n",
            "1/1 [==============================] - 0s 8ms/step - loss: 3.6354 - mae: 3.6354\n",
            "Epoch 46/100\n",
            "1/1 [==============================] - 0s 8ms/step - loss: 3.7845 - mae: 3.7845\n",
            "Epoch 47/100\n",
            "1/1 [==============================] - 0s 12ms/step - loss: 3.6593 - mae: 3.6593\n",
            "Epoch 48/100\n",
            "1/1 [==============================] - 0s 10ms/step - loss: 3.7271 - mae: 3.7271\n",
            "Epoch 49/100\n",
            "1/1 [==============================] - 0s 10ms/step - loss: 3.7147 - mae: 3.7147\n",
            "Epoch 50/100\n",
            "1/1 [==============================] - 0s 10ms/step - loss: 3.6369 - mae: 3.6369\n",
            "Epoch 51/100\n",
            "1/1 [==============================] - 0s 9ms/step - loss: 3.7388 - mae: 3.7388\n",
            "Epoch 52/100\n",
            "1/1 [==============================] - 0s 10ms/step - loss: 3.5671 - mae: 3.5671\n",
            "Epoch 53/100\n",
            "1/1 [==============================] - 0s 10ms/step - loss: 3.7641 - mae: 3.7641\n",
            "Epoch 54/100\n",
            "1/1 [==============================] - 0s 13ms/step - loss: 3.5741 - mae: 3.5741\n",
            "Epoch 55/100\n",
            "1/1 [==============================] - 0s 10ms/step - loss: 3.6994 - mae: 3.6994\n",
            "Epoch 56/100\n",
            "1/1 [==============================] - 0s 11ms/step - loss: 3.6006 - mae: 3.6006\n",
            "Epoch 57/100\n",
            "1/1 [==============================] - 0s 12ms/step - loss: 3.6271 - mae: 3.6271\n",
            "Epoch 58/100\n",
            "1/1 [==============================] - 0s 10ms/step - loss: 3.6279 - mae: 3.6279\n",
            "Epoch 59/100\n",
            "1/1 [==============================] - 0s 10ms/step - loss: 3.5582 - mae: 3.5582\n",
            "Epoch 60/100\n",
            "1/1 [==============================] - 0s 13ms/step - loss: 3.6873 - mae: 3.6873\n",
            "Epoch 61/100\n",
            "1/1 [==============================] - 0s 9ms/step - loss: 3.5016 - mae: 3.5016\n",
            "Epoch 62/100\n",
            "1/1 [==============================] - 0s 9ms/step - loss: 3.6609 - mae: 3.6609\n",
            "Epoch 63/100\n",
            "1/1 [==============================] - 0s 9ms/step - loss: 3.5303 - mae: 3.5303\n",
            "Epoch 64/100\n",
            "1/1 [==============================] - 0s 9ms/step - loss: 3.5841 - mae: 3.5841\n",
            "Epoch 65/100\n",
            "1/1 [==============================] - 0s 12ms/step - loss: 3.5594 - mae: 3.5594\n",
            "Epoch 66/100\n",
            "1/1 [==============================] - 0s 10ms/step - loss: 3.5031 - mae: 3.5031\n",
            "Epoch 67/100\n",
            "1/1 [==============================] - 0s 15ms/step - loss: 3.5915 - mae: 3.5915\n",
            "Epoch 68/100\n",
            "1/1 [==============================] - 0s 22ms/step - loss: 3.4213 - mae: 3.4213\n",
            "Epoch 69/100\n",
            "1/1 [==============================] - 0s 16ms/step - loss: 3.6240 - mae: 3.6240\n",
            "Epoch 70/100\n",
            "1/1 [==============================] - 0s 15ms/step - loss: 3.4371 - mae: 3.4371\n",
            "Epoch 71/100\n",
            "1/1 [==============================] - 0s 17ms/step - loss: 3.5649 - mae: 3.5649\n",
            "Epoch 72/100\n",
            "1/1 [==============================] - 0s 18ms/step - loss: 3.4970 - mae: 3.4970\n",
            "Epoch 73/100\n",
            "1/1 [==============================] - 0s 15ms/step - loss: 3.4456 - mae: 3.4456\n",
            "Epoch 74/100\n",
            "1/1 [==============================] - 0s 19ms/step - loss: 3.5320 - mae: 3.5320\n",
            "Epoch 75/100\n",
            "1/1 [==============================] - 0s 25ms/step - loss: 3.3566 - mae: 3.3566\n",
            "Epoch 76/100\n",
            "1/1 [==============================] - 0s 22ms/step - loss: 3.5653 - mae: 3.5653\n",
            "Epoch 77/100\n",
            "1/1 [==============================] - 0s 12ms/step - loss: 3.3830 - mae: 3.3830\n",
            "Epoch 78/100\n",
            "1/1 [==============================] - 0s 16ms/step - loss: 3.4696 - mae: 3.4696\n",
            "Epoch 79/100\n",
            "1/1 [==============================] - 0s 13ms/step - loss: 3.4159 - mae: 3.4159\n",
            "Epoch 80/100\n",
            "1/1 [==============================] - 0s 23ms/step - loss: 3.3809 - mae: 3.3809\n",
            "Epoch 81/100\n",
            "1/1 [==============================] - 0s 11ms/step - loss: 3.4801 - mae: 3.4801\n",
            "Epoch 82/100\n",
            "1/1 [==============================] - 0s 17ms/step - loss: 3.3021 - mae: 3.3021\n",
            "Epoch 83/100\n",
            "1/1 [==============================] - 0s 19ms/step - loss: 3.4740 - mae: 3.4740\n",
            "Epoch 84/100\n",
            "1/1 [==============================] - 0s 17ms/step - loss: 3.3335 - mae: 3.3335\n",
            "Epoch 85/100\n",
            "1/1 [==============================] - 0s 21ms/step - loss: 3.3760 - mae: 3.3760\n",
            "Epoch 86/100\n",
            "1/1 [==============================] - 0s 17ms/step - loss: 3.3706 - mae: 3.3706\n",
            "Epoch 87/100\n",
            "1/1 [==============================] - 0s 22ms/step - loss: 3.2794 - mae: 3.2794\n",
            "Epoch 88/100\n",
            "1/1 [==============================] - 0s 26ms/step - loss: 3.4080 - mae: 3.4080\n",
            "Epoch 89/100\n",
            "1/1 [==============================] - 0s 18ms/step - loss: 3.2324 - mae: 3.2324\n",
            "Epoch 90/100\n",
            "1/1 [==============================] - 0s 13ms/step - loss: 3.3812 - mae: 3.3812\n",
            "Epoch 91/100\n",
            "1/1 [==============================] - 0s 20ms/step - loss: 3.2691 - mae: 3.2691\n",
            "Epoch 92/100\n",
            "1/1 [==============================] - 0s 22ms/step - loss: 3.2900 - mae: 3.2900\n",
            "Epoch 93/100\n",
            "1/1 [==============================] - 0s 16ms/step - loss: 3.3331 - mae: 3.3331\n",
            "Epoch 94/100\n",
            "1/1 [==============================] - 0s 16ms/step - loss: 3.1662 - mae: 3.1662\n",
            "Epoch 95/100\n",
            "1/1 [==============================] - 0s 16ms/step - loss: 3.3709 - mae: 3.3709\n",
            "Epoch 96/100\n",
            "1/1 [==============================] - 0s 12ms/step - loss: 3.1913 - mae: 3.1913\n",
            "Epoch 97/100\n",
            "1/1 [==============================] - 0s 14ms/step - loss: 3.2643 - mae: 3.2643\n",
            "Epoch 98/100\n",
            "1/1 [==============================] - 0s 18ms/step - loss: 3.2308 - mae: 3.2308\n",
            "Epoch 99/100\n",
            "1/1 [==============================] - 0s 9ms/step - loss: 3.1494 - mae: 3.1494\n",
            "Epoch 100/100\n",
            "1/1 [==============================] - 0s 9ms/step - loss: 3.2709 - mae: 3.2709\n"
          ]
        },
        {
          "output_type": "execute_result",
          "data": {
            "text/plain": [
              "<keras.src.callbacks.History at 0x7b9dcd56e650>"
            ]
          },
          "metadata": {},
          "execution_count": 17
        }
      ]
    },
    {
      "cell_type": "code",
      "source": [
        "# Doğru Cevap = 27\n",
        "model.predict([17.0])"
      ],
      "metadata": {
        "id": "-FK1FyMOQ2gq",
        "outputId": "5739b80a-5bd5-4b6c-d024-f0554cd68d3b",
        "colab": {
          "base_uri": "https://localhost:8080/"
        }
      },
      "execution_count": 18,
      "outputs": [
        {
          "output_type": "stream",
          "name": "stdout",
          "text": [
            "1/1 [==============================] - 0s 149ms/step\n"
          ]
        },
        {
          "output_type": "execute_result",
          "data": {
            "text/plain": [
              "array([[31.412415]], dtype=float32)"
            ]
          },
          "metadata": {},
          "execution_count": 18
        }
      ]
    },
    {
      "cell_type": "markdown",
      "source": [
        "# Modeli Geliştirme 2"
      ],
      "metadata": {
        "id": "H7kaKLRzQ6ED"
      }
    },
    {
      "cell_type": "code",
      "source": [
        "model = tf.keras.Sequential([\n",
        "    tf.keras.layers.Dense(100, activation=None),\n",
        "    tf.keras.layers.Dense(1)\n",
        "])\n",
        "\n",
        "model.compile(loss=tf.keras.losses.mae,\n",
        "              optimizer=tf.keras.optimizers.Adam(lr=0.01),\n",
        "              metrics=[\"mae\"])\n",
        "\n",
        "model.fit(tf.expand_dims(X, axis=-1), y, epochs=100)"
      ],
      "metadata": {
        "id": "20cJVpAZSVUh",
        "outputId": "3b281285-1e3a-4f3f-e788-3f49a3b3270e",
        "colab": {
          "base_uri": "https://localhost:8080/"
        }
      },
      "execution_count": 19,
      "outputs": [
        {
          "output_type": "stream",
          "name": "stderr",
          "text": [
            "WARNING:absl:`lr` is deprecated in Keras optimizer, please use `learning_rate` or use the legacy optimizer, e.g.,tf.keras.optimizers.legacy.Adam.\n"
          ]
        },
        {
          "output_type": "stream",
          "name": "stdout",
          "text": [
            "Epoch 1/100\n",
            "1/1 [==============================] - 1s 1s/step - loss: 13.4613 - mae: 13.4613\n",
            "Epoch 2/100\n",
            "1/1 [==============================] - 0s 19ms/step - loss: 13.3574 - mae: 13.3574\n",
            "Epoch 3/100\n",
            "1/1 [==============================] - 0s 21ms/step - loss: 13.2536 - mae: 13.2536\n",
            "Epoch 4/100\n",
            "1/1 [==============================] - 0s 13ms/step - loss: 13.1497 - mae: 13.1497\n",
            "Epoch 5/100\n",
            "1/1 [==============================] - 0s 12ms/step - loss: 13.0458 - mae: 13.0458\n",
            "Epoch 6/100\n",
            "1/1 [==============================] - 0s 13ms/step - loss: 12.9419 - mae: 12.9419\n",
            "Epoch 7/100\n",
            "1/1 [==============================] - 0s 15ms/step - loss: 12.8380 - mae: 12.8380\n",
            "Epoch 8/100\n",
            "1/1 [==============================] - 0s 15ms/step - loss: 12.7341 - mae: 12.7341\n",
            "Epoch 9/100\n",
            "1/1 [==============================] - 0s 12ms/step - loss: 12.6301 - mae: 12.6301\n",
            "Epoch 10/100\n",
            "1/1 [==============================] - 0s 15ms/step - loss: 12.5261 - mae: 12.5261\n",
            "Epoch 11/100\n",
            "1/1 [==============================] - 0s 21ms/step - loss: 12.4221 - mae: 12.4221\n",
            "Epoch 12/100\n",
            "1/1 [==============================] - 0s 19ms/step - loss: 12.3180 - mae: 12.3180\n",
            "Epoch 13/100\n",
            "1/1 [==============================] - 0s 13ms/step - loss: 12.2139 - mae: 12.2139\n",
            "Epoch 14/100\n",
            "1/1 [==============================] - 0s 13ms/step - loss: 12.1096 - mae: 12.1096\n",
            "Epoch 15/100\n",
            "1/1 [==============================] - 0s 29ms/step - loss: 12.0053 - mae: 12.0053\n",
            "Epoch 16/100\n",
            "1/1 [==============================] - 0s 22ms/step - loss: 11.9008 - mae: 11.9008\n",
            "Epoch 17/100\n",
            "1/1 [==============================] - 0s 9ms/step - loss: 11.7963 - mae: 11.7963\n",
            "Epoch 18/100\n",
            "1/1 [==============================] - 0s 12ms/step - loss: 11.6916 - mae: 11.6916\n",
            "Epoch 19/100\n",
            "1/1 [==============================] - 0s 9ms/step - loss: 11.5867 - mae: 11.5867\n",
            "Epoch 20/100\n",
            "1/1 [==============================] - 0s 10ms/step - loss: 11.4817 - mae: 11.4817\n",
            "Epoch 21/100\n",
            "1/1 [==============================] - 0s 10ms/step - loss: 11.3765 - mae: 11.3765\n",
            "Epoch 22/100\n",
            "1/1 [==============================] - 0s 10ms/step - loss: 11.2711 - mae: 11.2711\n",
            "Epoch 23/100\n",
            "1/1 [==============================] - 0s 10ms/step - loss: 11.1655 - mae: 11.1655\n",
            "Epoch 24/100\n",
            "1/1 [==============================] - 0s 12ms/step - loss: 11.0596 - mae: 11.0596\n",
            "Epoch 25/100\n",
            "1/1 [==============================] - 0s 17ms/step - loss: 10.9535 - mae: 10.9535\n",
            "Epoch 26/100\n",
            "1/1 [==============================] - 0s 17ms/step - loss: 10.8471 - mae: 10.8471\n",
            "Epoch 27/100\n",
            "1/1 [==============================] - 0s 17ms/step - loss: 10.7405 - mae: 10.7405\n",
            "Epoch 28/100\n",
            "1/1 [==============================] - 0s 15ms/step - loss: 10.6335 - mae: 10.6335\n",
            "Epoch 29/100\n",
            "1/1 [==============================] - 0s 18ms/step - loss: 10.5263 - mae: 10.5263\n",
            "Epoch 30/100\n",
            "1/1 [==============================] - 0s 35ms/step - loss: 10.4187 - mae: 10.4187\n",
            "Epoch 31/100\n",
            "1/1 [==============================] - 0s 19ms/step - loss: 10.3107 - mae: 10.3107\n",
            "Epoch 32/100\n",
            "1/1 [==============================] - 0s 17ms/step - loss: 10.2024 - mae: 10.2024\n",
            "Epoch 33/100\n",
            "1/1 [==============================] - 0s 16ms/step - loss: 10.0937 - mae: 10.0937\n",
            "Epoch 34/100\n",
            "1/1 [==============================] - 0s 37ms/step - loss: 9.9846 - mae: 9.9846\n",
            "Epoch 35/100\n",
            "1/1 [==============================] - 0s 24ms/step - loss: 9.8751 - mae: 9.8751\n",
            "Epoch 36/100\n",
            "1/1 [==============================] - 0s 25ms/step - loss: 9.7651 - mae: 9.7651\n",
            "Epoch 37/100\n",
            "1/1 [==============================] - 0s 22ms/step - loss: 9.6547 - mae: 9.6547\n",
            "Epoch 38/100\n",
            "1/1 [==============================] - 0s 28ms/step - loss: 9.5438 - mae: 9.5438\n",
            "Epoch 39/100\n",
            "1/1 [==============================] - 0s 29ms/step - loss: 9.4324 - mae: 9.4324\n",
            "Epoch 40/100\n",
            "1/1 [==============================] - 0s 30ms/step - loss: 9.3205 - mae: 9.3205\n",
            "Epoch 41/100\n",
            "1/1 [==============================] - 0s 31ms/step - loss: 9.2081 - mae: 9.2081\n",
            "Epoch 42/100\n",
            "1/1 [==============================] - 0s 15ms/step - loss: 9.0952 - mae: 9.0952\n",
            "Epoch 43/100\n",
            "1/1 [==============================] - 0s 16ms/step - loss: 8.9817 - mae: 8.9817\n",
            "Epoch 44/100\n",
            "1/1 [==============================] - 0s 13ms/step - loss: 8.8676 - mae: 8.8676\n",
            "Epoch 45/100\n",
            "1/1 [==============================] - 0s 17ms/step - loss: 8.7530 - mae: 8.7530\n",
            "Epoch 46/100\n",
            "1/1 [==============================] - 0s 25ms/step - loss: 8.6377 - mae: 8.6377\n",
            "Epoch 47/100\n",
            "1/1 [==============================] - 0s 19ms/step - loss: 8.5218 - mae: 8.5218\n",
            "Epoch 48/100\n",
            "1/1 [==============================] - 0s 18ms/step - loss: 8.4053 - mae: 8.4053\n",
            "Epoch 49/100\n",
            "1/1 [==============================] - 0s 24ms/step - loss: 8.2881 - mae: 8.2881\n",
            "Epoch 50/100\n",
            "1/1 [==============================] - 0s 23ms/step - loss: 8.1702 - mae: 8.1702\n",
            "Epoch 51/100\n",
            "1/1 [==============================] - 0s 15ms/step - loss: 8.0517 - mae: 8.0517\n",
            "Epoch 52/100\n",
            "1/1 [==============================] - 0s 17ms/step - loss: 7.9324 - mae: 7.9324\n",
            "Epoch 53/100\n",
            "1/1 [==============================] - 0s 15ms/step - loss: 7.8124 - mae: 7.8124\n",
            "Epoch 54/100\n",
            "1/1 [==============================] - 0s 18ms/step - loss: 7.6916 - mae: 7.6916\n",
            "Epoch 55/100\n",
            "1/1 [==============================] - 0s 15ms/step - loss: 7.5701 - mae: 7.5701\n",
            "Epoch 56/100\n",
            "1/1 [==============================] - 0s 14ms/step - loss: 7.4478 - mae: 7.4478\n",
            "Epoch 57/100\n",
            "1/1 [==============================] - 0s 12ms/step - loss: 7.3248 - mae: 7.3248\n",
            "Epoch 58/100\n",
            "1/1 [==============================] - 0s 17ms/step - loss: 7.2009 - mae: 7.2009\n",
            "Epoch 59/100\n",
            "1/1 [==============================] - 0s 16ms/step - loss: 7.0761 - mae: 7.0761\n",
            "Epoch 60/100\n",
            "1/1 [==============================] - 0s 13ms/step - loss: 6.9505 - mae: 6.9505\n",
            "Epoch 61/100\n",
            "1/1 [==============================] - 0s 17ms/step - loss: 6.8241 - mae: 6.8241\n",
            "Epoch 62/100\n",
            "1/1 [==============================] - 0s 14ms/step - loss: 6.7737 - mae: 6.7737\n",
            "Epoch 63/100\n",
            "1/1 [==============================] - 0s 15ms/step - loss: 6.7590 - mae: 6.7590\n",
            "Epoch 64/100\n",
            "1/1 [==============================] - 0s 17ms/step - loss: 6.7446 - mae: 6.7446\n",
            "Epoch 65/100\n",
            "1/1 [==============================] - 0s 18ms/step - loss: 6.7305 - mae: 6.7305\n",
            "Epoch 66/100\n",
            "1/1 [==============================] - 0s 26ms/step - loss: 6.7165 - mae: 6.7165\n",
            "Epoch 67/100\n",
            "1/1 [==============================] - 0s 11ms/step - loss: 6.7028 - mae: 6.7028\n",
            "Epoch 68/100\n",
            "1/1 [==============================] - 0s 14ms/step - loss: 6.6892 - mae: 6.6892\n",
            "Epoch 69/100\n",
            "1/1 [==============================] - 0s 20ms/step - loss: 6.7032 - mae: 6.7032\n",
            "Epoch 70/100\n",
            "1/1 [==============================] - 0s 22ms/step - loss: 6.7278 - mae: 6.7278\n",
            "Epoch 71/100\n",
            "1/1 [==============================] - 0s 24ms/step - loss: 6.7421 - mae: 6.7421\n",
            "Epoch 72/100\n",
            "1/1 [==============================] - 0s 19ms/step - loss: 6.7472 - mae: 6.7472\n",
            "Epoch 73/100\n",
            "1/1 [==============================] - 0s 15ms/step - loss: 6.7439 - mae: 6.7439\n",
            "Epoch 74/100\n",
            "1/1 [==============================] - 0s 38ms/step - loss: 6.7331 - mae: 6.7331\n",
            "Epoch 75/100\n",
            "1/1 [==============================] - 0s 18ms/step - loss: 6.7155 - mae: 6.7155\n",
            "Epoch 76/100\n",
            "1/1 [==============================] - 0s 20ms/step - loss: 6.6919 - mae: 6.6919\n",
            "Epoch 77/100\n",
            "1/1 [==============================] - 0s 13ms/step - loss: 6.6628 - mae: 6.6628\n",
            "Epoch 78/100\n",
            "1/1 [==============================] - 0s 17ms/step - loss: 6.6288 - mae: 6.6288\n",
            "Epoch 79/100\n",
            "1/1 [==============================] - 0s 14ms/step - loss: 6.5904 - mae: 6.5904\n",
            "Epoch 80/100\n",
            "1/1 [==============================] - 0s 20ms/step - loss: 6.5644 - mae: 6.5644\n",
            "Epoch 81/100\n",
            "1/1 [==============================] - 0s 16ms/step - loss: 6.5559 - mae: 6.5559\n",
            "Epoch 82/100\n",
            "1/1 [==============================] - 0s 21ms/step - loss: 6.5471 - mae: 6.5471\n",
            "Epoch 83/100\n",
            "1/1 [==============================] - 0s 41ms/step - loss: 6.5379 - mae: 6.5379\n",
            "Epoch 84/100\n",
            "1/1 [==============================] - 0s 33ms/step - loss: 6.5284 - mae: 6.5284\n",
            "Epoch 85/100\n",
            "1/1 [==============================] - 0s 28ms/step - loss: 6.5187 - mae: 6.5187\n",
            "Epoch 86/100\n",
            "1/1 [==============================] - 0s 34ms/step - loss: 6.5087 - mae: 6.5087\n",
            "Epoch 87/100\n",
            "1/1 [==============================] - 0s 45ms/step - loss: 6.4984 - mae: 6.4984\n",
            "Epoch 88/100\n",
            "1/1 [==============================] - 0s 24ms/step - loss: 6.4880 - mae: 6.4880\n",
            "Epoch 89/100\n",
            "1/1 [==============================] - 0s 14ms/step - loss: 6.4773 - mae: 6.4773\n",
            "Epoch 90/100\n",
            "1/1 [==============================] - 0s 17ms/step - loss: 6.4665 - mae: 6.4665\n",
            "Epoch 91/100\n",
            "1/1 [==============================] - 0s 15ms/step - loss: 6.4555 - mae: 6.4555\n",
            "Epoch 92/100\n",
            "1/1 [==============================] - 0s 18ms/step - loss: 6.4443 - mae: 6.4443\n",
            "Epoch 93/100\n",
            "1/1 [==============================] - 0s 20ms/step - loss: 6.4329 - mae: 6.4329\n",
            "Epoch 94/100\n",
            "1/1 [==============================] - 0s 28ms/step - loss: 6.4215 - mae: 6.4215\n",
            "Epoch 95/100\n",
            "1/1 [==============================] - 0s 21ms/step - loss: 6.4098 - mae: 6.4098\n",
            "Epoch 96/100\n",
            "1/1 [==============================] - 0s 27ms/step - loss: 6.3980 - mae: 6.3980\n",
            "Epoch 97/100\n",
            "1/1 [==============================] - 0s 25ms/step - loss: 6.3861 - mae: 6.3861\n",
            "Epoch 98/100\n",
            "1/1 [==============================] - 0s 20ms/step - loss: 6.3741 - mae: 6.3741\n",
            "Epoch 99/100\n",
            "1/1 [==============================] - 0s 25ms/step - loss: 6.3619 - mae: 6.3619\n",
            "Epoch 100/100\n",
            "1/1 [==============================] - 0s 19ms/step - loss: 6.3497 - mae: 6.3497\n"
          ]
        },
        {
          "output_type": "execute_result",
          "data": {
            "text/plain": [
              "<keras.src.callbacks.History at 0x7b9dccdb4f40>"
            ]
          },
          "metadata": {},
          "execution_count": 19
        }
      ]
    },
    {
      "cell_type": "code",
      "source": [
        "# Doğru Cevap 27\n",
        "model.predict([17.0])"
      ],
      "metadata": {
        "id": "kW4KTJzNUKFQ",
        "outputId": "407773d3-0ff8-4057-a0d4-2fff46cad5cd",
        "colab": {
          "base_uri": "https://localhost:8080/"
        }
      },
      "execution_count": 20,
      "outputs": [
        {
          "output_type": "stream",
          "name": "stdout",
          "text": [
            "1/1 [==============================] - 0s 194ms/step\n"
          ]
        },
        {
          "output_type": "execute_result",
          "data": {
            "text/plain": [
              "array([[30.32457]], dtype=float32)"
            ]
          },
          "metadata": {},
          "execution_count": 20
        }
      ]
    },
    {
      "cell_type": "markdown",
      "source": [
        "tf.keras.layers.Dense(100, activation=\"relu\") kodunda 100, yoğun katmandaki nöron sayısını temsil eder. Bu, katmanın 100 farklı nöron içereceği ve her birinin girdi verilerinden gelen sinyalleri işleyip bir çıktı üreteceği anlamına gelir.\n",
        "* tf.keras.layers.Dense fonksiyonu, Keras'ta yoğun katman oluşturmak için kullanılır.\n",
        "* İlk parametre, katmandaki nöron sayısını belirtir. Bu durumda, 100 nöron olduğu için katman, 100 boyutlu bir çıktı vektörü üretecektir.\n",
        "* İkinci parametre, katmanın aktivasyon fonksiyonunu belirtir. \"relu\", doğrusal olmayan bir aktivasyon fonksiyonudur ve sinyallerin daha karmaşık ilişkileri öğrenmesini sağlar.\n",
        "\n",
        "Aktivasyon fonksiyonu, yapay sinir ağlarında (YSA) sinyallerin işlenmesini ve modelin karmaşıklığını artırmak için kullanılır. Temel olarak, YSA'daki her nöronun toplama işlemi sonucunda elde ettiği değeri bir sonraki katmana göndermeden önce işlevsel bir hale dönüştürür.\n",
        "\n",
        "1. Doğrusallık Olmazlık Katmak:\n",
        "\n",
        "YSA'daki katmanlar arasındaki bağlantılar doğrusaldır. Bu, aktivasyon fonksiyonları kullanılmadan her katmanın bir önceki katmanın doğrusal bir dönüşümü olacağı anlamına gelir. Aktivasyon fonksiyonları, sinyallere doğrusal olmayan bir dönüşüm uygulayarak modelin daha karmaşık ilişkileri öğrenmesini sağlar.\n",
        "\n",
        "2. Sinyalleri Sınırlamak:\n",
        "\n",
        "Aktivasyon fonksiyonları, sinyalleri belirli bir aralığa sınırlayabilir. Bu, modelin daha stabil hale gelmesini ve aşırı öğrenmeyi önlemeye yardımcı olur.\n",
        "\n",
        "Aktivasyon fonksiyonlarının bazı önemli faydaları:\n",
        "\n",
        "* Doğrusal olmayan modelleri oluşturmayı mümkün kılar.\n",
        "* Modellerin karmaşıklığını ve öğrenme kapasitesini artırır.\n",
        "* Aşırı öğrenmeyi önlemeye yardımcı olur.\n",
        "Sinyalleri normalize etmeye yardımcı olur.\n",
        "\n",
        "Yaygın olarak kullanılan aktivasyon fonksiyonları:\n",
        "\n",
        "1. Sigmoid: S-şeklinde bir fonksiyondur ve . genellikle sınıflandırma problemlerinde kullanılır.\n",
        "2. ReLU: Doğrusal olmayan bir fonksiyondur ve regresyon ve sınıflandırma problemlerinde yaygın olarak kullanılır.\n",
        "3. Tanh: Hiperbolik tanjant fonksiyonudur ve [-1, 1] aralığında değerler üretir.\n",
        "4. Softmax: Birden fazla sınıflandırma problemlerinde kullanılır."
      ],
      "metadata": {
        "id": "BmOqotmvS_Iv"
      }
    },
    {
      "cell_type": "markdown",
      "source": [
        "# Modeli Değerlendirme\n",
        "\n",
        "Değerlendirme söz konusu olduğunda şu kelimeleri hatırlamak isteyeceksiniz: \"görselleştir, görselleştir, görselleştir.\"\n",
        "* Veriler: Hangi verilerle çalışıyorsunuz? Nasıl görünüyor?\n",
        "* Modelin kendisi: mimari neye benziyor? Farklı şekiller nelerdir?\n",
        "* Bir modelin eğitimi: Bir model öğrenirken nasıl performans gösterir?\n",
        "* Bir modelin tahminleri: Bir modelin tahminleri temel gerçeğe (orijinal etiketlere) göre nasıl sıralanır?\n",
        "\n"
      ],
      "metadata": {
        "id": "y5ucgPdzVyqN"
      }
    },
    {
      "cell_type": "code",
      "source": [
        "X = tf.range(-100, 100, 4)\n",
        "X"
      ],
      "metadata": {
        "id": "JeciFl4mWUhQ",
        "outputId": "33b2a207-1d0a-495d-d293-e8e3394026bb",
        "colab": {
          "base_uri": "https://localhost:8080/"
        }
      },
      "execution_count": 21,
      "outputs": [
        {
          "output_type": "execute_result",
          "data": {
            "text/plain": [
              "<tf.Tensor: shape=(50,), dtype=int32, numpy=\n",
              "array([-100,  -96,  -92,  -88,  -84,  -80,  -76,  -72,  -68,  -64,  -60,\n",
              "        -56,  -52,  -48,  -44,  -40,  -36,  -32,  -28,  -24,  -20,  -16,\n",
              "        -12,   -8,   -4,    0,    4,    8,   12,   16,   20,   24,   28,\n",
              "         32,   36,   40,   44,   48,   52,   56,   60,   64,   68,   72,\n",
              "         76,   80,   84,   88,   92,   96], dtype=int32)>"
            ]
          },
          "metadata": {},
          "execution_count": 21
        }
      ]
    },
    {
      "cell_type": "code",
      "source": [
        "y = X +10\n",
        "y"
      ],
      "metadata": {
        "id": "YxpT3meJWnoX",
        "outputId": "2d54588b-23af-4981-a9d8-ccd9d11c27c3",
        "colab": {
          "base_uri": "https://localhost:8080/"
        }
      },
      "execution_count": 22,
      "outputs": [
        {
          "output_type": "execute_result",
          "data": {
            "text/plain": [
              "<tf.Tensor: shape=(50,), dtype=int32, numpy=\n",
              "array([-90, -86, -82, -78, -74, -70, -66, -62, -58, -54, -50, -46, -42,\n",
              "       -38, -34, -30, -26, -22, -18, -14, -10,  -6,  -2,   2,   6,  10,\n",
              "        14,  18,  22,  26,  30,  34,  38,  42,  46,  50,  54,  58,  62,\n",
              "        66,  70,  74,  78,  82,  86,  90,  94,  98, 102, 106], dtype=int32)>"
            ]
          },
          "metadata": {},
          "execution_count": 22
        }
      ]
    },
    {
      "cell_type": "code",
      "source": [
        "# Datayı görselleştirme\n",
        "import matplotlib.pyplot as plt\n",
        "plt.scatter(X, y)"
      ],
      "metadata": {
        "id": "cmkf2VS_Wshv",
        "outputId": "ea186c64-1d29-42d0-a144-9b618695b23d",
        "colab": {
          "base_uri": "https://localhost:8080/",
          "height": 447
        }
      },
      "execution_count": 23,
      "outputs": [
        {
          "output_type": "execute_result",
          "data": {
            "text/plain": [
              "<matplotlib.collections.PathCollection at 0x7b9dcc0679a0>"
            ]
          },
          "metadata": {},
          "execution_count": 23
        },
        {
          "output_type": "display_data",
          "data": {
            "text/plain": [
              "<Figure size 640x480 with 1 Axes>"
            ],
            "image/png": "[encoded data removed]"
          },
          "metadata": {}
        }
      ]
    },
    {
      "cell_type": "markdown",
      "source": [
        "# Verileri Eğitim ve Test Setine Ayırma\n",
        "Bir makine öğrenimi projesindeki diğer en yaygın ve önemli adımlardan biri, bir eğitim ve test seti (ve gerektiğinde bir doğrulama seti) oluşturmaktır.\n",
        "* Eğitim seti - model, genellikle mevcut toplam verinin (dönem boyunca çalıştığınız ders materyalleri gibi) %70-80'ini oluşturan bu verilerden öğrenir.\n",
        "* Doğrulama seti - model, genellikle mevcut toplam verinin %10-15'i olan bu verilere göre ayarlanır (final sınavından önce girdiğiniz deneme sınavı gibi).\n",
        "* Test seti - model, öğrendiğini test etmek için bu veriler üzerinde değerlendirilir; bu genellikle mevcut toplam verilerin %10-15'idir (dönem sonunda girdiğiniz final sınavı gibi).\n"
      ],
      "metadata": {
        "id": "-GbsSnLEW4z5"
      }
    },
    {
      "cell_type": "code",
      "source": [
        "# Kaç örneğimiz olduğunu kontrol etme\n",
        "len(X)"
      ],
      "metadata": {
        "id": "8zUGpAv5Xw_6",
        "outputId": "1bea8e57-1a63-40ef-c097-f89b9cb661a3",
        "colab": {
          "base_uri": "https://localhost:8080/"
        }
      },
      "execution_count": 24,
      "outputs": [
        {
          "output_type": "execute_result",
          "data": {
            "text/plain": [
              "50"
            ]
          },
          "metadata": {},
          "execution_count": 24
        }
      ]
    },
    {
      "cell_type": "code",
      "source": [
        "# Eğitim ve Test setine bölme\n",
        "X_train = X[:40] # ilk 40 örnek (verinin %80'i)\n",
        "y_train = y[:40]\n",
        "\n",
        "X_test = X[40:] # son 10 örnek (verinin %20'si)\n",
        "y_test = y[40:]\n",
        "len(X_train), len(X_test)"
      ],
      "metadata": {
        "id": "WrLAZwECYC3i",
        "outputId": "f95503cc-9b95-4dcd-ab81-3695aa13a6b1",
        "colab": {
          "base_uri": "https://localhost:8080/"
        }
      },
      "execution_count": 25,
      "outputs": [
        {
          "output_type": "execute_result",
          "data": {
            "text/plain": [
              "(40, 10)"
            ]
          },
          "metadata": {},
          "execution_count": 25
        }
      ]
    },
    {
      "cell_type": "markdown",
      "source": [
        "### Datayı Görselleştirme"
      ],
      "metadata": {
        "id": "rb6oMZ9yY6tn"
      }
    },
    {
      "cell_type": "code",
      "source": [
        "plt.figure(figsize=(10, 7))\n",
        "# Eğitim Verisi Mavi\n",
        "plt.scatter(X_train, y_train, c=\"b\", label=\"Eğitim verisi\")\n",
        "\n",
        "# Test verisi Yeşil\n",
        "plt.scatter(X_test, y_test, c=\"g\", label=\"Test Verisi\")\n",
        "\n",
        "plt.legend();"
      ],
      "metadata": {
        "id": "OGyLBe0UZDKB",
        "outputId": "aabad8f5-ec24-46ea-b6a0-23ea8e969011",
        "colab": {
          "base_uri": "https://localhost:8080/",
          "height": 467
        }
      },
      "execution_count": 26,
      "outputs": [
        {
          "output_type": "display_data",
          "data": {
            "text/plain": [
              "<Figure size 1000x700 with 1 Axes>"
            ],
            "image/png": "[encoded data removed]"
          },
          "metadata": {}
        }
      ]
    },
    {
      "cell_type": "code",
      "source": [
        "model = tf.keras.Sequential([\n",
        "    tf.keras.layers.Dense(1)\n",
        "])\n",
        "\n",
        "model.compile(loss=tf.keras.losses.mae,\n",
        "              optimizer=tf.keras.optimizers.SGD(),\n",
        "              metrics=[\"mae\"])\n",
        "\n",
        "#model.fit(X_train, y_train, epochs=100)"
      ],
      "metadata": {
        "id": "bhQ6mHqjTC4j"
      },
      "execution_count": 90,
      "outputs": []
    },
    {
      "cell_type": "markdown",
      "source": [
        "# Modeli Görselleştirme"
      ],
      "metadata": {
        "id": "fuJPPBWkT2Cg"
      }
    },
    {
      "cell_type": "code",
      "source": [
        "model.summary()"
      ],
      "metadata": {
        "colab": {
          "base_uri": "https://localhost:8080/"
        },
        "id": "bWoo_n-ZUZrv",
        "outputId": "9ec57cb0-1e79-4096-e630-b40788dd0954"
      },
      "execution_count": 71,
      "outputs": [
        {
          "output_type": "stream",
          "name": "stdout",
          "text": [
            "Model: \"sequential_14\"\n",
            "_________________________________________________________________\n",
            " Layer (type)                Output Shape              Param #   \n",
            "=================================================================\n",
            " dense_18 (Dense)            (None, 3)                 6         \n",
            "                                                                 \n",
            "=================================================================\n",
            "Total params: 6 (24.00 Byte)\n",
            "Trainable params: 6 (24.00 Byte)\n",
            "Non-trainable params: 0 (0.00 Byte)\n",
            "_________________________________________________________________\n"
          ]
        }
      ]
    },
    {
      "cell_type": "markdown",
      "source": [
        "Hata vermesinin sebebi modeli fit etmememiz"
      ],
      "metadata": {
        "id": "bq4Q8hPYUbHD"
      }
    },
    {
      "cell_type": "code",
      "source": [
        "X[0], y[0]"
      ],
      "metadata": {
        "colab": {
          "base_uri": "https://localhost:8080/"
        },
        "id": "Nq82p_sOVCsz",
        "outputId": "d020da7c-a61d-45d7-b988-66daa231962c"
      },
      "execution_count": 33,
      "outputs": [
        {
          "output_type": "execute_result",
          "data": {
            "text/plain": [
              "TensorShape([50])"
            ]
          },
          "metadata": {},
          "execution_count": 33
        }
      ]
    },
    {
      "cell_type": "code",
      "source": [
        "# Otomatik build edilen bir model oluşturma\n",
        "tf.random.set_seed(42)\n",
        "\n",
        "model = tf.keras.Sequential([\n",
        "    tf.keras.layers.Dense(1, input_shape=[1])\n",
        "])\n",
        "\n",
        "model.compile(loss=tf.keras.losses.mae,\n",
        "              optimizer=tf.keras.optimizers.Adam(learning_rate=0.01),\n",
        "              metrics=[\"mae\"])\n"
      ],
      "metadata": {
        "id": "68QgWyaAUkqK"
      },
      "execution_count": 118,
      "outputs": []
    },
    {
      "cell_type": "code",
      "source": [
        "tf.random.set_seed(42)\n",
        "\n",
        "model1 = tf.keras.Sequential([\n",
        "    tf.keras.layers.Dense(2, input_shape=[1])\n",
        "])\n",
        "\n",
        "model1.compile(loss=tf.keras.losses.mae,\n",
        "              optimizer=tf.keras.optimizers.SGD(),\n",
        "              metrics=[\"mae\"])"
      ],
      "metadata": {
        "id": "AoCkdeLCZTik"
      },
      "execution_count": 94,
      "outputs": []
    },
    {
      "cell_type": "code",
      "source": [
        "model1.summary()"
      ],
      "metadata": {
        "id": "uZpcAnJhZViv",
        "outputId": "09b29a41-4712-4479-c3c8-5dccf910d5f8",
        "colab": {
          "base_uri": "https://localhost:8080/"
        }
      },
      "execution_count": 57,
      "outputs": [
        {
          "output_type": "stream",
          "name": "stdout",
          "text": [
            "Model: \"sequential_16\"\n",
            "_________________________________________________________________\n",
            " Layer (type)                Output Shape              Param #   \n",
            "=================================================================\n",
            " dense_20 (Dense)            (None, 2)                 4         \n",
            "                                                                 \n",
            "=================================================================\n",
            "Total params: 4 (16.00 Byte)\n",
            "Trainable params: 4 (16.00 Byte)\n",
            "Non-trainable params: 0 (0.00 Byte)\n",
            "_________________________________________________________________\n"
          ]
        }
      ]
    },
    {
      "cell_type": "code",
      "source": [
        "tf.random.set_seed(42)\n",
        "\n",
        "model2 = tf.keras.Sequential([\n",
        "    tf.keras.layers.Dense(3, input_shape=[1])\n",
        "])\n",
        "\n",
        "model2.compile(loss=tf.keras.losses.mae,\n",
        "              optimizer=tf.keras.optimizers.SGD(),\n",
        "              metrics=[\"mae\"])"
      ],
      "metadata": {
        "id": "2BZVduaCZY9L"
      },
      "execution_count": 67,
      "outputs": []
    },
    {
      "cell_type": "code",
      "source": [
        "model2.summary()"
      ],
      "metadata": {
        "id": "SmjPJK-BZc1v",
        "outputId": "875752ff-fa2c-45f4-9a83-6b70658e73f0",
        "colab": {
          "base_uri": "https://localhost:8080/"
        }
      },
      "execution_count": 55,
      "outputs": [
        {
          "output_type": "stream",
          "name": "stdout",
          "text": [
            "Model: \"sequential_15\"\n",
            "_________________________________________________________________\n",
            " Layer (type)                Output Shape              Param #   \n",
            "=================================================================\n",
            " dense_19 (Dense)            (None, 3)                 6         \n",
            "                                                                 \n",
            "=================================================================\n",
            "Total params: 6 (24.00 Byte)\n",
            "Trainable params: 6 (24.00 Byte)\n",
            "Non-trainable params: 0 (0.00 Byte)\n",
            "_________________________________________________________________\n"
          ]
        }
      ]
    },
    {
      "cell_type": "markdown",
      "source": [
        "Shape = Dense sayısı\n",
        "\n",
        "Parametre = Shape*2"
      ],
      "metadata": {
        "id": "2SeL8U6ZZeRt"
      }
    },
    {
      "cell_type": "markdown",
      "source": [],
      "metadata": {
        "id": "3FrBwVz8ZMPx"
      }
    },
    {
      "cell_type": "markdown",
      "source": [
        "* Param (Parametre): Makine öğrenmesi modellerinde, param, eğitim süreci boyunca modelin öğrendiği sayısal bir değerdir. Bu değerler, ağdaki nöronlar arasındaki bağlantıları belirler ve ultimately, modelin tahminlerini etkiler.\n",
        "\n",
        "Bu modelde (sequential_8), dense_12 katmanındaki tek nöronla ilişkilendirilmiş toplam 2 parametre (ağırlık) vardır. Bu ağırlıklar, girdi özelliklerini çıktı nöronuna bağlar ve model, tahmin hatasını en aza indirmek için eğitim sırasında bu ağırlıkları ayarlar."
      ],
      "metadata": {
        "id": "7nrpxHVKVPeF"
      }
    },
    {
      "cell_type": "markdown",
      "source": [
        "* Toplam parametreler: modeldeki toplam parametre sayısı.\n",
        "* Eğitilebilir parametreler: bunlar, modelin eğitilirken güncelleyebileceği parametrelerdir (örüntüler).\n",
        "* Eğitilemeyen parametreler: bu parametreler eğitim sırasında güncellenmez (bu, transfer öğrenimi sırasında diğer modellerden önceden öğrenilmiş kalıpları getirdiğinizde tipiktir)."
      ],
      "metadata": {
        "id": "hdzcWtvtWSis"
      }
    },
    {
      "cell_type": "code",
      "source": [
        "# Modeli Eğitme\n",
        "model.fit(X_train, y_train, epochs=100, verbose=1)"
      ],
      "metadata": {
        "id": "0902SjnTZ5hL",
        "outputId": "8de1766d-2b3d-487a-a04b-1de86975679b",
        "colab": {
          "base_uri": "https://localhost:8080/"
        }
      },
      "execution_count": 119,
      "outputs": [
        {
          "output_type": "stream",
          "name": "stdout",
          "text": [
            "Epoch 1/100\n",
            "2/2 [==============================] - 0s 12ms/step - loss: 74.9036 - mae: 74.9036\n",
            "Epoch 2/100\n",
            "2/2 [==============================] - 0s 7ms/step - loss: 74.0264 - mae: 74.0264\n",
            "Epoch 3/100\n",
            "2/2 [==============================] - 0s 7ms/step - loss: 73.1794 - mae: 73.1794\n",
            "Epoch 4/100\n",
            "2/2 [==============================] - 0s 7ms/step - loss: 72.3185 - mae: 72.3185\n",
            "Epoch 5/100\n",
            "2/2 [==============================] - 0s 7ms/step - loss: 71.4734 - mae: 71.4734\n",
            "Epoch 6/100\n",
            "2/2 [==============================] - 0s 7ms/step - loss: 70.6206 - mae: 70.6206\n",
            "Epoch 7/100\n",
            "2/2 [==============================] - 0s 7ms/step - loss: 69.7605 - mae: 69.7605\n",
            "Epoch 8/100\n",
            "2/2 [==============================] - 0s 7ms/step - loss: 68.8678 - mae: 68.8678\n",
            "Epoch 9/100\n",
            "2/2 [==============================] - 0s 8ms/step - loss: 68.0394 - mae: 68.0394\n",
            "Epoch 10/100\n",
            "2/2 [==============================] - 0s 7ms/step - loss: 67.2014 - mae: 67.2014\n",
            "Epoch 11/100\n",
            "2/2 [==============================] - 0s 11ms/step - loss: 66.3057 - mae: 66.3057\n",
            "Epoch 12/100\n",
            "2/2 [==============================] - 0s 8ms/step - loss: 65.4564 - mae: 65.4564\n",
            "Epoch 13/100\n",
            "2/2 [==============================] - 0s 7ms/step - loss: 64.5701 - mae: 64.5701\n",
            "Epoch 14/100\n",
            "2/2 [==============================] - 0s 8ms/step - loss: 63.7170 - mae: 63.7170\n",
            "Epoch 15/100\n",
            "2/2 [==============================] - 0s 7ms/step - loss: 62.8685 - mae: 62.8685\n",
            "Epoch 16/100\n",
            "2/2 [==============================] - 0s 9ms/step - loss: 61.9821 - mae: 61.9821\n",
            "Epoch 17/100\n",
            "2/2 [==============================] - 0s 10ms/step - loss: 61.1161 - mae: 61.1161\n",
            "Epoch 18/100\n",
            "2/2 [==============================] - 0s 8ms/step - loss: 60.2549 - mae: 60.2549\n",
            "Epoch 19/100\n",
            "2/2 [==============================] - 0s 7ms/step - loss: 59.4120 - mae: 59.4120\n",
            "Epoch 20/100\n",
            "2/2 [==============================] - 0s 8ms/step - loss: 58.5385 - mae: 58.5385\n",
            "Epoch 21/100\n",
            "2/2 [==============================] - 0s 7ms/step - loss: 57.6815 - mae: 57.6815\n",
            "Epoch 22/100\n",
            "2/2 [==============================] - 0s 7ms/step - loss: 56.8581 - mae: 56.8581\n",
            "Epoch 23/100\n",
            "2/2 [==============================] - 0s 9ms/step - loss: 56.0070 - mae: 56.0070\n",
            "Epoch 24/100\n",
            "2/2 [==============================] - 0s 7ms/step - loss: 55.1469 - mae: 55.1469\n",
            "Epoch 25/100\n",
            "2/2 [==============================] - 0s 7ms/step - loss: 54.3032 - mae: 54.3032\n",
            "Epoch 26/100\n",
            "2/2 [==============================] - 0s 11ms/step - loss: 53.4763 - mae: 53.4763\n",
            "Epoch 27/100\n",
            "2/2 [==============================] - 0s 7ms/step - loss: 52.6122 - mae: 52.6122\n",
            "Epoch 28/100\n",
            "2/2 [==============================] - 0s 8ms/step - loss: 51.7930 - mae: 51.7930\n",
            "Epoch 29/100\n",
            "2/2 [==============================] - 0s 7ms/step - loss: 50.9020 - mae: 50.9020\n",
            "Epoch 30/100\n",
            "2/2 [==============================] - 0s 8ms/step - loss: 50.0307 - mae: 50.0307\n",
            "Epoch 31/100\n",
            "2/2 [==============================] - 0s 8ms/step - loss: 49.2192 - mae: 49.2192\n",
            "Epoch 32/100\n",
            "2/2 [==============================] - 0s 7ms/step - loss: 48.3365 - mae: 48.3365\n",
            "Epoch 33/100\n",
            "2/2 [==============================] - 0s 8ms/step - loss: 47.4691 - mae: 47.4691\n",
            "Epoch 34/100\n",
            "2/2 [==============================] - 0s 7ms/step - loss: 46.6287 - mae: 46.6287\n",
            "Epoch 35/100\n",
            "2/2 [==============================] - 0s 8ms/step - loss: 45.7573 - mae: 45.7573\n",
            "Epoch 36/100\n",
            "2/2 [==============================] - 0s 8ms/step - loss: 44.9508 - mae: 44.9508\n",
            "Epoch 37/100\n",
            "2/2 [==============================] - 0s 7ms/step - loss: 44.1000 - mae: 44.1000\n",
            "Epoch 38/100\n",
            "2/2 [==============================] - 0s 7ms/step - loss: 43.2755 - mae: 43.2755\n",
            "Epoch 39/100\n",
            "2/2 [==============================] - 0s 7ms/step - loss: 42.4602 - mae: 42.4602\n",
            "Epoch 40/100\n",
            "2/2 [==============================] - 0s 8ms/step - loss: 41.6429 - mae: 41.6429\n",
            "Epoch 41/100\n",
            "2/2 [==============================] - 0s 7ms/step - loss: 40.8237 - mae: 40.8237\n",
            "Epoch 42/100\n",
            "2/2 [==============================] - 0s 7ms/step - loss: 40.0279 - mae: 40.0279\n",
            "Epoch 43/100\n",
            "2/2 [==============================] - 0s 8ms/step - loss: 39.1701 - mae: 39.1701\n",
            "Epoch 44/100\n",
            "2/2 [==============================] - 0s 8ms/step - loss: 38.3849 - mae: 38.3849\n",
            "Epoch 45/100\n",
            "2/2 [==============================] - 0s 8ms/step - loss: 37.5613 - mae: 37.5613\n",
            "Epoch 46/100\n",
            "2/2 [==============================] - 0s 7ms/step - loss: 36.7755 - mae: 36.7755\n",
            "Epoch 47/100\n",
            "2/2 [==============================] - 0s 13ms/step - loss: 35.9375 - mae: 35.9375\n",
            "Epoch 48/100\n",
            "2/2 [==============================] - 0s 7ms/step - loss: 35.1527 - mae: 35.1527\n",
            "Epoch 49/100\n",
            "2/2 [==============================] - 0s 7ms/step - loss: 34.3706 - mae: 34.3706\n",
            "Epoch 50/100\n",
            "2/2 [==============================] - 0s 7ms/step - loss: 33.6000 - mae: 33.6000\n",
            "Epoch 51/100\n",
            "2/2 [==============================] - 0s 10ms/step - loss: 32.7779 - mae: 32.7779\n",
            "Epoch 52/100\n",
            "2/2 [==============================] - 0s 8ms/step - loss: 32.0157 - mae: 32.0157\n",
            "Epoch 53/100\n",
            "2/2 [==============================] - 0s 8ms/step - loss: 31.1890 - mae: 31.1890\n",
            "Epoch 54/100\n",
            "2/2 [==============================] - 0s 7ms/step - loss: 30.3755 - mae: 30.3755\n",
            "Epoch 55/100\n",
            "2/2 [==============================] - 0s 8ms/step - loss: 29.5780 - mae: 29.5780\n",
            "Epoch 56/100\n",
            "2/2 [==============================] - 0s 8ms/step - loss: 28.7300 - mae: 28.7300\n",
            "Epoch 57/100\n",
            "2/2 [==============================] - 0s 9ms/step - loss: 27.9245 - mae: 27.9245\n",
            "Epoch 58/100\n",
            "2/2 [==============================] - 0s 8ms/step - loss: 27.0990 - mae: 27.0990\n",
            "Epoch 59/100\n",
            "2/2 [==============================] - 0s 8ms/step - loss: 26.2992 - mae: 26.2992\n",
            "Epoch 60/100\n",
            "2/2 [==============================] - 0s 8ms/step - loss: 25.5212 - mae: 25.5212\n",
            "Epoch 61/100\n",
            "2/2 [==============================] - 0s 7ms/step - loss: 24.7384 - mae: 24.7384\n",
            "Epoch 62/100\n",
            "2/2 [==============================] - 0s 7ms/step - loss: 23.9709 - mae: 23.9709\n",
            "Epoch 63/100\n",
            "2/2 [==============================] - 0s 8ms/step - loss: 23.1935 - mae: 23.1935\n",
            "Epoch 64/100\n",
            "2/2 [==============================] - 0s 8ms/step - loss: 22.4136 - mae: 22.4136\n",
            "Epoch 65/100\n",
            "2/2 [==============================] - 0s 8ms/step - loss: 21.6304 - mae: 21.6304\n",
            "Epoch 66/100\n",
            "2/2 [==============================] - 0s 7ms/step - loss: 20.8712 - mae: 20.8712\n",
            "Epoch 67/100\n",
            "2/2 [==============================] - 0s 8ms/step - loss: 20.1163 - mae: 20.1163\n",
            "Epoch 68/100\n",
            "2/2 [==============================] - 0s 8ms/step - loss: 19.3562 - mae: 19.3562\n",
            "Epoch 69/100\n",
            "2/2 [==============================] - 0s 8ms/step - loss: 18.6103 - mae: 18.6103\n",
            "Epoch 70/100\n",
            "2/2 [==============================] - 0s 8ms/step - loss: 17.8623 - mae: 17.8623\n",
            "Epoch 71/100\n",
            "2/2 [==============================] - 0s 8ms/step - loss: 17.1334 - mae: 17.1334\n",
            "Epoch 72/100\n",
            "2/2 [==============================] - 0s 8ms/step - loss: 16.4323 - mae: 16.4323\n",
            "Epoch 73/100\n",
            "2/2 [==============================] - 0s 8ms/step - loss: 15.6786 - mae: 15.6786\n",
            "Epoch 74/100\n",
            "2/2 [==============================] - 0s 8ms/step - loss: 15.0262 - mae: 15.0262\n",
            "Epoch 75/100\n",
            "2/2 [==============================] - 0s 8ms/step - loss: 14.3013 - mae: 14.3013\n",
            "Epoch 76/100\n",
            "2/2 [==============================] - 0s 8ms/step - loss: 13.6120 - mae: 13.6120\n",
            "Epoch 77/100\n",
            "2/2 [==============================] - 0s 8ms/step - loss: 12.9662 - mae: 12.9662\n",
            "Epoch 78/100\n",
            "2/2 [==============================] - 0s 8ms/step - loss: 12.2821 - mae: 12.2821\n",
            "Epoch 79/100\n",
            "2/2 [==============================] - 0s 8ms/step - loss: 11.6433 - mae: 11.6433\n",
            "Epoch 80/100\n",
            "2/2 [==============================] - 0s 8ms/step - loss: 11.0659 - mae: 11.0659\n",
            "Epoch 81/100\n",
            "2/2 [==============================] - 0s 10ms/step - loss: 10.5384 - mae: 10.5384\n",
            "Epoch 82/100\n",
            "2/2 [==============================] - 0s 7ms/step - loss: 9.9688 - mae: 9.9688\n",
            "Epoch 83/100\n",
            "2/2 [==============================] - 0s 8ms/step - loss: 9.5511 - mae: 9.5511\n",
            "Epoch 84/100\n",
            "2/2 [==============================] - 0s 8ms/step - loss: 9.0764 - mae: 9.0764\n",
            "Epoch 85/100\n",
            "2/2 [==============================] - 0s 8ms/step - loss: 8.7581 - mae: 8.7581\n",
            "Epoch 86/100\n",
            "2/2 [==============================] - 0s 8ms/step - loss: 8.4694 - mae: 8.4694\n",
            "Epoch 87/100\n",
            "2/2 [==============================] - 0s 8ms/step - loss: 8.2448 - mae: 8.2448\n",
            "Epoch 88/100\n",
            "2/2 [==============================] - 0s 8ms/step - loss: 8.1163 - mae: 8.1163\n",
            "Epoch 89/100\n",
            "2/2 [==============================] - 0s 8ms/step - loss: 8.0543 - mae: 8.0543\n",
            "Epoch 90/100\n",
            "2/2 [==============================] - 0s 8ms/step - loss: 8.0977 - mae: 8.0977\n",
            "Epoch 91/100\n",
            "2/2 [==============================] - 0s 7ms/step - loss: 8.1517 - mae: 8.1517\n",
            "Epoch 92/100\n",
            "2/2 [==============================] - 0s 7ms/step - loss: 8.2096 - mae: 8.2096\n",
            "Epoch 93/100\n",
            "2/2 [==============================] - 0s 8ms/step - loss: 8.2232 - mae: 8.2232\n",
            "Epoch 94/100\n",
            "2/2 [==============================] - 0s 8ms/step - loss: 8.1760 - mae: 8.1760\n",
            "Epoch 95/100\n",
            "2/2 [==============================] - 0s 8ms/step - loss: 8.0841 - mae: 8.0841\n",
            "Epoch 96/100\n",
            "2/2 [==============================] - 0s 8ms/step - loss: 7.9955 - mae: 7.9955\n",
            "Epoch 97/100\n",
            "2/2 [==============================] - 0s 7ms/step - loss: 7.9002 - mae: 7.9002\n",
            "Epoch 98/100\n",
            "2/2 [==============================] - 0s 7ms/step - loss: 7.8469 - mae: 7.8469\n",
            "Epoch 99/100\n",
            "2/2 [==============================] - 0s 7ms/step - loss: 7.7945 - mae: 7.7945\n",
            "Epoch 100/100\n",
            "2/2 [==============================] - 0s 7ms/step - loss: 7.7688 - mae: 7.7688\n"
          ]
        },
        {
          "output_type": "execute_result",
          "data": {
            "text/plain": [
              "<keras.src.callbacks.History at 0x7b9dccd66530>"
            ]
          },
          "metadata": {},
          "execution_count": 119
        }
      ]
    },
    {
      "cell_type": "markdown",
      "source": [
        "Verbose parametresinin üç olası değeri vardır:\n",
        "\n",
        "0: Hiçbir bilgi görüntülenmez.\n",
        "\n",
        "1: Eğitim ilerlemesi hakkında bir ilerleme çubuğu görüntülenir.\n",
        "\n",
        "2: Her çağda eğitim ilerlemesi hakkında ayrıntılı bilgi görüntülenir.\n",
        "\n",
        "Verbose parametresi, model.fit fonksiyonu tarafından sağlanan bir özelliktir. Bu parametre, eğitim süreci hakkında ne kadar bilgi görüntüleneceğini kontrol eder."
      ],
      "metadata": {
        "id": "QO43XOECaVFA"
      }
    },
    {
      "cell_type": "code",
      "source": [
        "from tensorflow.keras.utils import plot_model\n",
        "\n",
        "plot_model(model, show_shapes=True)"
      ],
      "metadata": {
        "id": "3jBLq692cI7R",
        "outputId": "b73cefbe-bd02-4bcb-b96b-55e02026b656",
        "colab": {
          "base_uri": "https://localhost:8080/",
          "height": 201
        }
      },
      "execution_count": 63,
      "outputs": [
        {
          "output_type": "execute_result",
          "data": {
            "image/png": "[encoded data removed]",
            "text/plain": [
              "<IPython.core.display.Image object>"
            ]
          },
          "metadata": {},
          "execution_count": 63
        }
      ]
    },
    {
      "cell_type": "markdown",
      "source": [
        "#Model Tahminlerini Görselleştirme"
      ],
      "metadata": {
        "id": "cjrJNXyidk9m"
      }
    },
    {
      "cell_type": "code",
      "source": [
        "y_pred = model.predict(X_test)\n",
        "y_pred"
      ],
      "metadata": {
        "id": "pHhmPAxxdrrZ",
        "outputId": "4639da65-5b0b-4adb-f523-ca9db3d06c5e",
        "colab": {
          "base_uri": "https://localhost:8080/"
        }
      },
      "execution_count": 120,
      "outputs": [
        {
          "output_type": "stream",
          "name": "stdout",
          "text": [
            "1/1 [==============================] - 0s 54ms/step\n"
          ]
        },
        {
          "output_type": "execute_result",
          "data": {
            "text/plain": [
              "array([[52.364994],\n",
              "       [55.866104],\n",
              "       [59.367214],\n",
              "       [62.86833 ],\n",
              "       [66.36944 ],\n",
              "       [69.870544],\n",
              "       [73.37166 ],\n",
              "       [76.87277 ],\n",
              "       [80.373886],\n",
              "       [83.87499 ]], dtype=float32)"
            ]
          },
          "metadata": {},
          "execution_count": 120
        }
      ]
    },
    {
      "cell_type": "code",
      "source": [
        "y_test"
      ],
      "metadata": {
        "id": "5DK0FwUdeR0C",
        "outputId": "f1032a72-f5de-4148-c707-64dc5c45df42",
        "colab": {
          "base_uri": "https://localhost:8080/"
        }
      },
      "execution_count": 121,
      "outputs": [
        {
          "output_type": "execute_result",
          "data": {
            "text/plain": [
              "<tf.Tensor: shape=(10,), dtype=int32, numpy=array([ 70,  74,  78,  82,  86,  90,  94,  98, 102, 106], dtype=int32)>"
            ]
          },
          "metadata": {},
          "execution_count": 121
        }
      ]
    },
    {
      "cell_type": "code",
      "source": [
        "def plot_predictions(train_data=X_train,\n",
        "                     train_labels=y_train,\n",
        "                     test_data=X_test,\n",
        "                     test_labels=y_test,\n",
        "                     predictions=y_pred):\n",
        "  plt.figure(figsize=(10, 7))\n",
        "  # Plot training data in blue\n",
        "  plt.scatter(train_data, train_labels, c=\"b\", label=\"Training data\")\n",
        "  # Plot test data in green\n",
        "  plt.scatter(test_data, test_labels, c=\"g\", label=\"Testing data\")\n",
        "  # Plot the predictions in red (predictions were made on the test data)\n",
        "  plt.scatter(test_data, predictions, c=\"r\", label=\"Predictions\")\n",
        "  # Show the legend\n",
        "  plt.legend();"
      ],
      "metadata": {
        "id": "E_u1K4RdeeHO"
      },
      "execution_count": 122,
      "outputs": []
    },
    {
      "cell_type": "code",
      "source": [
        "plot_predictions(train_data=X_train,\n",
        "                 train_labels=y_train,\n",
        "                 test_data=X_test,\n",
        "                 test_labels=y_test,\n",
        "                 predictions=y_pred)"
      ],
      "metadata": {
        "id": "MAN6HYhwfKrw",
        "outputId": "fa419d9a-b12b-465e-f457-77d625dab1de",
        "colab": {
          "base_uri": "https://localhost:8080/",
          "height": 467
        }
      },
      "execution_count": 123,
      "outputs": [
        {
          "output_type": "display_data",
          "data": {
            "text/plain": [
              "<Figure size 1000x700 with 1 Axes>"
            ],
            "image/png": "[encoded data removed]"
          },
          "metadata": {}
        }
      ]
    },
    {
      "cell_type": "code",
      "source": [],
      "metadata": {
        "id": "z_WDvlLDfLCs"
      },
      "execution_count": null,
      "outputs": []
    }
  ]
}
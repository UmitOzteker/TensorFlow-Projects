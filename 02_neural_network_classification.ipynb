{
  "nbformat": 4,
  "nbformat_minor": 0,
  "metadata": {
    "colab": {
      "provenance": [],
      "authorship_tag": "ABX9TyM0pgMPHhMKK3vczFH8IBdN",
      "include_colab_link": true
    },
    "kernelspec": {
      "name": "python3",
      "display_name": "Python 3"
    },
    "language_info": {
      "name": "python"
    }
  },
  "cells": [
    {
      "cell_type": "markdown",
      "metadata": {
        "id": "view-in-github",
        "colab_type": "text"
      },
      "source": [
        "<a href=\"https://colab.research.google.com/github/UmitOzteker/TensorFlow-Projects/blob/main/02_neural_network_classification.ipynb\" target=\"_parent\"><img src=\"https://colab.research.google.com/assets/colab-badge.svg\" alt=\"Open In Colab\"/></a>"
      ]
    },
    {
      "cell_type": "markdown",
      "source": [
        "# Tensorflow İle Neural Network Classification\n",
        "\n",
        "Veri analizinde kullanılan yöntemleri uygulayarak verileri sınıflandırma, bir dizi girdi verisi için sınıflandırma modelleri oluşturmak için kullanılan bir prosedürdür\n",
        "\n",
        "Classification Tipleri:\n",
        "* Binary Classification\n",
        "* Multiclass Classification\n",
        "* Multilabel Classification"
      ],
      "metadata": {
        "id": "V1SGRl9k2HgP"
      }
    },
    {
      "cell_type": "markdown",
      "source": [
        "# Data Oluşturma"
      ],
      "metadata": {
        "id": "lnWcMCnQ6zz1"
      }
    },
    {
      "cell_type": "code",
      "source": [
        "from sklearn.datasets import make_circles\n",
        "\n",
        "n_samples = 1000\n",
        "\n",
        "X, y = make_circles(n_samples,\n",
        "     noise=0.03,\n",
        "     random_state=42)"
      ],
      "metadata": {
        "id": "h06ODCLG7Vuh"
      },
      "execution_count": 37,
      "outputs": []
    },
    {
      "cell_type": "markdown",
      "source": [
        "Make Circles 2d boyutunda büyük bir dairenin içine küçük bir daire oluşturur\n",
        "\n",
        "* **noise parametresi**: Bu parametre veri noktalarına eklenen rastgele hatanın şiddetini belirler. 0.03'lük bir değer, gürültünün neden olduğu maksimum yer değiştirmenin dairelerin yarıçaplarının %3'ü olacağı anlamına gelir. Basitçe ifade edersek, mükemmel dairelerin etrafında hafif bir bulanıklık oluşturur."
      ],
      "metadata": {
        "id": "NnqeEhaH9g73"
      }
    },
    {
      "cell_type": "code",
      "source": [
        "X"
      ],
      "metadata": {
        "colab": {
          "base_uri": "https://localhost:8080/"
        },
        "id": "3CLWkyFT77N_",
        "outputId": "fc944761-5727-48f5-8073-6ff703d59796"
      },
      "execution_count": 38,
      "outputs": [
        {
          "output_type": "execute_result",
          "data": {
            "text/plain": [
              "array([[ 0.75424625,  0.23148074],\n",
              "       [-0.75615888,  0.15325888],\n",
              "       [-0.81539193,  0.17328203],\n",
              "       ...,\n",
              "       [-0.13690036, -0.81001183],\n",
              "       [ 0.67036156, -0.76750154],\n",
              "       [ 0.28105665,  0.96382443]])"
            ]
          },
          "metadata": {},
          "execution_count": 38
        }
      ]
    },
    {
      "cell_type": "code",
      "source": [
        "y[:10]"
      ],
      "metadata": {
        "colab": {
          "base_uri": "https://localhost:8080/"
        },
        "id": "sI2qXvuK8MiY",
        "outputId": "40509cf3-965e-4598-876f-5b2f01e799ee"
      },
      "execution_count": 39,
      "outputs": [
        {
          "output_type": "execute_result",
          "data": {
            "text/plain": [
              "array([1, 1, 1, 1, 0, 1, 1, 1, 1, 0])"
            ]
          },
          "metadata": {},
          "execution_count": 39
        }
      ]
    },
    {
      "cell_type": "code",
      "source": [
        "import pandas as pd\n",
        "circles = pd.DataFrame({\"X0\":X[:,0],\"X1\":X[:,1], \"label\":y})\n",
        "circles"
      ],
      "metadata": {
        "colab": {
          "base_uri": "https://localhost:8080/",
          "height": 423
        },
        "id": "IBs3AaAJ8Qtg",
        "outputId": "bac24a2c-b8f4-4966-cba9-165b7f76dbab"
      },
      "execution_count": 40,
      "outputs": [
        {
          "output_type": "execute_result",
          "data": {
            "text/plain": [
              "           X0        X1  label\n",
              "0    0.754246  0.231481      1\n",
              "1   -0.756159  0.153259      1\n",
              "2   -0.815392  0.173282      1\n",
              "3   -0.393731  0.692883      1\n",
              "4    0.442208 -0.896723      0\n",
              "..        ...       ...    ...\n",
              "995  0.244054  0.944125      0\n",
              "996 -0.978655 -0.272373      0\n",
              "997 -0.136900 -0.810012      1\n",
              "998  0.670362 -0.767502      0\n",
              "999  0.281057  0.963824      0\n",
              "\n",
              "[1000 rows x 3 columns]"
            ],
            "text/html": [
              "\n",
              "  <div id=\"df-da2756c1-627e-45be-8003-fe5e86925e56\" class=\"colab-df-container\">\n",
              "    <div>\n",
              "<style scoped>\n",
              "    .dataframe tbody tr th:only-of-type {\n",
              "        vertical-align: middle;\n",
              "    }\n",
              "\n",
              "    .dataframe tbody tr th {\n",
              "        vertical-align: top;\n",
              "    }\n",
              "\n",
              "    .dataframe thead th {\n",
              "        text-align: right;\n",
              "    }\n",
              "</style>\n",
              "<table border=\"1\" class=\"dataframe\">\n",
              "  <thead>\n",
              "    <tr style=\"text-align: right;\">\n",
              "      <th></th>\n",
              "      <th>X0</th>\n",
              "      <th>X1</th>\n",
              "      <th>label</th>\n",
              "    </tr>\n",
              "  </thead>\n",
              "  <tbody>\n",
              "    <tr>\n",
              "      <th>0</th>\n",
              "      <td>0.754246</td>\n",
              "      <td>0.231481</td>\n",
              "      <td>1</td>\n",
              "    </tr>\n",
              "    <tr>\n",
              "      <th>1</th>\n",
              "      <td>-0.756159</td>\n",
              "      <td>0.153259</td>\n",
              "      <td>1</td>\n",
              "    </tr>\n",
              "    <tr>\n",
              "      <th>2</th>\n",
              "      <td>-0.815392</td>\n",
              "      <td>0.173282</td>\n",
              "      <td>1</td>\n",
              "    </tr>\n",
              "    <tr>\n",
              "      <th>3</th>\n",
              "      <td>-0.393731</td>\n",
              "      <td>0.692883</td>\n",
              "      <td>1</td>\n",
              "    </tr>\n",
              "    <tr>\n",
              "      <th>4</th>\n",
              "      <td>0.442208</td>\n",
              "      <td>-0.896723</td>\n",
              "      <td>0</td>\n",
              "    </tr>\n",
              "    <tr>\n",
              "      <th>...</th>\n",
              "      <td>...</td>\n",
              "      <td>...</td>\n",
              "      <td>...</td>\n",
              "    </tr>\n",
              "    <tr>\n",
              "      <th>995</th>\n",
              "      <td>0.244054</td>\n",
              "      <td>0.944125</td>\n",
              "      <td>0</td>\n",
              "    </tr>\n",
              "    <tr>\n",
              "      <th>996</th>\n",
              "      <td>-0.978655</td>\n",
              "      <td>-0.272373</td>\n",
              "      <td>0</td>\n",
              "    </tr>\n",
              "    <tr>\n",
              "      <th>997</th>\n",
              "      <td>-0.136900</td>\n",
              "      <td>-0.810012</td>\n",
              "      <td>1</td>\n",
              "    </tr>\n",
              "    <tr>\n",
              "      <th>998</th>\n",
              "      <td>0.670362</td>\n",
              "      <td>-0.767502</td>\n",
              "      <td>0</td>\n",
              "    </tr>\n",
              "    <tr>\n",
              "      <th>999</th>\n",
              "      <td>0.281057</td>\n",
              "      <td>0.963824</td>\n",
              "      <td>0</td>\n",
              "    </tr>\n",
              "  </tbody>\n",
              "</table>\n",
              "<p>1000 rows × 3 columns</p>\n",
              "</div>\n",
              "    <div class=\"colab-df-buttons\">\n",
              "\n",
              "  <div class=\"colab-df-container\">\n",
              "    <button class=\"colab-df-convert\" onclick=\"convertToInteractive('df-da2756c1-627e-45be-8003-fe5e86925e56')\"\n",
              "            title=\"Convert this dataframe to an interactive table.\"\n",
              "            style=\"display:none;\">\n",
              "\n",
              "  <svg xmlns=\"http://www.w3.org/2000/svg\" height=\"24px\" viewBox=\"0 -960 960 960\">\n",
              "    <path d=\"M120-120v-720h720v720H120Zm60-500h600v-160H180v160Zm220 220h160v-160H400v160Zm0 220h160v-160H400v160ZM180-400h160v-160H180v160Zm440 0h160v-160H620v160ZM180-180h160v-160H180v160Zm440 0h160v-160H620v160Z\"/>\n",
              "  </svg>\n",
              "    </button>\n",
              "\n",
              "  <style>\n",
              "    .colab-df-container {\n",
              "      display:flex;\n",
              "      gap: 12px;\n",
              "    }\n",
              "\n",
              "    .colab-df-convert {\n",
              "      background-color: #E8F0FE;\n",
              "      border: none;\n",
              "      border-radius: 50%;\n",
              "      cursor: pointer;\n",
              "      display: none;\n",
              "      fill: #1967D2;\n",
              "      height: 32px;\n",
              "      padding: 0 0 0 0;\n",
              "      width: 32px;\n",
              "    }\n",
              "\n",
              "    .colab-df-convert:hover {\n",
              "      background-color: #E2EBFA;\n",
              "      box-shadow: 0px 1px 2px rgba(60, 64, 67, 0.3), 0px 1px 3px 1px rgba(60, 64, 67, 0.15);\n",
              "      fill: #174EA6;\n",
              "    }\n",
              "\n",
              "    .colab-df-buttons div {\n",
              "      margin-bottom: 4px;\n",
              "    }\n",
              "\n",
              "    [theme=dark] .colab-df-convert {\n",
              "      background-color: #3B4455;\n",
              "      fill: #D2E3FC;\n",
              "    }\n",
              "\n",
              "    [theme=dark] .colab-df-convert:hover {\n",
              "      background-color: #434B5C;\n",
              "      box-shadow: 0px 1px 3px 1px rgba(0, 0, 0, 0.15);\n",
              "      filter: drop-shadow(0px 1px 2px rgba(0, 0, 0, 0.3));\n",
              "      fill: #FFFFFF;\n",
              "    }\n",
              "  </style>\n",
              "\n",
              "    <script>\n",
              "      const buttonEl =\n",
              "        document.querySelector('#df-da2756c1-627e-45be-8003-fe5e86925e56 button.colab-df-convert');\n",
              "      buttonEl.style.display =\n",
              "        google.colab.kernel.accessAllowed ? 'block' : 'none';\n",
              "\n",
              "      async function convertToInteractive(key) {\n",
              "        const element = document.querySelector('#df-da2756c1-627e-45be-8003-fe5e86925e56');\n",
              "        const dataTable =\n",
              "          await google.colab.kernel.invokeFunction('convertToInteractive',\n",
              "                                                    [key], {});\n",
              "        if (!dataTable) return;\n",
              "\n",
              "        const docLinkHtml = 'Like what you see? Visit the ' +\n",
              "          '<a target=\"_blank\" href=https://colab.research.google.com/notebooks/data_table.ipynb>data table notebook</a>'\n",
              "          + ' to learn more about interactive tables.';\n",
              "        element.innerHTML = '';\n",
              "        dataTable['output_type'] = 'display_data';\n",
              "        await google.colab.output.renderOutput(dataTable, element);\n",
              "        const docLink = document.createElement('div');\n",
              "        docLink.innerHTML = docLinkHtml;\n",
              "        element.appendChild(docLink);\n",
              "      }\n",
              "    </script>\n",
              "  </div>\n",
              "\n",
              "\n",
              "<div id=\"df-18355a3a-eb05-4238-be12-8dd95390d957\">\n",
              "  <button class=\"colab-df-quickchart\" onclick=\"quickchart('df-18355a3a-eb05-4238-be12-8dd95390d957')\"\n",
              "            title=\"Suggest charts\"\n",
              "            style=\"display:none;\">\n",
              "\n",
              "<svg xmlns=\"http://www.w3.org/2000/svg\" height=\"24px\"viewBox=\"0 0 24 24\"\n",
              "     width=\"24px\">\n",
              "    <g>\n",
              "        <path d=\"M19 3H5c-1.1 0-2 .9-2 2v14c0 1.1.9 2 2 2h14c1.1 0 2-.9 2-2V5c0-1.1-.9-2-2-2zM9 17H7v-7h2v7zm4 0h-2V7h2v10zm4 0h-2v-4h2v4z\"/>\n",
              "    </g>\n",
              "</svg>\n",
              "  </button>\n",
              "\n",
              "<style>\n",
              "  .colab-df-quickchart {\n",
              "      --bg-color: #E8F0FE;\n",
              "      --fill-color: #1967D2;\n",
              "      --hover-bg-color: #E2EBFA;\n",
              "      --hover-fill-color: #174EA6;\n",
              "      --disabled-fill-color: #AAA;\n",
              "      --disabled-bg-color: #DDD;\n",
              "  }\n",
              "\n",
              "  [theme=dark] .colab-df-quickchart {\n",
              "      --bg-color: #3B4455;\n",
              "      --fill-color: #D2E3FC;\n",
              "      --hover-bg-color: #434B5C;\n",
              "      --hover-fill-color: #FFFFFF;\n",
              "      --disabled-bg-color: #3B4455;\n",
              "      --disabled-fill-color: #666;\n",
              "  }\n",
              "\n",
              "  .colab-df-quickchart {\n",
              "    background-color: var(--bg-color);\n",
              "    border: none;\n",
              "    border-radius: 50%;\n",
              "    cursor: pointer;\n",
              "    display: none;\n",
              "    fill: var(--fill-color);\n",
              "    height: 32px;\n",
              "    padding: 0;\n",
              "    width: 32px;\n",
              "  }\n",
              "\n",
              "  .colab-df-quickchart:hover {\n",
              "    background-color: var(--hover-bg-color);\n",
              "    box-shadow: 0 1px 2px rgba(60, 64, 67, 0.3), 0 1px 3px 1px rgba(60, 64, 67, 0.15);\n",
              "    fill: var(--button-hover-fill-color);\n",
              "  }\n",
              "\n",
              "  .colab-df-quickchart-complete:disabled,\n",
              "  .colab-df-quickchart-complete:disabled:hover {\n",
              "    background-color: var(--disabled-bg-color);\n",
              "    fill: var(--disabled-fill-color);\n",
              "    box-shadow: none;\n",
              "  }\n",
              "\n",
              "  .colab-df-spinner {\n",
              "    border: 2px solid var(--fill-color);\n",
              "    border-color: transparent;\n",
              "    border-bottom-color: var(--fill-color);\n",
              "    animation:\n",
              "      spin 1s steps(1) infinite;\n",
              "  }\n",
              "\n",
              "  @keyframes spin {\n",
              "    0% {\n",
              "      border-color: transparent;\n",
              "      border-bottom-color: var(--fill-color);\n",
              "      border-left-color: var(--fill-color);\n",
              "    }\n",
              "    20% {\n",
              "      border-color: transparent;\n",
              "      border-left-color: var(--fill-color);\n",
              "      border-top-color: var(--fill-color);\n",
              "    }\n",
              "    30% {\n",
              "      border-color: transparent;\n",
              "      border-left-color: var(--fill-color);\n",
              "      border-top-color: var(--fill-color);\n",
              "      border-right-color: var(--fill-color);\n",
              "    }\n",
              "    40% {\n",
              "      border-color: transparent;\n",
              "      border-right-color: var(--fill-color);\n",
              "      border-top-color: var(--fill-color);\n",
              "    }\n",
              "    60% {\n",
              "      border-color: transparent;\n",
              "      border-right-color: var(--fill-color);\n",
              "    }\n",
              "    80% {\n",
              "      border-color: transparent;\n",
              "      border-right-color: var(--fill-color);\n",
              "      border-bottom-color: var(--fill-color);\n",
              "    }\n",
              "    90% {\n",
              "      border-color: transparent;\n",
              "      border-bottom-color: var(--fill-color);\n",
              "    }\n",
              "  }\n",
              "</style>\n",
              "\n",
              "  <script>\n",
              "    async function quickchart(key) {\n",
              "      const quickchartButtonEl =\n",
              "        document.querySelector('#' + key + ' button');\n",
              "      quickchartButtonEl.disabled = true;  // To prevent multiple clicks.\n",
              "      quickchartButtonEl.classList.add('colab-df-spinner');\n",
              "      try {\n",
              "        const charts = await google.colab.kernel.invokeFunction(\n",
              "            'suggestCharts', [key], {});\n",
              "      } catch (error) {\n",
              "        console.error('Error during call to suggestCharts:', error);\n",
              "      }\n",
              "      quickchartButtonEl.classList.remove('colab-df-spinner');\n",
              "      quickchartButtonEl.classList.add('colab-df-quickchart-complete');\n",
              "    }\n",
              "    (() => {\n",
              "      let quickchartButtonEl =\n",
              "        document.querySelector('#df-18355a3a-eb05-4238-be12-8dd95390d957 button');\n",
              "      quickchartButtonEl.style.display =\n",
              "        google.colab.kernel.accessAllowed ? 'block' : 'none';\n",
              "    })();\n",
              "  </script>\n",
              "</div>\n",
              "\n",
              "  <div id=\"id_44238038-8af7-4f8c-9500-a5fe32e1e850\">\n",
              "    <style>\n",
              "      .colab-df-generate {\n",
              "        background-color: #E8F0FE;\n",
              "        border: none;\n",
              "        border-radius: 50%;\n",
              "        cursor: pointer;\n",
              "        display: none;\n",
              "        fill: #1967D2;\n",
              "        height: 32px;\n",
              "        padding: 0 0 0 0;\n",
              "        width: 32px;\n",
              "      }\n",
              "\n",
              "      .colab-df-generate:hover {\n",
              "        background-color: #E2EBFA;\n",
              "        box-shadow: 0px 1px 2px rgba(60, 64, 67, 0.3), 0px 1px 3px 1px rgba(60, 64, 67, 0.15);\n",
              "        fill: #174EA6;\n",
              "      }\n",
              "\n",
              "      [theme=dark] .colab-df-generate {\n",
              "        background-color: #3B4455;\n",
              "        fill: #D2E3FC;\n",
              "      }\n",
              "\n",
              "      [theme=dark] .colab-df-generate:hover {\n",
              "        background-color: #434B5C;\n",
              "        box-shadow: 0px 1px 3px 1px rgba(0, 0, 0, 0.15);\n",
              "        filter: drop-shadow(0px 1px 2px rgba(0, 0, 0, 0.3));\n",
              "        fill: #FFFFFF;\n",
              "      }\n",
              "    </style>\n",
              "    <button class=\"colab-df-generate\" onclick=\"generateWithVariable('circles')\"\n",
              "            title=\"Generate code using this dataframe.\"\n",
              "            style=\"display:none;\">\n",
              "\n",
              "  <svg xmlns=\"http://www.w3.org/2000/svg\" height=\"24px\"viewBox=\"0 0 24 24\"\n",
              "       width=\"24px\">\n",
              "    <path d=\"M7,19H8.4L18.45,9,17,7.55,7,17.6ZM5,21V16.75L18.45,3.32a2,2,0,0,1,2.83,0l1.4,1.43a1.91,1.91,0,0,1,.58,1.4,1.91,1.91,0,0,1-.58,1.4L9.25,21ZM18.45,9,17,7.55Zm-12,3A5.31,5.31,0,0,0,4.9,8.1,5.31,5.31,0,0,0,1,6.5,5.31,5.31,0,0,0,4.9,4.9,5.31,5.31,0,0,0,6.5,1,5.31,5.31,0,0,0,8.1,4.9,5.31,5.31,0,0,0,12,6.5,5.46,5.46,0,0,0,6.5,12Z\"/>\n",
              "  </svg>\n",
              "    </button>\n",
              "    <script>\n",
              "      (() => {\n",
              "      const buttonEl =\n",
              "        document.querySelector('#id_44238038-8af7-4f8c-9500-a5fe32e1e850 button.colab-df-generate');\n",
              "      buttonEl.style.display =\n",
              "        google.colab.kernel.accessAllowed ? 'block' : 'none';\n",
              "\n",
              "      buttonEl.onclick = () => {\n",
              "        google.colab.notebook.generateWithVariable('circles');\n",
              "      }\n",
              "      })();\n",
              "    </script>\n",
              "  </div>\n",
              "\n",
              "    </div>\n",
              "  </div>\n"
            ],
            "application/vnd.google.colaboratory.intrinsic+json": {
              "type": "dataframe",
              "variable_name": "circles",
              "summary": "{\n  \"name\": \"circles\",\n  \"rows\": 1000,\n  \"fields\": [\n    {\n      \"column\": \"X0\",\n      \"properties\": {\n        \"dtype\": \"number\",\n        \"std\": 0.6398365674574613,\n        \"min\": -1.0595024599098635,\n        \"max\": 1.0337117525463373,\n        \"num_unique_values\": 1000,\n        \"samples\": [\n          -0.3751930206933384,\n          0.015380346701456493,\n          -0.7027835978832848\n        ],\n        \"semantic_type\": \"\",\n        \"description\": \"\"\n      }\n    },\n    {\n      \"column\": \"X1\",\n      \"properties\": {\n        \"dtype\": \"number\",\n        \"std\": 0.6411559581015384,\n        \"min\": -1.0677683182718436,\n        \"max\": 1.0360036756154805,\n        \"num_unique_values\": 1000,\n        \"samples\": [\n          0.6826597225888621,\n          0.9600260220697324,\n          -0.3147169925147762\n        ],\n        \"semantic_type\": \"\",\n        \"description\": \"\"\n      }\n    },\n    {\n      \"column\": \"label\",\n      \"properties\": {\n        \"dtype\": \"number\",\n        \"std\": 0,\n        \"min\": 0,\n        \"max\": 1,\n        \"num_unique_values\": 2,\n        \"samples\": [\n          0,\n          1\n        ],\n        \"semantic_type\": \"\",\n        \"description\": \"\"\n      }\n    }\n  ]\n}"
            }
          },
          "metadata": {},
          "execution_count": 40
        }
      ]
    },
    {
      "cell_type": "code",
      "source": [
        "# plot ile Görselleştirme\n",
        "import matplotlib.pyplot as plt\n",
        "plt.scatter(X[:, 0], X[:, 1], c=y, cmap=plt.cm.RdYlBu);"
      ],
      "metadata": {
        "colab": {
          "base_uri": "https://localhost:8080/",
          "height": 430
        },
        "id": "8SYz1y7x85K-",
        "outputId": "533de661-476a-4530-8835-172affb4034f"
      },
      "execution_count": 41,
      "outputs": [
        {
          "output_type": "display_data",
          "data": {
            "text/plain": [
              "<Figure size 640x480 with 1 Axes>"
            ],
            "image/png": "[encoded data removed]"
          },
          "metadata": {}
        }
      ]
    },
    {
      "cell_type": "markdown",
      "source": [
        "# Input ve Output Şekilleri"
      ],
      "metadata": {
        "id": "2oC-uESz9SVH"
      }
    },
    {
      "cell_type": "code",
      "source": [
        " # Label ve feature'ların şekillerinin kontrolü\n",
        "X.shape, y.shape"
      ],
      "metadata": {
        "colab": {
          "base_uri": "https://localhost:8080/"
        },
        "id": "amWZCbQx_7cS",
        "outputId": "041199f6-5ffb-49d9-8ddf-1526543ca3f2"
      },
      "execution_count": 42,
      "outputs": [
        {
          "output_type": "execute_result",
          "data": {
            "text/plain": [
              "((1000, 2), (1000,))"
            ]
          },
          "metadata": {},
          "execution_count": 42
        }
      ]
    },
    {
      "cell_type": "code",
      "source": [
        "len(X), len(y)"
      ],
      "metadata": {
        "colab": {
          "base_uri": "https://localhost:8080/"
        },
        "id": "e0T-qidbAF3q",
        "outputId": "804f2064-bd40-4e5c-9c87-52d505e609f2"
      },
      "execution_count": 43,
      "outputs": [
        {
          "output_type": "execute_result",
          "data": {
            "text/plain": [
              "(1000, 1000)"
            ]
          },
          "metadata": {},
          "execution_count": 43
        }
      ]
    },
    {
      "cell_type": "code",
      "source": [
        "X[0], y[0]"
      ],
      "metadata": {
        "colab": {
          "base_uri": "https://localhost:8080/"
        },
        "id": "SO8rNC-NHaAR",
        "outputId": "6385dc39-fd6e-4973-b9d3-95277055fbcb"
      },
      "execution_count": 44,
      "outputs": [
        {
          "output_type": "execute_result",
          "data": {
            "text/plain": [
              "(array([0.75424625, 0.23148074]), 1)"
            ]
          },
          "metadata": {},
          "execution_count": 44
        }
      ]
    },
    {
      "cell_type": "markdown",
      "source": [
        "# Modelleme Adımları"
      ],
      "metadata": {
        "id": "nBxd2MTuHdur"
      }
    },
    {
      "cell_type": "code",
      "source": [
        "import tensorflow as tf\n",
        "tf.random.set_seed(42)\n",
        "\n",
        "# Model Oluşturma\n",
        "model = tf.keras.Sequential([\n",
        "    tf.keras.layers.Dense(1)\n",
        "])\n",
        "\n",
        "# Modeli Compile Etme\n",
        "model.compile(loss=tf.keras.losses.BinaryCrossentropy(),\n",
        "              optimizer=tf.keras.optimizers.SGD(),\n",
        "              metrics=[\"accuracy\"])\n",
        "\n",
        "# Modeli Fit Etme\n",
        "model.fit(tf.expand_dims(X, axis=-1), y, epochs=5)"
      ],
      "metadata": {
        "colab": {
          "base_uri": "https://localhost:8080/"
        },
        "id": "JKXPx0QGHnVW",
        "outputId": "2daf6599-ff2a-4c25-c845-cbcfcd0c3b4a"
      },
      "execution_count": 47,
      "outputs": [
        {
          "output_type": "stream",
          "name": "stdout",
          "text": [
            "Epoch 1/5\n",
            "32/32 [==============================] - 1s 4ms/step - loss: 4.2784 - accuracy: 0.5010\n",
            "Epoch 2/5\n",
            "32/32 [==============================] - 0s 4ms/step - loss: 2.2206 - accuracy: 0.4983\n",
            "Epoch 3/5\n",
            "32/32 [==============================] - 0s 4ms/step - loss: 0.7369 - accuracy: 0.5015\n",
            "Epoch 4/5\n",
            "32/32 [==============================] - 0s 2ms/step - loss: 0.7066 - accuracy: 0.4997\n",
            "Epoch 5/5\n",
            "32/32 [==============================] - 0s 2ms/step - loss: 0.6979 - accuracy: 0.4978\n"
          ]
        },
        {
          "output_type": "execute_result",
          "data": {
            "text/plain": [
              "<keras.src.callbacks.History at 0x77ff0c6d8e50>"
            ]
          },
          "metadata": {},
          "execution_count": 47
        }
      ]
    },
    {
      "cell_type": "code",
      "source": [
        "# Daha uzun eğiterek modeli geliştirme\n",
        "\n",
        "model.fit(tf.expand_dims(X, axis=-1), y, epochs=200)\n",
        "model.evaluate(X, y)"
      ],
      "metadata": {
        "colab": {
          "base_uri": "https://localhost:8080/"
        },
        "id": "AJSbgxThKwP-",
        "outputId": "01fcf1d5-9a42-4664-92fe-ade6f891a87d"
      },
      "execution_count": 48,
      "outputs": [
        {
          "output_type": "stream",
          "name": "stdout",
          "text": [
            "Epoch 1/200\n",
            "32/32 [==============================] - 0s 3ms/step - loss: 0.6949 - accuracy: 0.5019\n",
            "Epoch 2/200\n",
            "32/32 [==============================] - 0s 3ms/step - loss: 0.6940 - accuracy: 0.4984\n",
            "Epoch 3/200\n",
            "32/32 [==============================] - 0s 3ms/step - loss: 0.6942 - accuracy: 0.4916\n",
            "Epoch 4/200\n",
            "32/32 [==============================] - 0s 3ms/step - loss: 0.6937 - accuracy: 0.4921\n",
            "Epoch 5/200\n",
            "32/32 [==============================] - 0s 3ms/step - loss: 0.6936 - accuracy: 0.4912\n",
            "Epoch 6/200\n",
            "32/32 [==============================] - 0s 3ms/step - loss: 0.6932 - accuracy: 0.5106\n",
            "Epoch 7/200\n",
            "32/32 [==============================] - 0s 2ms/step - loss: 0.6938 - accuracy: 0.4975\n",
            "Epoch 8/200\n",
            "32/32 [==============================] - 0s 2ms/step - loss: 0.6937 - accuracy: 0.4762\n",
            "Epoch 9/200\n",
            "32/32 [==============================] - 0s 2ms/step - loss: 0.6936 - accuracy: 0.4890\n",
            "Epoch 10/200\n",
            "32/32 [==============================] - 0s 2ms/step - loss: 0.6933 - accuracy: 0.4980\n",
            "Epoch 11/200\n",
            "32/32 [==============================] - 0s 2ms/step - loss: 0.6937 - accuracy: 0.4729\n",
            "Epoch 12/200\n",
            "32/32 [==============================] - 0s 2ms/step - loss: 0.6940 - accuracy: 0.4974\n",
            "Epoch 13/200\n",
            "32/32 [==============================] - 0s 2ms/step - loss: 0.6937 - accuracy: 0.4950\n",
            "Epoch 14/200\n",
            "32/32 [==============================] - 0s 2ms/step - loss: 0.6939 - accuracy: 0.4837\n",
            "Epoch 15/200\n",
            "32/32 [==============================] - 0s 2ms/step - loss: 0.6935 - accuracy: 0.4857\n",
            "Epoch 16/200\n",
            "32/32 [==============================] - 0s 2ms/step - loss: 0.6939 - accuracy: 0.4658\n",
            "Epoch 17/200\n",
            "32/32 [==============================] - 0s 2ms/step - loss: 0.6935 - accuracy: 0.4880\n",
            "Epoch 18/200\n",
            "32/32 [==============================] - 0s 2ms/step - loss: 0.6937 - accuracy: 0.4762\n",
            "Epoch 19/200\n",
            "32/32 [==============================] - 0s 2ms/step - loss: 0.6937 - accuracy: 0.4900\n",
            "Epoch 20/200\n",
            "32/32 [==============================] - 0s 2ms/step - loss: 0.6936 - accuracy: 0.4735\n",
            "Epoch 21/200\n",
            "32/32 [==============================] - 0s 2ms/step - loss: 0.6934 - accuracy: 0.4984\n",
            "Epoch 22/200\n",
            "32/32 [==============================] - 0s 2ms/step - loss: 0.6938 - accuracy: 0.4826\n",
            "Epoch 23/200\n",
            "32/32 [==============================] - 0s 2ms/step - loss: 0.6936 - accuracy: 0.4856\n",
            "Epoch 24/200\n",
            "32/32 [==============================] - 0s 2ms/step - loss: 0.6938 - accuracy: 0.4964\n",
            "Epoch 25/200\n",
            "32/32 [==============================] - 0s 2ms/step - loss: 0.6935 - accuracy: 0.4894\n",
            "Epoch 26/200\n",
            "32/32 [==============================] - 0s 2ms/step - loss: 0.6937 - accuracy: 0.4868\n",
            "Epoch 27/200\n",
            "32/32 [==============================] - 0s 2ms/step - loss: 0.6932 - accuracy: 0.5097\n",
            "Epoch 28/200\n",
            "32/32 [==============================] - 0s 2ms/step - loss: 0.6938 - accuracy: 0.4808\n",
            "Epoch 29/200\n",
            "32/32 [==============================] - 0s 2ms/step - loss: 0.6937 - accuracy: 0.4939\n",
            "Epoch 30/200\n",
            "32/32 [==============================] - 0s 2ms/step - loss: 0.6935 - accuracy: 0.4980\n",
            "Epoch 31/200\n",
            "32/32 [==============================] - 0s 2ms/step - loss: 0.6936 - accuracy: 0.5000\n",
            "Epoch 32/200\n",
            "32/32 [==============================] - 0s 2ms/step - loss: 0.6937 - accuracy: 0.4991\n",
            "Epoch 33/200\n",
            "32/32 [==============================] - 0s 2ms/step - loss: 0.6936 - accuracy: 0.4858\n",
            "Epoch 34/200\n",
            "32/32 [==============================] - 0s 2ms/step - loss: 0.6940 - accuracy: 0.4896\n",
            "Epoch 35/200\n",
            "32/32 [==============================] - 0s 2ms/step - loss: 0.6936 - accuracy: 0.5017\n",
            "Epoch 36/200\n",
            "32/32 [==============================] - 0s 2ms/step - loss: 0.6939 - accuracy: 0.4746\n",
            "Epoch 37/200\n",
            "32/32 [==============================] - 0s 2ms/step - loss: 0.6935 - accuracy: 0.4952\n",
            "Epoch 38/200\n",
            "32/32 [==============================] - 0s 2ms/step - loss: 0.6937 - accuracy: 0.4817\n",
            "Epoch 39/200\n",
            "32/32 [==============================] - 0s 2ms/step - loss: 0.6935 - accuracy: 0.4878\n",
            "Epoch 40/200\n",
            "32/32 [==============================] - 0s 2ms/step - loss: 0.6943 - accuracy: 0.4588\n",
            "Epoch 41/200\n",
            "32/32 [==============================] - 0s 3ms/step - loss: 0.6936 - accuracy: 0.4874\n",
            "Epoch 42/200\n",
            "32/32 [==============================] - 0s 2ms/step - loss: 0.6937 - accuracy: 0.4980\n",
            "Epoch 43/200\n",
            "32/32 [==============================] - 0s 2ms/step - loss: 0.6937 - accuracy: 0.4825\n",
            "Epoch 44/200\n",
            "32/32 [==============================] - 0s 2ms/step - loss: 0.6932 - accuracy: 0.5100\n",
            "Epoch 45/200\n",
            "32/32 [==============================] - 0s 2ms/step - loss: 0.6939 - accuracy: 0.4831\n",
            "Epoch 46/200\n",
            "32/32 [==============================] - 0s 2ms/step - loss: 0.6937 - accuracy: 0.4765\n",
            "Epoch 47/200\n",
            "32/32 [==============================] - 0s 2ms/step - loss: 0.6934 - accuracy: 0.5035\n",
            "Epoch 48/200\n",
            "32/32 [==============================] - 0s 2ms/step - loss: 0.6936 - accuracy: 0.4942\n",
            "Epoch 49/200\n",
            "32/32 [==============================] - 0s 2ms/step - loss: 0.6937 - accuracy: 0.4836\n",
            "Epoch 50/200\n",
            "32/32 [==============================] - 0s 2ms/step - loss: 0.6936 - accuracy: 0.4981\n",
            "Epoch 51/200\n",
            "32/32 [==============================] - 0s 2ms/step - loss: 0.6937 - accuracy: 0.4909\n",
            "Epoch 52/200\n",
            "32/32 [==============================] - 0s 2ms/step - loss: 0.6936 - accuracy: 0.4927\n",
            "Epoch 53/200\n",
            "32/32 [==============================] - 0s 2ms/step - loss: 0.6936 - accuracy: 0.4787\n",
            "Epoch 54/200\n",
            "32/32 [==============================] - 0s 2ms/step - loss: 0.6937 - accuracy: 0.4903\n",
            "Epoch 55/200\n",
            "32/32 [==============================] - 0s 3ms/step - loss: 0.6937 - accuracy: 0.5022\n",
            "Epoch 56/200\n",
            "32/32 [==============================] - 0s 2ms/step - loss: 0.6936 - accuracy: 0.4885\n",
            "Epoch 57/200\n",
            "32/32 [==============================] - 0s 2ms/step - loss: 0.6938 - accuracy: 0.4889\n",
            "Epoch 58/200\n",
            "32/32 [==============================] - 0s 2ms/step - loss: 0.6938 - accuracy: 0.4852\n",
            "Epoch 59/200\n",
            "32/32 [==============================] - 0s 2ms/step - loss: 0.6934 - accuracy: 0.5040\n",
            "Epoch 60/200\n",
            "32/32 [==============================] - 0s 2ms/step - loss: 0.6937 - accuracy: 0.4973\n",
            "Epoch 61/200\n",
            "32/32 [==============================] - 0s 2ms/step - loss: 0.6939 - accuracy: 0.5000\n",
            "Epoch 62/200\n",
            "32/32 [==============================] - 0s 2ms/step - loss: 0.6936 - accuracy: 0.5000\n",
            "Epoch 63/200\n",
            "32/32 [==============================] - 0s 2ms/step - loss: 0.6938 - accuracy: 0.4853\n",
            "Epoch 64/200\n",
            "32/32 [==============================] - 0s 2ms/step - loss: 0.6937 - accuracy: 0.4883\n",
            "Epoch 65/200\n",
            "32/32 [==============================] - 0s 2ms/step - loss: 0.6937 - accuracy: 0.4888\n",
            "Epoch 66/200\n",
            "32/32 [==============================] - 0s 2ms/step - loss: 0.6937 - accuracy: 0.4885\n",
            "Epoch 67/200\n",
            "32/32 [==============================] - 0s 2ms/step - loss: 0.6941 - accuracy: 0.4901\n",
            "Epoch 68/200\n",
            "32/32 [==============================] - 0s 2ms/step - loss: 0.6935 - accuracy: 0.4927\n",
            "Epoch 69/200\n",
            "32/32 [==============================] - 0s 2ms/step - loss: 0.6937 - accuracy: 0.4989\n",
            "Epoch 70/200\n",
            "32/32 [==============================] - 0s 2ms/step - loss: 0.6938 - accuracy: 0.4789\n",
            "Epoch 71/200\n",
            "32/32 [==============================] - 0s 2ms/step - loss: 0.6934 - accuracy: 0.4984\n",
            "Epoch 72/200\n",
            "32/32 [==============================] - 0s 2ms/step - loss: 0.6938 - accuracy: 0.4836\n",
            "Epoch 73/200\n",
            "32/32 [==============================] - 0s 2ms/step - loss: 0.6935 - accuracy: 0.4908\n",
            "Epoch 74/200\n",
            "32/32 [==============================] - 0s 2ms/step - loss: 0.6936 - accuracy: 0.4882\n",
            "Epoch 75/200\n",
            "32/32 [==============================] - 0s 2ms/step - loss: 0.6936 - accuracy: 0.4855\n",
            "Epoch 76/200\n",
            "32/32 [==============================] - 0s 2ms/step - loss: 0.6936 - accuracy: 0.5025\n",
            "Epoch 77/200\n",
            "32/32 [==============================] - 0s 2ms/step - loss: 0.6939 - accuracy: 0.4837\n",
            "Epoch 78/200\n",
            "32/32 [==============================] - 0s 2ms/step - loss: 0.6936 - accuracy: 0.4892\n",
            "Epoch 79/200\n",
            "32/32 [==============================] - 0s 2ms/step - loss: 0.6935 - accuracy: 0.4942\n",
            "Epoch 80/200\n",
            "32/32 [==============================] - 0s 2ms/step - loss: 0.6938 - accuracy: 0.5000\n",
            "Epoch 81/200\n",
            "32/32 [==============================] - 0s 2ms/step - loss: 0.6939 - accuracy: 0.4777\n",
            "Epoch 82/200\n",
            "32/32 [==============================] - 0s 2ms/step - loss: 0.6935 - accuracy: 0.4897\n",
            "Epoch 83/200\n",
            "32/32 [==============================] - 0s 2ms/step - loss: 0.6937 - accuracy: 0.5120\n",
            "Epoch 84/200\n",
            "32/32 [==============================] - 0s 2ms/step - loss: 0.6938 - accuracy: 0.4992\n",
            "Epoch 85/200\n",
            "32/32 [==============================] - 0s 2ms/step - loss: 0.6935 - accuracy: 0.4879\n",
            "Epoch 86/200\n",
            "32/32 [==============================] - 0s 2ms/step - loss: 0.6935 - accuracy: 0.4908\n",
            "Epoch 87/200\n",
            "32/32 [==============================] - 0s 2ms/step - loss: 0.6937 - accuracy: 0.4851\n",
            "Epoch 88/200\n",
            "32/32 [==============================] - 0s 2ms/step - loss: 0.6938 - accuracy: 0.4855\n",
            "Epoch 89/200\n",
            "32/32 [==============================] - 0s 2ms/step - loss: 0.6940 - accuracy: 0.4876\n",
            "Epoch 90/200\n",
            "32/32 [==============================] - 0s 2ms/step - loss: 0.6938 - accuracy: 0.4933\n",
            "Epoch 91/200\n",
            "32/32 [==============================] - 0s 2ms/step - loss: 0.6938 - accuracy: 0.4914\n",
            "Epoch 92/200\n",
            "32/32 [==============================] - 0s 2ms/step - loss: 0.6938 - accuracy: 0.4960\n",
            "Epoch 93/200\n",
            "32/32 [==============================] - 0s 2ms/step - loss: 0.6936 - accuracy: 0.5020\n",
            "Epoch 94/200\n",
            "32/32 [==============================] - 0s 2ms/step - loss: 0.6941 - accuracy: 0.4755\n",
            "Epoch 95/200\n",
            "32/32 [==============================] - 0s 2ms/step - loss: 0.6935 - accuracy: 0.4944\n",
            "Epoch 96/200\n",
            "32/32 [==============================] - 0s 2ms/step - loss: 0.6940 - accuracy: 0.4721\n",
            "Epoch 97/200\n",
            "32/32 [==============================] - 0s 2ms/step - loss: 0.6937 - accuracy: 0.5003\n",
            "Epoch 98/200\n",
            "32/32 [==============================] - 0s 2ms/step - loss: 0.6936 - accuracy: 0.4934\n",
            "Epoch 99/200\n",
            "32/32 [==============================] - 0s 2ms/step - loss: 0.6940 - accuracy: 0.4995\n",
            "Epoch 100/200\n",
            "32/32 [==============================] - 0s 2ms/step - loss: 0.6939 - accuracy: 0.4661\n",
            "Epoch 101/200\n",
            "32/32 [==============================] - 0s 2ms/step - loss: 0.6933 - accuracy: 0.5084\n",
            "Epoch 102/200\n",
            "32/32 [==============================] - 0s 2ms/step - loss: 0.6942 - accuracy: 0.4869\n",
            "Epoch 103/200\n",
            "32/32 [==============================] - 0s 2ms/step - loss: 0.6937 - accuracy: 0.4824\n",
            "Epoch 104/200\n",
            "32/32 [==============================] - 0s 2ms/step - loss: 0.6936 - accuracy: 0.4983\n",
            "Epoch 105/200\n",
            "32/32 [==============================] - 0s 2ms/step - loss: 0.6934 - accuracy: 0.5040\n",
            "Epoch 106/200\n",
            "32/32 [==============================] - 0s 2ms/step - loss: 0.6936 - accuracy: 0.4882\n",
            "Epoch 107/200\n",
            "32/32 [==============================] - 0s 2ms/step - loss: 0.6933 - accuracy: 0.5040\n",
            "Epoch 108/200\n",
            "32/32 [==============================] - 0s 2ms/step - loss: 0.6938 - accuracy: 0.4940\n",
            "Epoch 109/200\n",
            "32/32 [==============================] - 0s 2ms/step - loss: 0.6936 - accuracy: 0.4835\n",
            "Epoch 110/200\n",
            "32/32 [==============================] - 0s 2ms/step - loss: 0.6939 - accuracy: 0.4747\n",
            "Epoch 111/200\n",
            "32/32 [==============================] - 0s 3ms/step - loss: 0.6937 - accuracy: 0.4882\n",
            "Epoch 112/200\n",
            "32/32 [==============================] - 0s 3ms/step - loss: 0.6942 - accuracy: 0.4759\n",
            "Epoch 113/200\n",
            "32/32 [==============================] - 0s 3ms/step - loss: 0.6940 - accuracy: 0.4798\n",
            "Epoch 114/200\n",
            "32/32 [==============================] - 0s 3ms/step - loss: 0.6938 - accuracy: 0.4909\n",
            "Epoch 115/200\n",
            "32/32 [==============================] - 0s 3ms/step - loss: 0.6936 - accuracy: 0.4781\n",
            "Epoch 116/200\n",
            "32/32 [==============================] - 0s 2ms/step - loss: 0.6937 - accuracy: 0.4997\n",
            "Epoch 117/200\n",
            "32/32 [==============================] - 0s 3ms/step - loss: 0.6939 - accuracy: 0.5080\n",
            "Epoch 118/200\n",
            "32/32 [==============================] - 0s 2ms/step - loss: 0.6935 - accuracy: 0.5009\n",
            "Epoch 119/200\n",
            "32/32 [==============================] - 0s 3ms/step - loss: 0.6941 - accuracy: 0.4918\n",
            "Epoch 120/200\n",
            "32/32 [==============================] - 0s 3ms/step - loss: 0.6936 - accuracy: 0.5040\n",
            "Epoch 121/200\n",
            "32/32 [==============================] - 0s 2ms/step - loss: 0.6938 - accuracy: 0.4781\n",
            "Epoch 122/200\n",
            "32/32 [==============================] - 0s 2ms/step - loss: 0.6938 - accuracy: 0.4892\n",
            "Epoch 123/200\n",
            "32/32 [==============================] - 0s 2ms/step - loss: 0.6940 - accuracy: 0.4876\n",
            "Epoch 124/200\n",
            "32/32 [==============================] - 0s 2ms/step - loss: 0.6938 - accuracy: 0.4893\n",
            "Epoch 125/200\n",
            "32/32 [==============================] - 0s 2ms/step - loss: 0.6937 - accuracy: 0.4763\n",
            "Epoch 126/200\n",
            "32/32 [==============================] - 0s 3ms/step - loss: 0.6936 - accuracy: 0.4915\n",
            "Epoch 127/200\n",
            "32/32 [==============================] - 0s 3ms/step - loss: 0.6938 - accuracy: 0.4837\n",
            "Epoch 128/200\n",
            "32/32 [==============================] - 0s 3ms/step - loss: 0.6937 - accuracy: 0.4933\n",
            "Epoch 129/200\n",
            "32/32 [==============================] - 0s 3ms/step - loss: 0.6935 - accuracy: 0.4881\n",
            "Epoch 130/200\n",
            "32/32 [==============================] - 0s 3ms/step - loss: 0.6933 - accuracy: 0.5055\n",
            "Epoch 131/200\n",
            "32/32 [==============================] - 0s 3ms/step - loss: 0.6939 - accuracy: 0.4898\n",
            "Epoch 132/200\n",
            "32/32 [==============================] - 0s 3ms/step - loss: 0.6935 - accuracy: 0.4888\n",
            "Epoch 133/200\n",
            "32/32 [==============================] - 0s 3ms/step - loss: 0.6937 - accuracy: 0.4900\n",
            "Epoch 134/200\n",
            "32/32 [==============================] - 0s 2ms/step - loss: 0.6940 - accuracy: 0.4737\n",
            "Epoch 135/200\n",
            "32/32 [==============================] - 0s 3ms/step - loss: 0.6937 - accuracy: 0.4871\n",
            "Epoch 136/200\n",
            "32/32 [==============================] - 0s 3ms/step - loss: 0.6939 - accuracy: 0.4928\n",
            "Epoch 137/200\n",
            "32/32 [==============================] - 0s 3ms/step - loss: 0.6938 - accuracy: 0.4972\n",
            "Epoch 138/200\n",
            "32/32 [==============================] - 0s 3ms/step - loss: 0.6937 - accuracy: 0.4964\n",
            "Epoch 139/200\n",
            "32/32 [==============================] - 0s 3ms/step - loss: 0.6937 - accuracy: 0.4829\n",
            "Epoch 140/200\n",
            "32/32 [==============================] - 0s 3ms/step - loss: 0.6936 - accuracy: 0.4828\n",
            "Epoch 141/200\n",
            "32/32 [==============================] - 0s 3ms/step - loss: 0.6937 - accuracy: 0.4881\n",
            "Epoch 142/200\n",
            "32/32 [==============================] - 0s 3ms/step - loss: 0.6937 - accuracy: 0.4877\n",
            "Epoch 143/200\n",
            "32/32 [==============================] - 0s 2ms/step - loss: 0.6937 - accuracy: 0.4982\n",
            "Epoch 144/200\n",
            "32/32 [==============================] - 0s 2ms/step - loss: 0.6937 - accuracy: 0.4746\n",
            "Epoch 145/200\n",
            "32/32 [==============================] - 0s 2ms/step - loss: 0.6936 - accuracy: 0.5040\n",
            "Epoch 146/200\n",
            "32/32 [==============================] - 0s 2ms/step - loss: 0.6940 - accuracy: 0.4794\n",
            "Epoch 147/200\n",
            "32/32 [==============================] - 0s 2ms/step - loss: 0.6937 - accuracy: 0.5020\n",
            "Epoch 148/200\n",
            "32/32 [==============================] - 0s 2ms/step - loss: 0.6939 - accuracy: 0.4876\n",
            "Epoch 149/200\n",
            "32/32 [==============================] - 0s 2ms/step - loss: 0.6937 - accuracy: 0.4822\n",
            "Epoch 150/200\n",
            "32/32 [==============================] - 0s 2ms/step - loss: 0.6937 - accuracy: 0.4862\n",
            "Epoch 151/200\n",
            "32/32 [==============================] - 0s 2ms/step - loss: 0.6935 - accuracy: 0.4991\n",
            "Epoch 152/200\n",
            "32/32 [==============================] - 0s 2ms/step - loss: 0.6936 - accuracy: 0.5000\n",
            "Epoch 153/200\n",
            "32/32 [==============================] - 0s 2ms/step - loss: 0.6936 - accuracy: 0.4980\n",
            "Epoch 154/200\n",
            "32/32 [==============================] - 0s 2ms/step - loss: 0.6933 - accuracy: 0.5020\n",
            "Epoch 155/200\n",
            "32/32 [==============================] - 0s 2ms/step - loss: 0.6939 - accuracy: 0.4969\n",
            "Epoch 156/200\n",
            "32/32 [==============================] - 0s 2ms/step - loss: 0.6939 - accuracy: 0.4703\n",
            "Epoch 157/200\n",
            "32/32 [==============================] - 0s 2ms/step - loss: 0.6940 - accuracy: 0.4933\n",
            "Epoch 158/200\n",
            "32/32 [==============================] - 0s 2ms/step - loss: 0.6936 - accuracy: 0.4970\n",
            "Epoch 159/200\n",
            "32/32 [==============================] - 0s 2ms/step - loss: 0.6937 - accuracy: 0.4880\n",
            "Epoch 160/200\n",
            "32/32 [==============================] - 0s 2ms/step - loss: 0.6938 - accuracy: 0.4940\n",
            "Epoch 161/200\n",
            "32/32 [==============================] - 0s 2ms/step - loss: 0.6936 - accuracy: 0.4860\n",
            "Epoch 162/200\n",
            "32/32 [==============================] - 0s 2ms/step - loss: 0.6939 - accuracy: 0.4951\n",
            "Epoch 163/200\n",
            "32/32 [==============================] - 0s 2ms/step - loss: 0.6940 - accuracy: 0.4943\n",
            "Epoch 164/200\n",
            "32/32 [==============================] - 0s 2ms/step - loss: 0.6937 - accuracy: 0.4900\n",
            "Epoch 165/200\n",
            "32/32 [==============================] - 0s 2ms/step - loss: 0.6936 - accuracy: 0.4999\n",
            "Epoch 166/200\n",
            "32/32 [==============================] - 0s 2ms/step - loss: 0.6936 - accuracy: 0.4775\n",
            "Epoch 167/200\n",
            "32/32 [==============================] - 0s 2ms/step - loss: 0.6940 - accuracy: 0.4940\n",
            "Epoch 168/200\n",
            "32/32 [==============================] - 0s 2ms/step - loss: 0.6936 - accuracy: 0.4865\n",
            "Epoch 169/200\n",
            "32/32 [==============================] - 0s 2ms/step - loss: 0.6935 - accuracy: 0.4938\n",
            "Epoch 170/200\n",
            "32/32 [==============================] - 0s 2ms/step - loss: 0.6934 - accuracy: 0.4922\n",
            "Epoch 171/200\n",
            "32/32 [==============================] - 0s 2ms/step - loss: 0.6936 - accuracy: 0.4948\n",
            "Epoch 172/200\n",
            "32/32 [==============================] - 0s 2ms/step - loss: 0.6937 - accuracy: 0.4719\n",
            "Epoch 173/200\n",
            "32/32 [==============================] - 0s 2ms/step - loss: 0.6937 - accuracy: 0.4936\n",
            "Epoch 174/200\n",
            "32/32 [==============================] - 0s 2ms/step - loss: 0.6937 - accuracy: 0.4996\n",
            "Epoch 175/200\n",
            "32/32 [==============================] - 0s 2ms/step - loss: 0.6940 - accuracy: 0.4819\n",
            "Epoch 176/200\n",
            "32/32 [==============================] - 0s 2ms/step - loss: 0.6937 - accuracy: 0.4920\n",
            "Epoch 177/200\n",
            "32/32 [==============================] - 0s 2ms/step - loss: 0.6938 - accuracy: 0.4657\n",
            "Epoch 178/200\n",
            "32/32 [==============================] - 0s 2ms/step - loss: 0.6936 - accuracy: 0.4906\n",
            "Epoch 179/200\n",
            "32/32 [==============================] - 0s 2ms/step - loss: 0.6938 - accuracy: 0.4878\n",
            "Epoch 180/200\n",
            "32/32 [==============================] - 0s 2ms/step - loss: 0.6936 - accuracy: 0.4847\n",
            "Epoch 181/200\n",
            "32/32 [==============================] - 0s 2ms/step - loss: 0.6937 - accuracy: 0.4611\n",
            "Epoch 182/200\n",
            "32/32 [==============================] - 0s 3ms/step - loss: 0.6937 - accuracy: 0.4700\n",
            "Epoch 183/200\n",
            "32/32 [==============================] - 0s 2ms/step - loss: 0.6938 - accuracy: 0.4882\n",
            "Epoch 184/200\n",
            "32/32 [==============================] - 0s 2ms/step - loss: 0.6939 - accuracy: 0.4754\n",
            "Epoch 185/200\n",
            "32/32 [==============================] - 0s 2ms/step - loss: 0.6939 - accuracy: 0.4875\n",
            "Epoch 186/200\n",
            "32/32 [==============================] - 0s 2ms/step - loss: 0.6942 - accuracy: 0.4634\n",
            "Epoch 187/200\n",
            "32/32 [==============================] - 0s 2ms/step - loss: 0.6937 - accuracy: 0.4896\n",
            "Epoch 188/200\n",
            "32/32 [==============================] - 0s 2ms/step - loss: 0.6940 - accuracy: 0.4682\n",
            "Epoch 189/200\n",
            "32/32 [==============================] - 0s 2ms/step - loss: 0.6936 - accuracy: 0.5039\n",
            "Epoch 190/200\n",
            "32/32 [==============================] - 0s 2ms/step - loss: 0.6938 - accuracy: 0.4960\n",
            "Epoch 191/200\n",
            "32/32 [==============================] - 0s 2ms/step - loss: 0.6937 - accuracy: 0.4906\n",
            "Epoch 192/200\n",
            "32/32 [==============================] - 0s 2ms/step - loss: 0.6935 - accuracy: 0.4916\n",
            "Epoch 193/200\n",
            "32/32 [==============================] - 0s 2ms/step - loss: 0.6933 - accuracy: 0.4985\n",
            "Epoch 194/200\n",
            "32/32 [==============================] - 0s 2ms/step - loss: 0.6936 - accuracy: 0.4898\n",
            "Epoch 195/200\n",
            "32/32 [==============================] - 0s 3ms/step - loss: 0.6936 - accuracy: 0.4780\n",
            "Epoch 196/200\n",
            "32/32 [==============================] - 0s 2ms/step - loss: 0.6939 - accuracy: 0.4839\n",
            "Epoch 197/200\n",
            "32/32 [==============================] - 0s 2ms/step - loss: 0.6937 - accuracy: 0.4920\n",
            "Epoch 198/200\n",
            "32/32 [==============================] - 0s 2ms/step - loss: 0.6936 - accuracy: 0.4956\n",
            "Epoch 199/200\n",
            "32/32 [==============================] - 0s 2ms/step - loss: 0.6932 - accuracy: 0.5103\n",
            "Epoch 200/200\n",
            "32/32 [==============================] - 0s 2ms/step - loss: 0.6936 - accuracy: 0.4940\n",
            "32/32 [==============================] - 0s 2ms/step - loss: 0.6935 - accuracy: 0.5000\n"
          ]
        },
        {
          "output_type": "execute_result",
          "data": {
            "text/plain": [
              "[0.6934650540351868, 0.5]"
            ]
          },
          "metadata": {},
          "execution_count": 48
        }
      ]
    },
    {
      "cell_type": "code",
      "source": [
        "tf.random.set_seed(42)\n",
        "\n",
        "# Model Oluşturma\n",
        "model_2 = tf.keras.Sequential([\n",
        "    tf.keras.layers.Dense(1),\n",
        "    tf.keras.layers.Dense(1)\n",
        "])\n",
        "\n",
        "# Modeli Compile Etme\n",
        "model_2.compile(loss=tf.keras.losses.BinaryCrossentropy(),\n",
        "                optimizer=tf.keras.optimizers.SGD(),\n",
        "                metrics=[\"accuracy\"])\n",
        "\n",
        "# Modeli Fit Etme\n",
        "model_2.fit(tf.expand_dims(X, axis=-1), y, epochs=100, verbose=0)"
      ],
      "metadata": {
        "colab": {
          "base_uri": "https://localhost:8080/"
        },
        "id": "QalLyQutLOhC",
        "outputId": "2aa15e9c-f4e4-4202-9f2a-f2df9cf28989"
      },
      "execution_count": 50,
      "outputs": [
        {
          "output_type": "execute_result",
          "data": {
            "text/plain": [
              "<keras.src.callbacks.History at 0x77ff0c790fd0>"
            ]
          },
          "metadata": {},
          "execution_count": 50
        }
      ]
    },
    {
      "cell_type": "code",
      "source": [
        "# Modeli Evaluate etme\n",
        "model_2.evaluate(X,y)"
      ],
      "metadata": {
        "colab": {
          "base_uri": "https://localhost:8080/"
        },
        "id": "l-etcLxeQYnt",
        "outputId": "9ec5c78b-2c03-4665-8993-d96de7be6cdd"
      },
      "execution_count": 51,
      "outputs": [
        {
          "output_type": "stream",
          "name": "stdout",
          "text": [
            "32/32 [==============================] - 1s 6ms/step - loss: 0.6932 - accuracy: 0.5000\n"
          ]
        },
        {
          "output_type": "execute_result",
          "data": {
            "text/plain": [
              "[0.6932451725006104, 0.5]"
            ]
          },
          "metadata": {},
          "execution_count": 51
        }
      ]
    },
    {
      "cell_type": "code",
      "source": [
        "circles[\"label\"].value_counts()"
      ],
      "metadata": {
        "colab": {
          "base_uri": "https://localhost:8080/"
        },
        "id": "oRn2VdN2Qh6t",
        "outputId": "00ade668-c126-4171-c1ba-6fe23baedd59"
      },
      "execution_count": 52,
      "outputs": [
        {
          "output_type": "execute_result",
          "data": {
            "text/plain": [
              "1    500\n",
              "0    500\n",
              "Name: label, dtype: int64"
            ]
          },
          "metadata": {},
          "execution_count": 52
        }
      ]
    },
    {
      "cell_type": "markdown",
      "source": [
        "#Modeli Geliştirme"
      ],
      "metadata": {
        "id": "uuzekO9MRApd"
      }
    },
    {
      "cell_type": "code",
      "source": [
        "tf.random.set_seed(42)\n",
        "\n",
        "# Model Oluşturma\n",
        "model_3 = tf.keras.Sequential([\n",
        "  tf.keras.layers.Dense(100),\n",
        "  tf.keras.layers.Dense(10),\n",
        "  tf.keras.layers.Dense(1)\n",
        "])\n",
        "\n",
        "# Modeli Compile Etme\n",
        "model_3.compile(loss=tf.keras.losses.BinaryCrossentropy(),\n",
        "                optimizer=tf.keras.optimizers.Adam(),\n",
        "                metrics=[\"accuracy\"])\n",
        "\n",
        "# Modeli Fit Etme\n",
        "model_3.fit(tf.expand_dims(X, axis=-1),y , epochs=100, verbose=0)\n",
        "\n"
      ],
      "metadata": {
        "colab": {
          "base_uri": "https://localhost:8080/"
        },
        "id": "MOUxgXuwRDm_",
        "outputId": "3522b3da-3423-4908-acf8-da6f12388021"
      },
      "execution_count": 54,
      "outputs": [
        {
          "output_type": "execute_result",
          "data": {
            "text/plain": [
              "<keras.src.callbacks.History at 0x77ff0c791e70>"
            ]
          },
          "metadata": {},
          "execution_count": 54
        }
      ]
    },
    {
      "cell_type": "code",
      "source": [
        "# Modeli Evaluate etme\n",
        "model_3.evaluate(X,y)"
      ],
      "metadata": {
        "colab": {
          "base_uri": "https://localhost:8080/"
        },
        "id": "DXnjTWX5XbgA",
        "outputId": "f6245e0b-2c55-4328-ffd5-ed467f7b4cae"
      },
      "execution_count": 55,
      "outputs": [
        {
          "output_type": "stream",
          "name": "stdout",
          "text": [
            "32/32 [==============================] - 0s 3ms/step - loss: 0.6940 - accuracy: 0.5000\n"
          ]
        },
        {
          "output_type": "execute_result",
          "data": {
            "text/plain": [
              "[0.6939627528190613, 0.5]"
            ]
          },
          "metadata": {},
          "execution_count": 55
        }
      ]
    },
    {
      "cell_type": "code",
      "source": [
        "model_3.predict(X)"
      ],
      "metadata": {
        "colab": {
          "base_uri": "https://localhost:8080/"
        },
        "id": "AyG1iPSIXlwa",
        "outputId": "dc36901e-edf8-409b-a809-044dafd1abab"
      },
      "execution_count": 57,
      "outputs": [
        {
          "output_type": "stream",
          "name": "stdout",
          "text": [
            "32/32 [==============================] - 1s 5ms/step\n"
          ]
        },
        {
          "output_type": "execute_result",
          "data": {
            "text/plain": [
              "array([[[0.5207089 ],\n",
              "        [0.5203159 ]],\n",
              "\n",
              "       [[0.5195733 ],\n",
              "        [0.5202571 ]],\n",
              "\n",
              "       [[0.51952875],\n",
              "        [0.5202721 ]],\n",
              "\n",
              "       ...,\n",
              "\n",
              "       [[0.5200389 ],\n",
              "        [0.51953274]],\n",
              "\n",
              "       [[0.52064586],\n",
              "        [0.5195647 ]],\n",
              "\n",
              "       [[0.5203532 ],\n",
              "        [0.5208665 ]]], dtype=float32)"
            ]
          },
          "metadata": {},
          "execution_count": 57
        }
      ]
    },
    {
      "cell_type": "markdown",
      "source": [
        "Tahminleri görselleştirmek için fonksiyon oluşturma"
      ],
      "metadata": {
        "id": "To3nD1JaYWqN"
      }
    },
    {
      "cell_type": "code",
      "source": [
        "import numpy as np\n",
        "\n",
        "def plot_decision_boundary(model, X, y):\n",
        "\n",
        "  # Define the axis boundaries of the plot and create a meshgrid\n",
        "  x_min, x_max = X[:, 0].min() - 0.1, X[:, 0].max() + 0.1\n",
        "  y_min, y_max = X[:, 1].min() - 0.1, X[:, 1].max() + 0.1\n",
        "  xx, yy = np.meshgrid(np.linspace(x_min, x_max, 100),\n",
        "                       np.linspace(y_min, y_max, 100))\n",
        "\n",
        "  # Create X values (we're going to predict on all of these)\n",
        "  x_in = np.c_[xx.ravel(), yy.ravel()] # stack 2D arrays together: https://numpy.org/devdocs/reference/generated/numpy.c_.html\n",
        "\n",
        "  # Make predictions using the trained model\n",
        "  y_pred = model.predict(x_in)\n",
        "\n",
        "  # Check for multi-class\n",
        "  if model.output_shape[-1] > 1: # checks the final dimension of the model's output shape, if this is > (greater than) 1, it's multi-class\n",
        "    print(\"doing multiclass classification...\")\n",
        "    # We have to reshape our predictions to get them ready for plotting\n",
        "    y_pred = np.argmax(y_pred, axis=1).reshape(xx.shape)\n",
        "  else:\n",
        "    print(\"doing binary classifcation...\")\n",
        "    y_pred = np.round(np.max(y_pred, axis=1)).reshape(xx.shape)\n",
        "\n",
        "  # Plot decision boundary\n",
        "  plt.contourf(xx, yy, y_pred, cmap=plt.cm.RdYlBu, alpha=0.7)\n",
        "  plt.scatter(X[:, 0], X[:, 1], c=y, s=40, cmap=plt.cm.RdYlBu)\n",
        "  plt.xlim(xx.min(), xx.max())\n",
        "  plt.ylim(yy.min(), yy.max())"
      ],
      "metadata": {
        "id": "w7KkNmTWYw03"
      },
      "execution_count": 78,
      "outputs": []
    },
    {
      "cell_type": "code",
      "source": [
        "# Tahminleri Kontrol Etm\n",
        "plot_decision_boundary(model_3, X, y)"
      ],
      "metadata": {
        "colab": {
          "base_uri": "https://localhost:8080/",
          "height": 465
        },
        "id": "3pp5TH7Pows0",
        "outputId": "b023218f-2caa-4280-fec2-d1f5cbb857eb"
      },
      "execution_count": 79,
      "outputs": [
        {
          "output_type": "stream",
          "name": "stdout",
          "text": [
            "313/313 [==============================] - 1s 2ms/step\n",
            "doing binary classifcation...\n"
          ]
        },
        {
          "output_type": "display_data",
          "data": {
            "text/plain": [
              "<Figure size 640x480 with 1 Axes>"
            ],
            "image/png": "[encoded data removed]"
          },
          "metadata": {}
        }
      ]
    },
    {
      "cell_type": "code",
      "source": [
        "tf.random.set_seed(42)\n",
        "\n",
        "# Regression veri Oluşturma\n",
        "X_regression = tf.range(0, 1000, 5)\n",
        "y_regression = tf.range(100, 1100, 5)\n",
        "\n",
        "X_regression, y_regression\n",
        "\n",
        "# Veriyi eğitim ve test verisine bölme\n",
        "X_reg_train = X_regression[:150]\n",
        "X_reg_test = X_regression[150:]\n",
        "y_reg_train = y_regression[:150]\n",
        "y_reg_test = y_regression[150:]\n",
        "\n",
        "# Modeli regression data ile fit etme\n",
        "model_3.fit(tf.expand_dims(X_reg_train, axis=-1), y_reg_train, epochs=100)"
      ],
      "metadata": {
        "colab": {
          "base_uri": "https://localhost:8080/"
        },
        "id": "AT5tCmnpp7QX",
        "outputId": "2b24e118-b8d4-433c-8d5b-3d37ef2af456"
      },
      "execution_count": 82,
      "outputs": [
        {
          "output_type": "stream",
          "name": "stdout",
          "text": [
            "Epoch 1/100\n",
            "5/5 [==============================] - 1s 5ms/step - loss: -5965.8643 - accuracy: 0.0000e+00\n",
            "Epoch 2/100\n",
            "5/5 [==============================] - 0s 5ms/step - loss: -7144.9590 - accuracy: 0.0000e+00\n",
            "Epoch 3/100\n",
            "5/5 [==============================] - 0s 4ms/step - loss: -7152.6719 - accuracy: 0.0000e+00\n",
            "Epoch 4/100\n",
            "5/5 [==============================] - 0s 4ms/step - loss: -7152.8076 - accuracy: 0.0000e+00\n",
            "Epoch 5/100\n",
            "5/5 [==============================] - 0s 5ms/step - loss: -7190.0156 - accuracy: 0.0000e+00\n",
            "Epoch 6/100\n",
            "5/5 [==============================] - 0s 4ms/step - loss: -7190.0156 - accuracy: 0.0000e+00\n",
            "Epoch 7/100\n",
            "5/5 [==============================] - 0s 5ms/step - loss: -7190.0156 - accuracy: 0.0000e+00\n",
            "Epoch 8/100\n",
            "5/5 [==============================] - 0s 4ms/step - loss: -7190.0156 - accuracy: 0.0000e+00\n",
            "Epoch 9/100\n",
            "5/5 [==============================] - 0s 7ms/step - loss: -7190.0151 - accuracy: 0.0000e+00\n",
            "Epoch 10/100\n",
            "5/5 [==============================] - 0s 4ms/step - loss: -7190.0156 - accuracy: 0.0000e+00\n",
            "Epoch 11/100\n",
            "5/5 [==============================] - 0s 4ms/step - loss: -7190.0156 - accuracy: 0.0000e+00\n",
            "Epoch 12/100\n",
            "5/5 [==============================] - 0s 4ms/step - loss: -7190.0156 - accuracy: 0.0000e+00\n",
            "Epoch 13/100\n",
            "5/5 [==============================] - 0s 6ms/step - loss: -7190.0156 - accuracy: 0.0000e+00\n",
            "Epoch 14/100\n",
            "5/5 [==============================] - 0s 4ms/step - loss: -7190.0156 - accuracy: 0.0000e+00\n",
            "Epoch 15/100\n",
            "5/5 [==============================] - 0s 5ms/step - loss: -7190.0156 - accuracy: 0.0000e+00\n",
            "Epoch 16/100\n",
            "5/5 [==============================] - 0s 5ms/step - loss: -7190.0156 - accuracy: 0.0000e+00\n",
            "Epoch 17/100\n",
            "5/5 [==============================] - 0s 4ms/step - loss: -7190.0156 - accuracy: 0.0000e+00\n",
            "Epoch 18/100\n",
            "5/5 [==============================] - 0s 4ms/step - loss: -7190.0151 - accuracy: 0.0000e+00\n",
            "Epoch 19/100\n",
            "5/5 [==============================] - 0s 4ms/step - loss: -7190.0151 - accuracy: 0.0000e+00\n",
            "Epoch 20/100\n",
            "5/5 [==============================] - 0s 4ms/step - loss: -7190.0166 - accuracy: 0.0000e+00\n",
            "Epoch 21/100\n",
            "5/5 [==============================] - 0s 4ms/step - loss: -7190.0156 - accuracy: 0.0000e+00\n",
            "Epoch 22/100\n",
            "5/5 [==============================] - 0s 4ms/step - loss: -7190.0156 - accuracy: 0.0000e+00\n",
            "Epoch 23/100\n",
            "5/5 [==============================] - 0s 4ms/step - loss: -7190.0156 - accuracy: 0.0000e+00\n",
            "Epoch 24/100\n",
            "5/5 [==============================] - 0s 4ms/step - loss: -7190.0151 - accuracy: 0.0000e+00\n",
            "Epoch 25/100\n",
            "5/5 [==============================] - 0s 4ms/step - loss: -7190.0156 - accuracy: 0.0000e+00\n",
            "Epoch 26/100\n",
            "5/5 [==============================] - 0s 4ms/step - loss: -7190.0156 - accuracy: 0.0000e+00\n",
            "Epoch 27/100\n",
            "5/5 [==============================] - 0s 5ms/step - loss: -7190.0151 - accuracy: 0.0000e+00\n",
            "Epoch 28/100\n",
            "5/5 [==============================] - 0s 7ms/step - loss: -7190.0156 - accuracy: 0.0000e+00\n",
            "Epoch 29/100\n",
            "5/5 [==============================] - 0s 5ms/step - loss: -7190.0156 - accuracy: 0.0000e+00\n",
            "Epoch 30/100\n",
            "5/5 [==============================] - 0s 5ms/step - loss: -7190.0156 - accuracy: 0.0000e+00\n",
            "Epoch 31/100\n",
            "5/5 [==============================] - 0s 4ms/step - loss: -7190.0156 - accuracy: 0.0000e+00\n",
            "Epoch 32/100\n",
            "5/5 [==============================] - 0s 5ms/step - loss: -7190.0156 - accuracy: 0.0000e+00\n",
            "Epoch 33/100\n",
            "5/5 [==============================] - 0s 5ms/step - loss: -7190.0156 - accuracy: 0.0000e+00\n",
            "Epoch 34/100\n",
            "5/5 [==============================] - 0s 3ms/step - loss: -7190.0156 - accuracy: 0.0000e+00\n",
            "Epoch 35/100\n",
            "5/5 [==============================] - 0s 4ms/step - loss: -7190.0156 - accuracy: 0.0000e+00\n",
            "Epoch 36/100\n",
            "5/5 [==============================] - 0s 5ms/step - loss: -7190.0151 - accuracy: 0.0000e+00\n",
            "Epoch 37/100\n",
            "5/5 [==============================] - 0s 4ms/step - loss: -7190.0156 - accuracy: 0.0000e+00\n",
            "Epoch 38/100\n",
            "5/5 [==============================] - 0s 4ms/step - loss: -7190.0156 - accuracy: 0.0000e+00\n",
            "Epoch 39/100\n",
            "5/5 [==============================] - 0s 7ms/step - loss: -7190.0151 - accuracy: 0.0000e+00\n",
            "Epoch 40/100\n",
            "5/5 [==============================] - 0s 5ms/step - loss: -7190.0151 - accuracy: 0.0000e+00\n",
            "Epoch 41/100\n",
            "5/5 [==============================] - 0s 4ms/step - loss: -7190.0156 - accuracy: 0.0000e+00\n",
            "Epoch 42/100\n",
            "5/5 [==============================] - 0s 4ms/step - loss: -7190.0156 - accuracy: 0.0000e+00\n",
            "Epoch 43/100\n",
            "5/5 [==============================] - 0s 5ms/step - loss: -7190.0156 - accuracy: 0.0000e+00\n",
            "Epoch 44/100\n",
            "5/5 [==============================] - 0s 3ms/step - loss: -7190.0156 - accuracy: 0.0000e+00\n",
            "Epoch 45/100\n",
            "5/5 [==============================] - 0s 5ms/step - loss: -7190.0156 - accuracy: 0.0000e+00\n",
            "Epoch 46/100\n",
            "5/5 [==============================] - 0s 5ms/step - loss: -7190.0156 - accuracy: 0.0000e+00\n",
            "Epoch 47/100\n",
            "5/5 [==============================] - 0s 4ms/step - loss: -7190.0156 - accuracy: 0.0000e+00\n",
            "Epoch 48/100\n",
            "5/5 [==============================] - 0s 5ms/step - loss: -7190.0156 - accuracy: 0.0000e+00\n",
            "Epoch 49/100\n",
            "5/5 [==============================] - 0s 5ms/step - loss: -7190.0156 - accuracy: 0.0000e+00\n",
            "Epoch 50/100\n",
            "5/5 [==============================] - 0s 4ms/step - loss: -7190.0156 - accuracy: 0.0000e+00\n",
            "Epoch 51/100\n",
            "5/5 [==============================] - 0s 4ms/step - loss: -7190.0156 - accuracy: 0.0000e+00\n",
            "Epoch 52/100\n",
            "5/5 [==============================] - 0s 5ms/step - loss: -7190.0151 - accuracy: 0.0000e+00\n",
            "Epoch 53/100\n",
            "5/5 [==============================] - 0s 4ms/step - loss: -7190.0156 - accuracy: 0.0000e+00\n",
            "Epoch 54/100\n",
            "5/5 [==============================] - 0s 4ms/step - loss: -7190.0156 - accuracy: 0.0000e+00\n",
            "Epoch 55/100\n",
            "5/5 [==============================] - 0s 4ms/step - loss: -7190.0156 - accuracy: 0.0000e+00\n",
            "Epoch 56/100\n",
            "5/5 [==============================] - 0s 4ms/step - loss: -7190.0156 - accuracy: 0.0000e+00\n",
            "Epoch 57/100\n",
            "5/5 [==============================] - 0s 5ms/step - loss: -7190.0156 - accuracy: 0.0000e+00\n",
            "Epoch 58/100\n",
            "5/5 [==============================] - 0s 4ms/step - loss: -7190.0156 - accuracy: 0.0000e+00\n",
            "Epoch 59/100\n",
            "5/5 [==============================] - 0s 4ms/step - loss: -7190.0156 - accuracy: 0.0000e+00\n",
            "Epoch 60/100\n",
            "5/5 [==============================] - 0s 4ms/step - loss: -7190.0156 - accuracy: 0.0000e+00\n",
            "Epoch 61/100\n",
            "5/5 [==============================] - 0s 4ms/step - loss: -7190.0156 - accuracy: 0.0000e+00\n",
            "Epoch 62/100\n",
            "5/5 [==============================] - 0s 5ms/step - loss: -7190.0151 - accuracy: 0.0000e+00\n",
            "Epoch 63/100\n",
            "5/5 [==============================] - 0s 4ms/step - loss: -7190.0156 - accuracy: 0.0000e+00\n",
            "Epoch 64/100\n",
            "5/5 [==============================] - 0s 4ms/step - loss: -7190.0156 - accuracy: 0.0000e+00\n",
            "Epoch 65/100\n",
            "5/5 [==============================] - 0s 3ms/step - loss: -7190.0156 - accuracy: 0.0000e+00\n",
            "Epoch 66/100\n",
            "5/5 [==============================] - 0s 4ms/step - loss: -7190.0156 - accuracy: 0.0000e+00\n",
            "Epoch 67/100\n",
            "5/5 [==============================] - 0s 4ms/step - loss: -7190.0156 - accuracy: 0.0000e+00\n",
            "Epoch 68/100\n",
            "5/5 [==============================] - 0s 4ms/step - loss: -7190.0156 - accuracy: 0.0000e+00\n",
            "Epoch 69/100\n",
            "5/5 [==============================] - 0s 4ms/step - loss: -7190.0156 - accuracy: 0.0000e+00\n",
            "Epoch 70/100\n",
            "5/5 [==============================] - 0s 4ms/step - loss: -7190.0156 - accuracy: 0.0000e+00\n",
            "Epoch 71/100\n",
            "5/5 [==============================] - 0s 5ms/step - loss: -7190.0156 - accuracy: 0.0000e+00\n",
            "Epoch 72/100\n",
            "5/5 [==============================] - 0s 4ms/step - loss: -7190.0156 - accuracy: 0.0000e+00\n",
            "Epoch 73/100\n",
            "5/5 [==============================] - 0s 5ms/step - loss: -7190.0156 - accuracy: 0.0000e+00\n",
            "Epoch 74/100\n",
            "5/5 [==============================] - 0s 8ms/step - loss: -7190.0151 - accuracy: 0.0000e+00\n",
            "Epoch 75/100\n",
            "5/5 [==============================] - 0s 6ms/step - loss: -7190.0156 - accuracy: 0.0000e+00\n",
            "Epoch 76/100\n",
            "5/5 [==============================] - 0s 4ms/step - loss: -7190.0156 - accuracy: 0.0000e+00\n",
            "Epoch 77/100\n",
            "5/5 [==============================] - 0s 5ms/step - loss: -7190.0156 - accuracy: 0.0000e+00\n",
            "Epoch 78/100\n",
            "5/5 [==============================] - 0s 6ms/step - loss: -7190.0156 - accuracy: 0.0000e+00\n",
            "Epoch 79/100\n",
            "5/5 [==============================] - 0s 5ms/step - loss: -7190.0156 - accuracy: 0.0000e+00\n",
            "Epoch 80/100\n",
            "5/5 [==============================] - 0s 6ms/step - loss: -7190.0151 - accuracy: 0.0000e+00\n",
            "Epoch 81/100\n",
            "5/5 [==============================] - 0s 4ms/step - loss: -7190.0156 - accuracy: 0.0000e+00\n",
            "Epoch 82/100\n",
            "5/5 [==============================] - 0s 4ms/step - loss: -7190.0156 - accuracy: 0.0000e+00\n",
            "Epoch 83/100\n",
            "5/5 [==============================] - 0s 4ms/step - loss: -7190.0156 - accuracy: 0.0000e+00\n",
            "Epoch 84/100\n",
            "5/5 [==============================] - 0s 4ms/step - loss: -7190.0156 - accuracy: 0.0000e+00\n",
            "Epoch 85/100\n",
            "5/5 [==============================] - 0s 5ms/step - loss: -7190.0166 - accuracy: 0.0000e+00\n",
            "Epoch 86/100\n",
            "5/5 [==============================] - 0s 4ms/step - loss: -7190.0156 - accuracy: 0.0000e+00\n",
            "Epoch 87/100\n",
            "5/5 [==============================] - 0s 5ms/step - loss: -7190.0156 - accuracy: 0.0000e+00\n",
            "Epoch 88/100\n",
            "5/5 [==============================] - 0s 5ms/step - loss: -7190.0156 - accuracy: 0.0000e+00\n",
            "Epoch 89/100\n",
            "5/5 [==============================] - 0s 5ms/step - loss: -7190.0156 - accuracy: 0.0000e+00\n",
            "Epoch 90/100\n",
            "5/5 [==============================] - 0s 4ms/step - loss: -7190.0156 - accuracy: 0.0000e+00\n",
            "Epoch 91/100\n",
            "5/5 [==============================] - 0s 4ms/step - loss: -7190.0151 - accuracy: 0.0000e+00\n",
            "Epoch 92/100\n",
            "5/5 [==============================] - 0s 5ms/step - loss: -7190.0156 - accuracy: 0.0000e+00\n",
            "Epoch 93/100\n",
            "5/5 [==============================] - 0s 4ms/step - loss: -7190.0156 - accuracy: 0.0000e+00\n",
            "Epoch 94/100\n",
            "5/5 [==============================] - 0s 5ms/step - loss: -7190.0156 - accuracy: 0.0000e+00\n",
            "Epoch 95/100\n",
            "5/5 [==============================] - 0s 5ms/step - loss: -7190.0156 - accuracy: 0.0000e+00\n",
            "Epoch 96/100\n",
            "5/5 [==============================] - 0s 4ms/step - loss: -7190.0151 - accuracy: 0.0000e+00\n",
            "Epoch 97/100\n",
            "5/5 [==============================] - 0s 4ms/step - loss: -7190.0156 - accuracy: 0.0000e+00\n",
            "Epoch 98/100\n",
            "5/5 [==============================] - 0s 4ms/step - loss: -7190.0151 - accuracy: 0.0000e+00\n",
            "Epoch 99/100\n",
            "5/5 [==============================] - 0s 4ms/step - loss: -7190.0156 - accuracy: 0.0000e+00\n",
            "Epoch 100/100\n",
            "5/5 [==============================] - 0s 4ms/step - loss: -7190.0156 - accuracy: 0.0000e+00\n"
          ]
        },
        {
          "output_type": "execute_result",
          "data": {
            "text/plain": [
              "<keras.src.callbacks.History at 0x77ff0c5e25c0>"
            ]
          },
          "metadata": {},
          "execution_count": 82
        }
      ]
    },
    {
      "cell_type": "markdown",
      "source": [
        "Model 3 binary classification problem için hazırlandığı için yukarıda çalışmadı\n"
      ],
      "metadata": {
        "id": "V7uOdyAYso2C"
      }
    },
    {
      "cell_type": "code",
      "source": [
        "tf.random.set_seed(42)\n",
        "\n",
        "model_4 = tf.keras.Sequential([\n",
        "    tf.keras.layers.Dense(100),\n",
        "    tf.keras.layers.Dense(10),\n",
        "    tf.keras.layers.Dense(1)\n",
        "])\n",
        "\n",
        "# Compile\n",
        "model_4.compile(loss=tf.keras.losses.mae,\n",
        "                optimizer=tf.keras.optimizers.Adam(),\n",
        "                metrics=[\"mae\"])\n",
        "\n",
        "# Fit\n",
        "model_4.fit(tf.expand_dims(X_reg_train, axis=-1), y_reg_train, epochs=100)"
      ],
      "metadata": {
        "colab": {
          "base_uri": "https://localhost:8080/"
        },
        "id": "WsmlD6YWgtCl",
        "outputId": "2606ab20-e4c0-41b5-9580-62459cb33f81"
      },
      "execution_count": 85,
      "outputs": [
        {
          "output_type": "stream",
          "name": "stdout",
          "text": [
            "Epoch 1/100\n",
            "5/5 [==============================] - 2s 6ms/step - loss: 228.1861 - mae: 228.1861\n",
            "Epoch 2/100\n",
            "5/5 [==============================] - 0s 8ms/step - loss: 119.9037 - mae: 119.9037\n",
            "Epoch 3/100\n",
            "5/5 [==============================] - 0s 7ms/step - loss: 49.3278 - mae: 49.3278\n",
            "Epoch 4/100\n",
            "5/5 [==============================] - 0s 9ms/step - loss: 74.1528 - mae: 74.1528\n",
            "Epoch 5/100\n",
            "5/5 [==============================] - 0s 9ms/step - loss: 65.1696 - mae: 65.1696\n",
            "Epoch 6/100\n",
            "5/5 [==============================] - 0s 5ms/step - loss: 44.5001 - mae: 44.5001\n",
            "Epoch 7/100\n",
            "5/5 [==============================] - 0s 8ms/step - loss: 46.7751 - mae: 46.7751\n",
            "Epoch 8/100\n",
            "5/5 [==============================] - 0s 8ms/step - loss: 41.7092 - mae: 41.7092\n",
            "Epoch 9/100\n",
            "5/5 [==============================] - 0s 9ms/step - loss: 42.4685 - mae: 42.4685\n",
            "Epoch 10/100\n",
            "5/5 [==============================] - 0s 6ms/step - loss: 41.8157 - mae: 41.8157\n",
            "Epoch 11/100\n",
            "5/5 [==============================] - 0s 9ms/step - loss: 41.7101 - mae: 41.7101\n",
            "Epoch 12/100\n",
            "5/5 [==============================] - 0s 12ms/step - loss: 41.3051 - mae: 41.3051\n",
            "Epoch 13/100\n",
            "5/5 [==============================] - 0s 9ms/step - loss: 41.5535 - mae: 41.5535\n",
            "Epoch 14/100\n",
            "5/5 [==============================] - 0s 10ms/step - loss: 41.4321 - mae: 41.4321\n",
            "Epoch 15/100\n",
            "5/5 [==============================] - 0s 5ms/step - loss: 41.2930 - mae: 41.2930\n",
            "Epoch 16/100\n",
            "5/5 [==============================] - 0s 6ms/step - loss: 41.3242 - mae: 41.3242\n",
            "Epoch 17/100\n",
            "5/5 [==============================] - 0s 8ms/step - loss: 41.3923 - mae: 41.3923\n",
            "Epoch 18/100\n",
            "5/5 [==============================] - 0s 5ms/step - loss: 41.3968 - mae: 41.3968\n",
            "Epoch 19/100\n",
            "5/5 [==============================] - 0s 9ms/step - loss: 41.1308 - mae: 41.1308\n",
            "Epoch 20/100\n",
            "5/5 [==============================] - 0s 11ms/step - loss: 41.2233 - mae: 41.2233\n",
            "Epoch 21/100\n",
            "5/5 [==============================] - 0s 5ms/step - loss: 41.1102 - mae: 41.1102\n",
            "Epoch 22/100\n",
            "5/5 [==============================] - 0s 10ms/step - loss: 41.4421 - mae: 41.4421\n",
            "Epoch 23/100\n",
            "5/5 [==============================] - 0s 5ms/step - loss: 41.1329 - mae: 41.1329\n",
            "Epoch 24/100\n",
            "5/5 [==============================] - 0s 6ms/step - loss: 41.0944 - mae: 41.0944\n",
            "Epoch 25/100\n",
            "5/5 [==============================] - 0s 6ms/step - loss: 40.9940 - mae: 40.9940\n",
            "Epoch 26/100\n",
            "5/5 [==============================] - 0s 5ms/step - loss: 40.9565 - mae: 40.9565\n",
            "Epoch 27/100\n",
            "5/5 [==============================] - 0s 9ms/step - loss: 40.9392 - mae: 40.9392\n",
            "Epoch 28/100\n",
            "5/5 [==============================] - 0s 10ms/step - loss: 41.0687 - mae: 41.0687\n",
            "Epoch 29/100\n",
            "5/5 [==============================] - 0s 7ms/step - loss: 41.0431 - mae: 41.0431\n",
            "Epoch 30/100\n",
            "5/5 [==============================] - 0s 6ms/step - loss: 40.8847 - mae: 40.8847\n",
            "Epoch 31/100\n",
            "5/5 [==============================] - 0s 7ms/step - loss: 41.1759 - mae: 41.1759\n",
            "Epoch 32/100\n",
            "5/5 [==============================] - 0s 5ms/step - loss: 40.9660 - mae: 40.9660\n",
            "Epoch 33/100\n",
            "5/5 [==============================] - 0s 4ms/step - loss: 41.0889 - mae: 41.0889\n",
            "Epoch 34/100\n",
            "5/5 [==============================] - 0s 5ms/step - loss: 41.1492 - mae: 41.1492\n",
            "Epoch 35/100\n",
            "5/5 [==============================] - 0s 17ms/step - loss: 40.5878 - mae: 40.5878\n",
            "Epoch 36/100\n",
            "5/5 [==============================] - 0s 14ms/step - loss: 41.0270 - mae: 41.0270\n",
            "Epoch 37/100\n",
            "5/5 [==============================] - 0s 9ms/step - loss: 40.8078 - mae: 40.8078\n",
            "Epoch 38/100\n",
            "5/5 [==============================] - 0s 9ms/step - loss: 40.3272 - mae: 40.3272\n",
            "Epoch 39/100\n",
            "5/5 [==============================] - 0s 5ms/step - loss: 40.8686 - mae: 40.8686\n",
            "Epoch 40/100\n",
            "5/5 [==============================] - 0s 6ms/step - loss: 40.5459 - mae: 40.5459\n",
            "Epoch 41/100\n",
            "5/5 [==============================] - 0s 5ms/step - loss: 40.4515 - mae: 40.4515\n",
            "Epoch 42/100\n",
            "5/5 [==============================] - 0s 8ms/step - loss: 40.3800 - mae: 40.3800\n",
            "Epoch 43/100\n",
            "5/5 [==============================] - 0s 12ms/step - loss: 40.5435 - mae: 40.5435\n",
            "Epoch 44/100\n",
            "5/5 [==============================] - 0s 5ms/step - loss: 40.2328 - mae: 40.2328\n",
            "Epoch 45/100\n",
            "5/5 [==============================] - 0s 11ms/step - loss: 40.5626 - mae: 40.5626\n",
            "Epoch 46/100\n",
            "5/5 [==============================] - 0s 7ms/step - loss: 40.3945 - mae: 40.3945\n",
            "Epoch 47/100\n",
            "5/5 [==============================] - 0s 7ms/step - loss: 40.5498 - mae: 40.5498\n",
            "Epoch 48/100\n",
            "5/5 [==============================] - 0s 6ms/step - loss: 40.1733 - mae: 40.1733\n",
            "Epoch 49/100\n",
            "5/5 [==============================] - 0s 7ms/step - loss: 40.8343 - mae: 40.8343\n",
            "Epoch 50/100\n",
            "5/5 [==============================] - 0s 6ms/step - loss: 40.1679 - mae: 40.1679\n",
            "Epoch 51/100\n",
            "5/5 [==============================] - 0s 5ms/step - loss: 40.2732 - mae: 40.2732\n",
            "Epoch 52/100\n",
            "5/5 [==============================] - 0s 5ms/step - loss: 40.8050 - mae: 40.8050\n",
            "Epoch 53/100\n",
            "5/5 [==============================] - 0s 4ms/step - loss: 40.7925 - mae: 40.7925\n",
            "Epoch 54/100\n",
            "5/5 [==============================] - 0s 4ms/step - loss: 40.8157 - mae: 40.8157\n",
            "Epoch 55/100\n",
            "5/5 [==============================] - 0s 4ms/step - loss: 40.7955 - mae: 40.7955\n",
            "Epoch 56/100\n",
            "5/5 [==============================] - 0s 5ms/step - loss: 41.7150 - mae: 41.7150\n",
            "Epoch 57/100\n",
            "5/5 [==============================] - 0s 4ms/step - loss: 40.8090 - mae: 40.8090\n",
            "Epoch 58/100\n",
            "5/5 [==============================] - 0s 5ms/step - loss: 40.3257 - mae: 40.3257\n",
            "Epoch 59/100\n",
            "5/5 [==============================] - 0s 5ms/step - loss: 40.5993 - mae: 40.5993\n",
            "Epoch 60/100\n",
            "5/5 [==============================] - 0s 6ms/step - loss: 40.1100 - mae: 40.1100\n",
            "Epoch 61/100\n",
            "5/5 [==============================] - 0s 5ms/step - loss: 39.9863 - mae: 39.9863\n",
            "Epoch 62/100\n",
            "5/5 [==============================] - 0s 7ms/step - loss: 40.5004 - mae: 40.5004\n",
            "Epoch 63/100\n",
            "5/5 [==============================] - 0s 9ms/step - loss: 39.6405 - mae: 39.6405\n",
            "Epoch 64/100\n",
            "5/5 [==============================] - 0s 5ms/step - loss: 39.8065 - mae: 39.8065\n",
            "Epoch 65/100\n",
            "5/5 [==============================] - 0s 5ms/step - loss: 39.8734 - mae: 39.8734\n",
            "Epoch 66/100\n",
            "5/5 [==============================] - 0s 6ms/step - loss: 39.8204 - mae: 39.8204\n",
            "Epoch 67/100\n",
            "5/5 [==============================] - 0s 6ms/step - loss: 39.7139 - mae: 39.7139\n",
            "Epoch 68/100\n",
            "5/5 [==============================] - 0s 6ms/step - loss: 39.6250 - mae: 39.6250\n",
            "Epoch 69/100\n",
            "5/5 [==============================] - 0s 6ms/step - loss: 39.7765 - mae: 39.7765\n",
            "Epoch 70/100\n",
            "5/5 [==============================] - 0s 6ms/step - loss: 40.1327 - mae: 40.1327\n",
            "Epoch 71/100\n",
            "5/5 [==============================] - 0s 5ms/step - loss: 40.3831 - mae: 40.3831\n",
            "Epoch 72/100\n",
            "5/5 [==============================] - 0s 6ms/step - loss: 39.2028 - mae: 39.2028\n",
            "Epoch 73/100\n",
            "5/5 [==============================] - 0s 5ms/step - loss: 39.6195 - mae: 39.6195\n",
            "Epoch 74/100\n",
            "5/5 [==============================] - 0s 5ms/step - loss: 39.2870 - mae: 39.2870\n",
            "Epoch 75/100\n",
            "5/5 [==============================] - 0s 5ms/step - loss: 39.6592 - mae: 39.6592\n",
            "Epoch 76/100\n",
            "5/5 [==============================] - 0s 6ms/step - loss: 39.4009 - mae: 39.4009\n",
            "Epoch 77/100\n",
            "5/5 [==============================] - 0s 5ms/step - loss: 39.1750 - mae: 39.1750\n",
            "Epoch 78/100\n",
            "5/5 [==============================] - 0s 5ms/step - loss: 39.6760 - mae: 39.6760\n",
            "Epoch 79/100\n",
            "5/5 [==============================] - 0s 5ms/step - loss: 39.4340 - mae: 39.4340\n",
            "Epoch 80/100\n",
            "5/5 [==============================] - 0s 5ms/step - loss: 38.7923 - mae: 38.7923\n",
            "Epoch 81/100\n",
            "5/5 [==============================] - 0s 5ms/step - loss: 39.2734 - mae: 39.2734\n",
            "Epoch 82/100\n",
            "5/5 [==============================] - 0s 6ms/step - loss: 39.1552 - mae: 39.1552\n",
            "Epoch 83/100\n",
            "5/5 [==============================] - 0s 8ms/step - loss: 38.9049 - mae: 38.9049\n",
            "Epoch 84/100\n",
            "5/5 [==============================] - 0s 6ms/step - loss: 38.9527 - mae: 38.9527\n",
            "Epoch 85/100\n",
            "5/5 [==============================] - 0s 5ms/step - loss: 38.9149 - mae: 38.9149\n",
            "Epoch 86/100\n",
            "5/5 [==============================] - 0s 6ms/step - loss: 38.8353 - mae: 38.8353\n",
            "Epoch 87/100\n",
            "5/5 [==============================] - 0s 6ms/step - loss: 38.7104 - mae: 38.7104\n",
            "Epoch 88/100\n",
            "5/5 [==============================] - 0s 8ms/step - loss: 38.9232 - mae: 38.9232\n",
            "Epoch 89/100\n",
            "5/5 [==============================] - 0s 10ms/step - loss: 38.5525 - mae: 38.5525\n",
            "Epoch 90/100\n",
            "5/5 [==============================] - 0s 8ms/step - loss: 38.4009 - mae: 38.4009\n",
            "Epoch 91/100\n",
            "5/5 [==============================] - 0s 7ms/step - loss: 38.5410 - mae: 38.5410\n",
            "Epoch 92/100\n",
            "5/5 [==============================] - 0s 6ms/step - loss: 38.2610 - mae: 38.2610\n",
            "Epoch 93/100\n",
            "5/5 [==============================] - 0s 6ms/step - loss: 38.8383 - mae: 38.8383\n",
            "Epoch 94/100\n",
            "5/5 [==============================] - 0s 4ms/step - loss: 38.8194 - mae: 38.8194\n",
            "Epoch 95/100\n",
            "5/5 [==============================] - 0s 5ms/step - loss: 38.3540 - mae: 38.3540\n",
            "Epoch 96/100\n",
            "5/5 [==============================] - 0s 5ms/step - loss: 38.7352 - mae: 38.7352\n",
            "Epoch 97/100\n",
            "5/5 [==============================] - 0s 4ms/step - loss: 38.2496 - mae: 38.2496\n",
            "Epoch 98/100\n",
            "5/5 [==============================] - 0s 6ms/step - loss: 38.7310 - mae: 38.7310\n",
            "Epoch 99/100\n",
            "5/5 [==============================] - 0s 7ms/step - loss: 38.3607 - mae: 38.3607\n",
            "Epoch 100/100\n",
            "5/5 [==============================] - 0s 4ms/step - loss: 38.0225 - mae: 38.0225\n"
          ]
        },
        {
          "output_type": "execute_result",
          "data": {
            "text/plain": [
              "<keras.src.callbacks.History at 0x77ff0c791120>"
            ]
          },
          "metadata": {},
          "execution_count": 85
        }
      ]
    },
    {
      "cell_type": "code",
      "source": [
        "y_reg_preds = model_4.predict(X_reg_test)\n",
        "\n",
        "plt.figure(figsize=(10, 7))\n",
        "plt.scatter(X_reg_train, y_reg_train, c=\"b\", label=\"Training Data\")\n",
        "plt.scatter(X_reg_test, y_reg_test, c=\"g\", label=\"Test Data\")\n",
        "plt.scatter(X_reg_test, y_reg_preds, c=\"r\", label=\"Predictions\")\n",
        "plt.legend();"
      ],
      "metadata": {
        "colab": {
          "base_uri": "https://localhost:8080/",
          "height": 481
        },
        "id": "TSdqmt7ns5Ub",
        "outputId": "07929d92-fe78-47e3-dc83-bdb85764f88c"
      },
      "execution_count": 87,
      "outputs": [
        {
          "output_type": "stream",
          "name": "stdout",
          "text": [
            "2/2 [==============================] - 0s 7ms/step\n"
          ]
        },
        {
          "output_type": "display_data",
          "data": {
            "text/plain": [
              "<Figure size 1000x700 with 1 Axes>"
            ],
            "image/png": "[encoded data removed]"
          },
          "metadata": {}
        }
      ]
    }
  ]
}